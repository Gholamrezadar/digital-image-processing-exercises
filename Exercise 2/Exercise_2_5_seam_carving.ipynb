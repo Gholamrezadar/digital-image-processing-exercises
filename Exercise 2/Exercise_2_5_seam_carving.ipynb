{
 "cells": [
  {
   "cell_type": "markdown",
   "metadata": {},
   "source": [
    "# Exercise 2_5 Digital Image Processing\n",
    "\n",
    "Amirkabir University of Technology\n",
    "\n",
    "Dr. Rahmati\n",
    "\n",
    "by Gholamreza Dar\n",
    "\n",
    "Spring 2022"
   ]
  },
  {
   "cell_type": "markdown",
   "metadata": {},
   "source": [
    "## Imports"
   ]
  },
  {
   "cell_type": "code",
   "execution_count": null,
   "metadata": {},
   "outputs": [],
   "source": [
    "import numpy as np\n",
    "import matplotlib.pyplot as plt\n",
    "import matplotlib\n",
    "import seaborn as sns; sns.set()\n",
    "import cv2\n",
    "from numba import jit, njit\n",
    "import datetime\n",
    "\n",
    "sns.set_style(\"dark\")\n",
    "\n",
    "import logging;\n",
    "logger = logging.getLogger(\"numba\");\n",
    "logger.setLevel(logging.ERROR)\n"
   ]
  },
  {
   "cell_type": "markdown",
   "metadata": {},
   "source": [
    "## Functions"
   ]
  },
  {
   "cell_type": "markdown",
   "metadata": {},
   "source": [
    "### Helpers"
   ]
  },
  {
   "cell_type": "code",
   "execution_count": null,
   "metadata": {},
   "outputs": [],
   "source": [
    "def rgb(img):\n",
    "    return cv2.cvtColor(img, cv2.COLOR_BGR2RGB)\n",
    "\n",
    "def bgr(img):\n",
    "    return cv2.cvtColor(img, cv2.COLOR_RGB2BGR)\n",
    "\n",
    "def gray(img):\n",
    "    return cv2.cvtColor(img, cv2.COLOR_RGB2GRAY)"
   ]
  },
  {
   "cell_type": "code",
   "execution_count": null,
   "metadata": {},
   "outputs": [],
   "source": [
    "def disp(img, title=None, s=10):\n",
    "    plt.figure(figsize=(s,s))\n",
    "    if title is not None:\n",
    "        plt.title(title)\n",
    "    plt.axis('off')\n",
    "    plt.imshow(img, cmap='gray')\n",
    "    plt.show()"
   ]
  },
  {
   "cell_type": "markdown",
   "metadata": {},
   "source": [
    "### Seam Carving"
   ]
  },
  {
   "cell_type": "markdown",
   "metadata": {},
   "source": [
    "#### Utility Functions"
   ]
  },
  {
   "cell_type": "code",
   "execution_count": null,
   "metadata": {},
   "outputs": [],
   "source": [
    "def calculate_energy_map(image, mask=None):\n",
    "    \"\"\" Calculate energy map for given image.\n",
    "\n",
    "    Args:\n",
    "        image (np.uint8 3 channels): input image\n",
    "        mask (np.uint8 1 channel, optional): mask. Defaults to None.\n",
    "\n",
    "    Returns:\n",
    "        np.float32 1 channel: energy map\n",
    "    \"\"\"\n",
    "    image_gray = gray(image)\n",
    "    delta_x = cv2.Sobel(image_gray, cv2.CV_64F, 0, 1, ksize=5)\n",
    "    delta_y = cv2.Sobel(image_gray, cv2.CV_64F, 1, 0, ksize=5)\n",
    "    gradient_magnitude = np.sqrt(delta_x**2 + delta_y**2)\n",
    "    gradient_magnitude /= gradient_magnitude.max()/255\n",
    "\n",
    "    if mask is not None:\n",
    "        gradient_magnitude[mask > 127] = -10000\n",
    "    \n",
    "    return gradient_magnitude"
   ]
  },
  {
   "cell_type": "code",
   "execution_count": null,
   "metadata": {},
   "outputs": [],
   "source": [
    "@jit\n",
    "def find_best_seam(energy_map, debug=False):\n",
    "    \"\"\" Find next seam.\n",
    "    \n",
    "    Args:\n",
    "        energy_map (np.float32 1 channel): energy map\n",
    "        debug (bool, optional): debug mode. Defaults to False.\n",
    "        \n",
    "    Returns:\n",
    "        np.int32 : cols of next best seam\n",
    "        int : energy of next best seam\n",
    "    \"\"\"\n",
    "\n",
    "    # 1. Find the minimum energy path matrix(dp)\n",
    "    U = np.zeros_like(energy_map)\n",
    "\n",
    "    for i in range(energy_map.shape[0]-1, -1, -1):\n",
    "        for j in range(energy_map.shape[1]):\n",
    "            if i==energy_map.shape[0]-1:\n",
    "                U[i, j] = energy_map[i, j]\n",
    "            elif j==0:\n",
    "                U[i, j] = energy_map[i, j] + min(U[i+1, j], U[i+1, j+1])\n",
    "            elif j==energy_map.shape[1]-1:\n",
    "                U[i, j] = energy_map[i, j] + min(U[i+1, j-1], U[i+1, j])\n",
    "            else:\n",
    "                U[i, j] = energy_map[i, j] + min(U[i+1, j-1], U[i+1, j], U[i+1, j+1])\n",
    "    \n",
    "    # 2. Find the minimum energy path\n",
    "    seam = np.zeros((U.shape[0], ), dtype='uint32')\n",
    "    last_rows_min_col = np.argmin(U[0])\n",
    "    seam_energy = energy_map[0, last_rows_min_col]\n",
    "    seam[0] = last_rows_min_col\n",
    "\n",
    "    for i in range(1, U.shape[0]):\n",
    "        if U[i, last_rows_min_col] == U[i-1, last_rows_min_col]:\n",
    "            last_rows_min_col = last_rows_min_col\n",
    "        elif last_rows_min_col == 0:\n",
    "            if U[i, last_rows_min_col]>=U[i, last_rows_min_col+1]:\n",
    "                last_rows_min_col = last_rows_min_col+1\n",
    "        elif last_rows_min_col == U.shape[1]-1:\n",
    "            if U[i, last_rows_min_col]>=U[i, last_rows_min_col-1]:\n",
    "                last_rows_min_col = last_rows_min_col-1\n",
    "        else:\n",
    "            if U[i, last_rows_min_col-1] == U[i, last_rows_min_col] and U[i, last_rows_min_col] == U[i, last_rows_min_col+1]:\n",
    "                dir = np.random.randint(-1, 2)\n",
    "                # dir = 0\n",
    "                last_rows_min_col = last_rows_min_col + dir\n",
    "            elif U[i, last_rows_min_col]>=U[i, last_rows_min_col-1]:\n",
    "                if U[i, last_rows_min_col-1] >= U[i, last_rows_min_col+1]:\n",
    "                    last_rows_min_col = last_rows_min_col+1\n",
    "                else:\n",
    "                    last_rows_min_col = last_rows_min_col-1\n",
    "            else:\n",
    "                if U[i, last_rows_min_col] >= U[i, last_rows_min_col+1]:\n",
    "                    last_rows_min_col = last_rows_min_col+1\n",
    "                else:\n",
    "                    last_rows_min_col = last_rows_min_col\n",
    "        \n",
    "        seam[i] = last_rows_min_col\n",
    "        seam_energy += energy_map[i, last_rows_min_col]\n",
    "\n",
    "    # 3. Visualize the seam\n",
    "    if debug:\n",
    "        disp(U, \"U\", s=8)\n",
    "        # print(U)\n",
    "\n",
    "    # 4. Return the seam and its energy\n",
    "    return seam, seam_energy"
   ]
  },
  {
   "cell_type": "code",
   "execution_count": null,
   "metadata": {},
   "outputs": [],
   "source": [
    "def remove_seam(image, seam, mask=None):\n",
    "    \"\"\" Remove the seam from energy map and the mask if it exists.\n",
    "\n",
    "    Args:\n",
    "        image (np.uint8 3 channels): image\n",
    "        seam (np.int32 array): seam to be removed\n",
    "        mask (np.uint8 1 channel, optional): mask. Defaults to None.\n",
    "\n",
    "    Returns:\n",
    "        np.uint8 3 channels: resized image without the \"seam\"\n",
    "        np.uint8 1 channel: resized mask without the \"seam\" if mask exists\n",
    "    \"\"\"\n",
    "    if mask is not None:\n",
    "        idx=np.ones_like(image, bool)\n",
    "        idx_mask=np.ones_like(mask, bool)\n",
    "        for i in range(image.shape[0]):\n",
    "            idx[i, int(seam[i])]=False\n",
    "            idx_mask[i, int(seam[i])]=False\n",
    "        reduced_image = image[idx].reshape(image.shape[0], image.shape[1]-1, 3)\n",
    "        reduced_mask = mask[idx_mask].reshape(mask.shape[0], mask.shape[1]-1)\n",
    "        return reduced_image, reduced_mask\n",
    "    else:\n",
    "        idx=np.ones_like(image, bool)\n",
    "        for i in range(image.shape[0]):\n",
    "            idx[i, int(seam[i])]=False\n",
    "        reduced_image = image[idx].reshape(image.shape[0], image.shape[1]-1, 3)\n",
    "        return reduced_image"
   ]
  },
  {
   "cell_type": "code",
   "execution_count": null,
   "metadata": {},
   "outputs": [],
   "source": [
    "@jit\n",
    "def insert_seam(image, seam):\n",
    "    \"\"\" Insert the seam into the image by averaging the seams to its left and right.\n",
    "\n",
    "    Args:\n",
    "        image (np.uint8 3 channels): image(RGB)\n",
    "        seam (np.int32 array): seam to be inserted\n",
    "    \n",
    "    Returns:\n",
    "        np.uint8 3 channels: resized image with the new \"seam\" inserted. width = image_width+1\n",
    "    \"\"\"\n",
    "\n",
    "    # New Image is one column wider\n",
    "    resized_image = np.zeros((image.shape[0], image.shape[1]+1, 3), dtype='uint8')\n",
    "\n",
    "    # For every row\n",
    "    for i in range(image.shape[0]):\n",
    "        j = seam[i]\n",
    "\n",
    "        # Find the value for the pixel on the seam at row i\n",
    "        new_value = np.array([0, 0, 0])\n",
    "        if j==0:\n",
    "            new_value = ((image[i, j].astype(np.float32) + image[i, j+1].astype(np.float32))/2).astype(np.uint8)\n",
    "        else:\n",
    "            new_value = ((image[i, j-1].astype(np.float32) + image[i, j].astype(np.float32))/2).astype(np.uint8)\n",
    "        \n",
    "        # Insert the new value in the image\n",
    "        resized_image[i, :j] = image[i, :j] # Pixels to the left of the seam\n",
    "        resized_image[i, j] = new_value # Pixels on the seam\n",
    "        resized_image[i, j+1:] = image[i, j:]  # Pixels to the right of the seam\n",
    "    \n",
    "    return resized_image"
   ]
  },
  {
   "cell_type": "markdown",
   "metadata": {},
   "source": [
    "#### Main Functions"
   ]
  },
  {
   "cell_type": "code",
   "execution_count": null,
   "metadata": {},
   "outputs": [],
   "source": [
    "@jit\n",
    "def shrink_image(image, num_seams, seam_dir=\"vertical\", mask=None, save_animation=False, color=[255,0,0]):\n",
    "    \"\"\" Shrink the image by removing num_seams seams.\n",
    "\n",
    "    Args:\n",
    "        image (np.uint8 3 channel): image to be shrinked\n",
    "        num_seams (int): number of seams to be removed\n",
    "        mask (np.uint8 1 channel, optional): mask. Defaults to None.\n",
    "\n",
    "    Returns:\n",
    "        np.uint8 3 channel: shrinked image\n",
    "        np.uint8 1 channel: shrinked mask if mask exists\n",
    "    \"\"\"\n",
    "    # Timestamp for saving the animation\n",
    "    time_stamp = datetime.datetime.now().strftime(\"%Y%m%d-%H%M%S\")\n",
    "\n",
    "    # Rotate the image 90 degrees if seam_dir is horizontal\n",
    "    if seam_dir==\"horizontal\":\n",
    "        image = np.rot90(image, 1)\n",
    "        if mask is not None:\n",
    "            mask = np.rot90(mask, 1)\n",
    "\n",
    "    # Do the seam carving on the image and mask if it exists\n",
    "    for i in range(num_seams):\n",
    "        # 1. Find the seam\n",
    "        if mask is not None:\n",
    "            energy_map = calculate_energy_map(image, mask)\n",
    "        else:\n",
    "            energy_map = calculate_energy_map(image)\n",
    "        seam, seam_energy = find_best_seam(energy_map)\n",
    "        \n",
    "        # 2. Vizualize the seam\n",
    "        if save_animation:\n",
    "            drawn_image = draw_seam(image, seam, color=color)\n",
    "            if seam_dir==\"horizontal\":\n",
    "                drawn_image = np.rot90(drawn_image, 3)\n",
    "            cv2.imwrite(f\"P5_result/animation/seam_carving_{time_stamp}_{str(i).zfill(4)}.jpg\", bgr(drawn_image))\n",
    "\n",
    "        # 3. Remove the seam\n",
    "        if mask is not None:\n",
    "            image, mask = remove_seam(image, seam, mask)\n",
    "        else:\n",
    "            image = remove_seam(image, seam)\n",
    "\n",
    "    # Revert the Rotation if seam_dir is horizontal\n",
    "    if seam_dir==\"horizontal\":\n",
    "        image = np.rot90(image, 3)\n",
    "        if mask is not None:\n",
    "            mask = np.rot90(mask, 3)\n",
    "\n",
    "    if mask is not None:\n",
    "        return image, mask\n",
    "    else:\n",
    "        return image"
   ]
  },
  {
   "cell_type": "code",
   "execution_count": null,
   "metadata": {},
   "outputs": [],
   "source": [
    "@jit\n",
    "def expand_image_naive(image, num_seams, seam_dir=\"vertical\", save_animation=False, color=[255,0,0]):\n",
    "    \"\"\" Expand the image by always inserting the best seam.\n",
    "\n",
    "    Args:\n",
    "        image (np.uint8 3 channel): image to be expanded\n",
    "        num_seams (int): number of seams to be inserted\n",
    "    \n",
    "    Returns:\n",
    "        np.uint8 3 channel: expanded image\n",
    "\n",
    "    \"\"\"\n",
    "    # Timestamp for saving the animation\n",
    "    time_stamp = datetime.datetime.now().strftime(\"%Y%m%d-%H%M%S\")\n",
    "\n",
    "    # Rotate the image 90 degrees if seam_dir is horizontal\n",
    "    if seam_dir==\"horizontal\":\n",
    "        image = np.rot90(image, 1)\n",
    "\n",
    "    # Do the seam insertion on the image\n",
    "    for i in range(num_seams):\n",
    "        # 1. Find the seam\n",
    "        energy_map = calculate_energy_map(image)\n",
    "        seam, seam_energy = find_best_seam(energy_map)\n",
    "        \n",
    "        # 2. Vizualize the seam\n",
    "        if save_animation:\n",
    "            drawn_image = draw_seam(image, seam, color=color)\n",
    "            if seam_dir==\"horizontal\":\n",
    "                drawn_image = np.rot90(drawn_image, 3)\n",
    "            cv2.imwrite(f\"P5_result/animation/seam_insertion_{time_stamp}_{str(i).zfill(4)}.jpg\", bgr(drawn_image))\n",
    "\n",
    "        # 3. Insert the seam\n",
    "        image = insert_seam(image, seam)\n",
    "\n",
    "    # Revert the Rotation if seam_dir is horizontal\n",
    "    if seam_dir==\"horizontal\":\n",
    "        image = np.rot90(image, 3)\n",
    "    \n",
    "    return image"
   ]
  },
  {
   "cell_type": "code",
   "execution_count": null,
   "metadata": {},
   "outputs": [],
   "source": [
    "@jit\n",
    "def expand_image(image, num_seams, seam_dir=\"vertical\", save_animation=False, color=[255,0,0]):\n",
    "    \"\"\" Expand the image by always inserting the top 'num_seams' seams.\n",
    "\n",
    "    Args:\n",
    "        image (np.uint8 3 channel): image to be expanded\n",
    "        num_seams (int): number of seams to be inserted\n",
    "    \n",
    "    Returns:\n",
    "        np.uint8 3 channel: expanded image\n",
    "\n",
    "    \"\"\"\n",
    "    # Timestamp for saving the animation\n",
    "    time_stamp = datetime.datetime.now().strftime(\"%Y%m%d-%H%M%S\")\n",
    "\n",
    "    # Rotate the image 90 degrees if seam_dir is horizontal\n",
    "    if seam_dir==\"horizontal\":\n",
    "        image = np.rot90(image, 1)\n",
    "\n",
    "    # 1. Find the seams by iteratively removing the top seam\n",
    "    seams = []\n",
    "    temp_image = image.copy()\n",
    "    for i in range(num_seams):\n",
    "        energy_map = calculate_energy_map(temp_image)\n",
    "        seam, seam_energy = find_best_seam(energy_map)\n",
    "        temp_image = remove_seam(temp_image, seam)\n",
    "        seams.append(seam)\n",
    "\n",
    "    # 2. Do the seam insertion on the image\n",
    "    for i in range(num_seams):\n",
    "        # 1. Get the seam\n",
    "        seam = seams[i]\n",
    "        \n",
    "        # 2. Vizualize the seam\n",
    "        if save_animation:\n",
    "            drawn_image = draw_seam(image, seam, color=color)\n",
    "            if seam_dir==\"horizontal\":\n",
    "                drawn_image = np.rot90(drawn_image, 3)\n",
    "            cv2.imwrite(f\"P5_result/animation/seam_insertion_{time_stamp}_{str(i).zfill(4)}.jpg\", bgr(drawn_image))\n",
    "\n",
    "        # 3. Insert the seam\n",
    "        image = insert_seam(image, seam)\n",
    "\n",
    "        # 4. Update the seams columns (because they were extracted when the image was shrunk)\n",
    "        for j in range(i+1, num_seams):\n",
    "            seams[j][np.where(seams[j] >= seam)] += 2  # \"1\" because of the inserted seam and \"1\" because they were extracted when the image was shrunk\n",
    "\n",
    "    # Revert the Rotation if seam_dir is horizontal\n",
    "    if seam_dir==\"horizontal\":\n",
    "        image = np.rot90(image, 3)\n",
    "    \n",
    "    return image"
   ]
  },
  {
   "cell_type": "code",
   "execution_count": null,
   "metadata": {},
   "outputs": [],
   "source": [
    "def remove_object(image, mask, color=[255,0,0], seam_dir=\"vertical\", cmap=\"Reds\", on_image=False, save_animation=False, debug=True):\n",
    "\n",
    "    # Timestamp for saving the animation\n",
    "    time_stamp = datetime.datetime.now().strftime(\"%Y%m%d-%H%M%S\")\n",
    "\n",
    "    # Rotate the image 90 degrees if seam_dir is horizontal\n",
    "    if seam_dir==\"horizontal\":\n",
    "        image = np.rot90(image, 1)\n",
    "        if mask is not None:\n",
    "            mask = np.rot90(mask, 1)\n",
    "    \n",
    "    SEAMS_NEEDED = 0\n",
    "\n",
    "    # Remove the object from the image\n",
    "    shrunk_image = image.copy()\n",
    "    mask_copy = mask.copy()\n",
    "    while (mask_copy>127).sum() > 0:\n",
    "        SEAMS_NEEDED += 1\n",
    "        energy_temp = calculate_energy_map(shrunk_image, mask=mask_copy)\n",
    "        seam, energy = find_best_seam(energy_temp)\n",
    "        shrunk_image, mask_copy = remove_seam(shrunk_image, seam, mask=mask_copy)\n",
    "        \n",
    "        if save_animation:\n",
    "            drawn_image = draw_seam(shrunk_image, seam, color=color)\n",
    "            if seam_dir==\"horizontal\":\n",
    "                drawn_image = np.rot90(drawn_image, 3)\n",
    "            cv2.imwrite(f\"P5_result/animation/seam_removal_{time_stamp}_{str(SEAMS_NEEDED).zfill(4)}.jpg\", bgr(drawn_image))\n",
    "\n",
    "    if debug:\n",
    "        if seam_dir==\"horizontal\":\n",
    "            shrunk_image_temp = np.rot90(shrunk_image, 3)\n",
    "        else:\n",
    "            shrunk_image_temp = shrunk_image.copy()\n",
    "        disp(shrunk_image_temp, \"Shrunk Image\", s=15)\n",
    "        print(\"shrunk_image_temp.shape\", shrunk_image_temp.shape)\n",
    "        print(f\"Removed {SEAMS_NEEDED} seams to remove the object entirely\")\n",
    "\n",
    "    # Scale back the image to the original size\n",
    "    expanded_image = expand_image(shrunk_image, SEAMS_NEEDED, seam_dir=seam_dir, save_animation=save_animation, color=color)\n",
    "\n",
    "    if debug:\n",
    "        if seam_dir==\"horizontal\":\n",
    "            expanded_image_temp = np.rot90(expanded_image, 3)\n",
    "            image_temp = np.rot90(image, 3)\n",
    "        else:\n",
    "            expanded_image_temp = expanded_image.copy()\n",
    "            image_temp = image.copy()\n",
    "\n",
    "        disp(expanded_image_temp, title=\"Expanded Image\", s=15)\n",
    "        disp(image_temp, title=\"Original\", s=15)\n",
    "        print(\"image.shape\", image.shape)\n",
    "        print(\"expanded_image.shape\", expanded_image_temp.shape)\n",
    "\n",
    "\n",
    "    if debug:\n",
    "        seams_drawn = visualize_best_seams(image, num_seams=SEAMS_NEEDED, mask=mask, seam_dir=seam_dir, cmap=cmap, on_image=on_image)\n",
    "        if seam_dir==\"horizontal\":\n",
    "            seams_drawn = np.rot90(seams_drawn, 3)\n",
    "        disp(seams_drawn, title=\"Best Seams\", s=15)\n",
    "\n",
    "    # Revert the Rotation if seam_dir is horizontal\n",
    "    if seam_dir==\"horizontal\":\n",
    "        expanded_image = np.rot90(expanded_image, 3)\n",
    "        shrunk_image = np.rot90(shrunk_image, 3)\n",
    "\n",
    "    return expanded_image, shrunk_image\n",
    "\n",
    "    "
   ]
  },
  {
   "cell_type": "markdown",
   "metadata": {},
   "source": [
    "#### Visualization Functions "
   ]
  },
  {
   "cell_type": "code",
   "execution_count": null,
   "metadata": {},
   "outputs": [],
   "source": [
    "def draw_seam(image, seam, color=[255,0,0]):\n",
    "    \"\"\" Draw the seam on the image.\n",
    "    \n",
    "    Args:\n",
    "        image (np.uint8 3 channels): input image\n",
    "        seam (np.int32 array): cols of the seam\n",
    "        color (list[3], optional): color of the seam. Defaults to [255,0,0].\n",
    "    \n",
    "    \"\"\"\n",
    "    image = image.copy()\n",
    "\n",
    "    for i in range(image.shape[0]):\n",
    "        if seam[i] < image.shape[1]:\n",
    "            image[i, seam[i]] = color\n",
    "\n",
    "    return image"
   ]
  },
  {
   "cell_type": "code",
   "execution_count": null,
   "metadata": {},
   "outputs": [],
   "source": [
    "@jit\n",
    "def visualize_best_seams(image, num_seams, seam_dir=\"vertical\", mask=None, cmap=\"summer\", on_image=True):\n",
    "\n",
    "    # Timestamp for saving the animation\n",
    "    time_stamp = datetime.datetime.now().strftime(\"%Y%m%d-%H%M%S\")\n",
    "\n",
    "    # Rotate the image 90 degrees if seam_dir is horizontal\n",
    "    if seam_dir==\"horizontal\":\n",
    "        image = np.rot90(image, 1)\n",
    "\n",
    "    # 1. Find the seams by iteratively removing the top seam\n",
    "    seams = []\n",
    "    seams_energy = []\n",
    "    temp_image = image.copy()\n",
    "    temp_mask = mask.copy() if mask is not None else None\n",
    "    for i in range(num_seams):\n",
    "        if mask is not None:\n",
    "            energy_map = calculate_energy_map(temp_image, temp_mask)\n",
    "        else:\n",
    "            energy_map = calculate_energy_map(temp_image)\n",
    "        seam, seam_energy = find_best_seam(energy_map)\n",
    "\n",
    "        if mask is not None:\n",
    "            temp_image, temp_mask = remove_seam(temp_image, seam, temp_mask)\n",
    "        else:\n",
    "            temp_image = remove_seam(temp_image, seam)\n",
    "\n",
    "        seams.append(seam)\n",
    "        seams_energy.append(seam_energy)\n",
    "\n",
    "    # 2. Choose the drawing image\n",
    "    if on_image:\n",
    "        drawn_image = image.copy()\n",
    "    else:\n",
    "        # draw on the energy map\n",
    "        if mask is not None:\n",
    "            energy_map = calculate_energy_map(image, mask).astype(np.uint8)\n",
    "        else:\n",
    "            energy_map = calculate_energy_map(image).astype(np.uint8)\n",
    "        \n",
    "        # Convert energy map from 1 channel to 3 channels\n",
    "        energy_map_rgb = np.stack([energy_map]*3, axis=-1)\n",
    "        drawn_image = energy_map_rgb.copy()\n",
    "\n",
    "    # 3. Draw the seams on the image\n",
    "    for i in range(num_seams):\n",
    "        # 1. Get the seam\n",
    "        seam = seams[i]\n",
    "\n",
    "        # 2. Draw the seam\n",
    "        norm = matplotlib.colors.Normalize(vmin=min(seams_energy), vmax=max(seams_energy))\n",
    "        cmap = matplotlib.cm.get_cmap(cmap)\n",
    "        color = cmap(norm(seams_energy[i]))\n",
    "        \n",
    "        drawn_image = draw_seam(drawn_image, seam, color=[color[0]*255, color[1]*255, color[2]*255])\n",
    "\n",
    "        # 4. Update the seams columns (because they were extracted when the image was shrunk)\n",
    "        for j in range(i+1, num_seams):\n",
    "            seams[j][np.where(seams[j] >= seam)] += 1  # \"1\" because they were extracted when the image was shrunk\n",
    "\n",
    "    # Revert the Rotation if seam_dir is horizontal\n",
    "    if seam_dir==\"horizontal\":\n",
    "        drawn_image = np.rot90(drawn_image, 3)\n",
    "    \n",
    "    return drawn_image"
   ]
  },
  {
   "cell_type": "markdown",
   "metadata": {},
   "source": [
    "## Main"
   ]
  },
  {
   "cell_type": "code",
   "execution_count": null,
   "metadata": {},
   "outputs": [],
   "source": [
    "towers = rgb(cv2.imread('inputs/P5/towers.jpg'))\n",
    "landscape = rgb(cv2.imread('inputs/P5/landscape.jpg'))\n",
    "muqarnas = rgb(cv2.imread('inputs/P5/islamic.jpg'))\n",
    "lizzy = rgb(cv2.imread('inputs/P5/lizzys.jpg'))\n",
    "site = rgb(cv2.imread('inputs/P5/site3s.png'))\n",
    "trump1 = rgb(cv2.imread('inputs/P5/donald_plays_golf.png'))\n",
    "trump1_blur = rgb(cv2.imread('inputs/P5/donald_plays_golf_blur.png'))\n",
    "trump2 = rgb(cv2.imread('inputs/P5/donald_plays_tennis.png'))\n",
    "trump_putin = rgb(cv2.imread('inputs/P5/trump_putin2.png'))\n",
    "trump_putin_mask = cv2.imread('inputs/P5/trump_putin_mask.png', 0)\n",
    "trump_queen = rgb(cv2.imread('inputs/P5/trump_queen6.png'))\n",
    "trump_queen_mask = cv2.imread('inputs/P5/trump_queen_mask.png', 0)\n",
    "disp(site)"
   ]
  },
  {
   "cell_type": "markdown",
   "metadata": {},
   "source": [
    "### Display Energy Map"
   ]
  },
  {
   "cell_type": "code",
   "execution_count": null,
   "metadata": {},
   "outputs": [],
   "source": [
    "disp(calculate_energy_map(trump_putin), title=\"Energy Map\", s=15)"
   ]
  },
  {
   "cell_type": "markdown",
   "metadata": {},
   "source": [
    "### a) Shrink Horizontally (Trump2)"
   ]
  },
  {
   "cell_type": "code",
   "execution_count": null,
   "metadata": {},
   "outputs": [],
   "source": [
    "# Shrink by 10%\n",
    "w = trump2.shape[1]\n",
    "\n",
    "trump2_shrunk = shrink_image(trump2, num_seams=int(w*0.1), seam_dir=\"vertical\")\n",
    "trump2_viz = visualize_best_seams(trump2, num_seams=int(w*0.1), seam_dir=\"vertical\", on_image=False, cmap=\"Reds\")\n",
    "\n",
    "disp(trump2_shrunk, title=\"Shrunk by 10% horizontally\", s=15) \n",
    "disp(trump2_viz, \"Top 10% seams\", s=15)"
   ]
  },
  {
   "cell_type": "code",
   "execution_count": null,
   "metadata": {},
   "outputs": [],
   "source": [
    "# Shrink by 25%\n",
    "w = trump2.shape[1]\n",
    "\n",
    "trump2_shrunk = shrink_image(trump2, num_seams=int(w*0.25), seam_dir=\"vertical\")\n",
    "trump2_viz = visualize_best_seams(trump2, num_seams=int(w*0.25), seam_dir=\"vertical\", on_image=False, cmap=\"Reds\")\n",
    "\n",
    "disp(trump2_shrunk, title=\"Shrunk by 25% horizontally\", s=15) \n",
    "disp(trump2_viz, \"Top 25% seams\", s=15)"
   ]
  },
  {
   "cell_type": "code",
   "execution_count": null,
   "metadata": {},
   "outputs": [],
   "source": [
    "# Shrink by 50%\n",
    "w = trump2.shape[1]\n",
    "\n",
    "trump2_shrunk = shrink_image(trump2, num_seams=int(w*0.5), seam_dir=\"vertical\")\n",
    "trump2_viz = visualize_best_seams(trump2, num_seams=int(w*0.5), seam_dir=\"vertical\", on_image=False, cmap=\"Reds\")\n",
    "\n",
    "disp(trump2_shrunk, title=\"Shrunk by 50% horizontally\", s=15) \n",
    "disp(trump2_viz, \"Top 50% seams\", s=15)"
   ]
  },
  {
   "cell_type": "markdown",
   "metadata": {},
   "source": [
    "### b) Shrink Vertically (Trump1)"
   ]
  },
  {
   "cell_type": "code",
   "execution_count": null,
   "metadata": {},
   "outputs": [],
   "source": [
    "# Shrink by 10%\n",
    "h = trump1.shape[0]\n",
    "\n",
    "trump1_shrunk = shrink_image(trump1, num_seams=int(h*0.1), seam_dir=\"horizontal\")\n",
    "trump1_viz = visualize_best_seams(trump1, num_seams=int(h*0.1), seam_dir=\"horizontal\", on_image=False, cmap=\"summer\")\n",
    "\n",
    "disp(trump1_shrunk, title=\"Shrunk by 10% vertically\", s=15) \n",
    "disp(trump1_viz, \"Top 10% seams\", s=15)"
   ]
  },
  {
   "cell_type": "code",
   "execution_count": null,
   "metadata": {},
   "outputs": [],
   "source": [
    "# Shrink by 25%\n",
    "h = trump1.shape[0]\n",
    "\n",
    "trump1_shrunk = shrink_image(trump1, num_seams=int(h*0.25), seam_dir=\"horizontal\")\n",
    "trump1_viz = visualize_best_seams(trump1, num_seams=int(h*0.25), seam_dir=\"horizontal\", on_image=False, cmap=\"summer\")\n",
    "\n",
    "disp(trump1_shrunk, title=\"Shrunk by 25% vertically\", s=15) \n",
    "disp(trump1_viz, \"Top 25% seams\", s=15)"
   ]
  },
  {
   "cell_type": "code",
   "execution_count": null,
   "metadata": {},
   "outputs": [],
   "source": [
    "# Shrink by 50%\n",
    "h = trump1.shape[0]\n",
    "\n",
    "trump1_shrunk = shrink_image(trump1, num_seams=int(h*0.5), seam_dir=\"horizontal\")\n",
    "trump1_viz = visualize_best_seams(trump1, num_seams=int(h*0.5), seam_dir=\"horizontal\", on_image=False, cmap=\"summer\")\n",
    "\n",
    "disp(trump1_shrunk, title=\"Shrunk by 50% vertically\", s=15) \n",
    "disp(trump1_viz, \"Top 50% seams\", s=15)"
   ]
  },
  {
   "cell_type": "markdown",
   "metadata": {},
   "source": [
    "#### Blur the grass"
   ]
  },
  {
   "cell_type": "code",
   "execution_count": null,
   "metadata": {},
   "outputs": [],
   "source": [
    "# Shrink by 50%\n",
    "h = trump1_blur.shape[0]\n",
    "\n",
    "trump1_blur_shrunk = shrink_image(trump1_blur, num_seams=int(h*0.5), seam_dir=\"horizontal\")\n",
    "trump1_blur_viz = visualize_best_seams(trump1_blur, num_seams=int(h*0.5), seam_dir=\"horizontal\", on_image=False, cmap=\"summer\")\n",
    "\n",
    "disp(trump1_blur_shrunk, title=\"Shrunk by 50% vertically\", s=15) \n",
    "disp(trump1_blur_viz, \"Top 50% seams\", s=15)"
   ]
  },
  {
   "cell_type": "markdown",
   "metadata": {},
   "source": [
    "### c) Shrink Horizontally Landscape"
   ]
  },
  {
   "cell_type": "code",
   "execution_count": null,
   "metadata": {},
   "outputs": [],
   "source": [
    "# Shrink by 30%\n",
    "w = landscape.shape[1]\n",
    "\n",
    "landscape_shrunk = shrink_image(landscape, num_seams=int(w*0.3), seam_dir=\"vertical\")\n",
    "landscape_viz = visualize_best_seams(landscape, num_seams=int(w*0.3), seam_dir=\"vertical\", on_image=False, cmap=\"Reds\")\n",
    "\n",
    "disp(landscape_shrunk, title=\"Shrunk by 30% horizontally\", s=15) \n",
    "disp(landscape_viz, \"Top 30% seams\", s=15)"
   ]
  },
  {
   "cell_type": "code",
   "execution_count": null,
   "metadata": {},
   "outputs": [],
   "source": [
    "# Shrink by 30%\n",
    "h = landscape.shape[0]\n",
    "\n",
    "landscape_shrunk = shrink_image(landscape, num_seams=int(h*0.3), seam_dir=\"horizontal\")\n",
    "landscape_viz = visualize_best_seams(landscape, num_seams=int(h*0.3), seam_dir=\"horizontal\", on_image=False, cmap=\"summer\")\n",
    "\n",
    "disp(landscape_shrunk, title=\"Shrunk by 30% vertically\", s=15) \n",
    "disp(landscape_viz, \"Top 30% seams\", s=15)"
   ]
  },
  {
   "cell_type": "markdown",
   "metadata": {},
   "source": [
    "### Site"
   ]
  },
  {
   "cell_type": "code",
   "execution_count": null,
   "metadata": {},
   "outputs": [],
   "source": [
    "# Shrink by 20%\n",
    "w = site.shape[1]\n",
    "\n",
    "site_shrunk = shrink_image(site, num_seams=int(w*0.20), seam_dir=\"vertical\")\n",
    "site_viz = visualize_best_seams(site, num_seams=int(w*0.20), seam_dir=\"vertical\", on_image=False, cmap=\"Reds\")\n",
    "\n",
    "disp(site_shrunk, title=\"Shrunk by 20% horizontally\", s=15) \n",
    "disp(site_viz, \"Top 20% seams\", s=15)\n",
    "\n",
    "\n",
    "h = site.shape[0]\n",
    "\n",
    "site_shrunk2 = shrink_image(site_shrunk, num_seams=int(h*0.40), seam_dir=\"horizontal\")\n",
    "site_viz2 = visualize_best_seams(site_shrunk, num_seams=int(h*0.40), seam_dir=\"horizontal\", on_image=False, cmap=\"Reds\")\n",
    "\n",
    "disp(site_shrunk2, title=\"Shrunk by 20% vertically\", s=15) \n",
    "disp(site_viz2, \"Top 20% seams\", s=15)\n"
   ]
  },
  {
   "cell_type": "markdown",
   "metadata": {},
   "source": [
    "### d) A Bad example"
   ]
  },
  {
   "cell_type": "code",
   "execution_count": null,
   "metadata": {},
   "outputs": [],
   "source": [
    "# Shrink by 50%\n",
    "w = muqarnas.shape[1]\n",
    "\n",
    "muqarnas_shrunk = shrink_image(muqarnas, num_seams=int(w*0.5), seam_dir=\"vertical\")\n",
    "muqarnas_viz = visualize_best_seams(muqarnas, num_seams=int(w*0.5), seam_dir=\"vertical\", on_image=False, cmap=\"Reds\")\n",
    "\n",
    "disp(muqarnas_shrunk, title=\"Shrunk by 50% horizontally\", s=15) \n",
    "disp(muqarnas_viz, \"Top 50% seams\", s=15)"
   ]
  },
  {
   "cell_type": "code",
   "execution_count": null,
   "metadata": {},
   "outputs": [],
   "source": [
    "# Shrink by 30%\n",
    "w = lizzy.shape[1]\n",
    "\n",
    "lizzy_shrunk = shrink_image(lizzy, num_seams=int(w*0.3), seam_dir=\"vertical\")\n",
    "lizzy_viz = visualize_best_seams(lizzy, num_seams=int(w*0.3), seam_dir=\"vertical\", on_image=False, cmap=\"Reds\")\n",
    "\n",
    "disp(lizzy_shrunk, title=\"Shrunk by 30% horizontally\", s=15) \n",
    "disp(lizzy_viz, \"Top 30% seams\", s=15)"
   ]
  },
  {
   "cell_type": "markdown",
   "metadata": {},
   "source": [
    "### e) Expand images"
   ]
  },
  {
   "cell_type": "code",
   "execution_count": null,
   "metadata": {},
   "outputs": [],
   "source": [
    "image = trump2\n",
    "w = image.shape[1]\n",
    "expanded_image = expand_image(image, num_seams=int(w*0.1), seam_dir=\"vertical\")\n",
    "viz = visualize_best_seams(image, num_seams=int(w*0.1), seam_dir=\"vertical\", on_image=False, cmap=\"Reds\")\n",
    "disp(viz, \"Top 10% seams\", s=15)\n",
    "disp(expanded_image, title=\"Expanded by 10% horizontally\", s=15)\n",
    "\n",
    "w = image.shape[1]\n",
    "expanded_image = expand_image(image, num_seams=int(w*0.25), seam_dir=\"vertical\")\n",
    "viz = visualize_best_seams(image, num_seams=int(w*0.25), seam_dir=\"vertical\", on_image=False, cmap=\"Reds\")\n",
    "disp(viz, \"Top 25% seams\", s=15)\n",
    "disp(expanded_image, title=\"Expanded by 25% horizontally\", s=15)\n",
    "\n",
    "w = image.shape[1]\n",
    "expanded_image = expand_image(image, num_seams=int(w*0.50), seam_dir=\"vertical\")\n",
    "viz = visualize_best_seams(image, num_seams=int(w*0.50), seam_dir=\"vertical\", on_image=False, cmap=\"Reds\")\n",
    "disp(viz, \"Top 50% seams\", s=15)\n",
    "disp(expanded_image, title=\"Expanded by 50% horizontally\", s=15)\n"
   ]
  },
  {
   "cell_type": "code",
   "execution_count": null,
   "metadata": {},
   "outputs": [],
   "source": [
    "image = trump1\n",
    "h = image.shape[0]\n",
    "expanded_image = expand_image(image, num_seams=int(h*0.1), seam_dir=\"horizontal\")\n",
    "viz = visualize_best_seams(image, num_seams=int(h*0.1), seam_dir=\"horizontal\", on_image=False, cmap=\"summer\")\n",
    "disp(viz, \"Top 10% seams\", s=15)\n",
    "disp(expanded_image, title=\"Expanded by 10% vertically\", s=15)\n",
    "\n",
    "image = trump1\n",
    "h = image.shape[0]\n",
    "expanded_image = expand_image(image, num_seams=int(h*0.25), seam_dir=\"horizontal\")\n",
    "viz = visualize_best_seams(image, num_seams=int(h*0.25), seam_dir=\"horizontal\", on_image=False, cmap=\"summer\")\n",
    "disp(viz, \"Top 25% seams\", s=15)\n",
    "disp(expanded_image, title=\"Expanded by 25% vertically\", s=15)\n",
    "\n",
    "image = trump1\n",
    "h = image.shape[0]\n",
    "expanded_image = expand_image(image, num_seams=int(h*0.5), seam_dir=\"horizontal\")\n",
    "viz = visualize_best_seams(image, num_seams=int(h*0.5), seam_dir=\"horizontal\", on_image=False, cmap=\"summer\")\n",
    "disp(viz, \"Top 50% seams\", s=15)\n",
    "disp(expanded_image, title=\"Expanded by 50% vertically\", s=15)"
   ]
  },
  {
   "cell_type": "code",
   "execution_count": null,
   "metadata": {},
   "outputs": [],
   "source": [
    "image = landscape\n",
    "w = image.shape[1]\n",
    "h = image.shape[0]\n",
    "expanded_image = expand_image(image, num_seams=int(w*0.3), seam_dir=\"vertical\")\n",
    "expanded_image = expand_image(expanded_image, num_seams=int(h*0.3), seam_dir=\"horizontal\")\n",
    "disp(expanded_image, title=\"Expanded by 30% vertically and horizontally\", s=15)"
   ]
  },
  {
   "cell_type": "markdown",
   "metadata": {},
   "source": [
    "### Trump Queen"
   ]
  },
  {
   "cell_type": "code",
   "execution_count": null,
   "metadata": {},
   "outputs": [],
   "source": [
    "expanded, shrunk = remove_object(trump_queen, trump_queen_mask, save_animation=True, debug=True)\n",
    "\n",
    "# cv2.imwrite(\"trump_queen_expanded.png\", bgr(expanded))\n",
    "# cv2.imwrite(\"trump_queen_shrunk.png\", bgr(shrunk))\n",
    "# cv2.imwrite(\"trump_queen.png\", bgr(trump_queen))\n",
    "\n",
    "# disp(trump_queen, title=\"Original\", s=15)\n",
    "# disp(shrunk, title=\"Object Removed\", s=15)\n",
    "# disp(expanded,title=\"Expanded\", s=15)"
   ]
  },
  {
   "cell_type": "markdown",
   "metadata": {},
   "source": [
    "### Trump Putin"
   ]
  },
  {
   "cell_type": "code",
   "execution_count": null,
   "metadata": {},
   "outputs": [],
   "source": [
    "expanded, shrunk = remove_object(trump_putin, trump_putin_mask, save_animation=True, debug=True)\n",
    "\n",
    "# cv2.imwrite(\"trump_putin_expanded2.png\", bgr(expanded))\n",
    "# cv2.imwrite(\"trump_putin_shrunk2.png\", bgr(shrunk))\n",
    "# cv2.imwrite(\"trump_putin2.png\", bgr(trump_putin))"
   ]
  },
  {
   "cell_type": "markdown",
   "metadata": {},
   "source": [
    "## Tests"
   ]
  },
  {
   "cell_type": "code",
   "execution_count": null,
   "metadata": {},
   "outputs": [],
   "source": [
    "A = np.ones((10,10), dtype=np.uint8)\n",
    "A[:5,:] = 0\n",
    "A[0,:] = 1\n",
    "A[:, 4:5] = 1\n",
    "A[7:8, 3:6] = 0\n",
    "A = 1-A\n",
    "A = np.repeat(A[:, :, np.newaxis], 3, axis=2)*255\n",
    "disp(A, s=6)"
   ]
  },
  {
   "cell_type": "markdown",
   "metadata": {},
   "source": [
    "### Energy Map"
   ]
  },
  {
   "cell_type": "code",
   "execution_count": null,
   "metadata": {},
   "outputs": [],
   "source": [
    "towers_energy = calculate_energy_map(towers)\n",
    "disp(towers_energy, title=\"Energy Map\")"
   ]
  },
  {
   "cell_type": "code",
   "execution_count": null,
   "metadata": {},
   "outputs": [],
   "source": [
    "A_energy = A[:,:,0].astype(np.float64)\n",
    "disp(A_energy, title=\"Energy Map\")"
   ]
  },
  {
   "cell_type": "markdown",
   "metadata": {},
   "source": [
    "### Find Seam"
   ]
  },
  {
   "cell_type": "code",
   "execution_count": null,
   "metadata": {},
   "outputs": [],
   "source": [
    "seam, energy = find_best_seam(towers_energy)\n",
    "drawn_towers = draw_seam(towers, seam, color=[255,0,0])\n",
    "disp(drawn_towers, title=\"Seam\")"
   ]
  },
  {
   "cell_type": "code",
   "execution_count": null,
   "metadata": {},
   "outputs": [],
   "source": [
    "seam, energy = find_best_seam(A_energy, debug=True)\n",
    "drawn_A = draw_seam(A, seam, color=[255,0,0])\n",
    "disp(drawn_A, title=\"Seam\")\n"
   ]
  },
  {
   "cell_type": "markdown",
   "metadata": {},
   "source": [
    "### Shrink"
   ]
  },
  {
   "cell_type": "code",
   "execution_count": null,
   "metadata": {},
   "outputs": [],
   "source": [
    "res = shrink_image(towers, 10, save_animation=False)\n",
    "disp(res, title=\"Shrinked Towers\")"
   ]
  },
  {
   "cell_type": "markdown",
   "metadata": {},
   "source": [
    "### Mask "
   ]
  },
  {
   "cell_type": "code",
   "execution_count": null,
   "metadata": {},
   "outputs": [],
   "source": [
    "mask = np.zeros_like(towers, dtype=np.uint8)[:,:,0]\n",
    "mask[100:200,100:200] = 255\n",
    "mask[300:400,300:400] = 255\n",
    "disp(mask)"
   ]
  },
  {
   "cell_type": "code",
   "execution_count": null,
   "metadata": {},
   "outputs": [],
   "source": [
    "energy_map_mask = calculate_energy_map(towers, mask=mask)\n",
    "seam, _= find_best_seam(energy_map_mask)\n",
    "drawn_towers_mask = draw_seam(towers, seam, color=[255,0,0])\n",
    "disp(cv2.addWeighted(drawn_towers_mask, 0.8, np.repeat(mask[:,:,np.newaxis],3,axis=2), 0.2, 0), title=\"Seam with Mask\")"
   ]
  },
  {
   "cell_type": "markdown",
   "metadata": {},
   "source": [
    "### insert seam"
   ]
  },
  {
   "cell_type": "markdown",
   "metadata": {},
   "source": [
    "#### Grayscale seam insertion"
   ]
  },
  {
   "cell_type": "code",
   "execution_count": null,
   "metadata": {},
   "outputs": [],
   "source": [
    "seam, energy = find_best_seam(A_energy, debug=False)\n",
    "drawn_A_2 = draw_seam(A, seam, color=[255,0,0])\n",
    "disp(drawn_A_2, title=\"Seam\")"
   ]
  },
  {
   "cell_type": "code",
   "execution_count": null,
   "metadata": {},
   "outputs": [],
   "source": [
    "A_inserted = insert_seam(A, seam)\n",
    "disp(A_inserted, title=\"Inserted Seam\")\n",
    "print(\"A.shape\", A.shape)\n",
    "print(\"A_inserted.shape\", A_inserted.shape)"
   ]
  },
  {
   "cell_type": "markdown",
   "metadata": {},
   "source": [
    "#### Colored seam insertion"
   ]
  },
  {
   "cell_type": "code",
   "execution_count": null,
   "metadata": {},
   "outputs": [],
   "source": [
    "seam, energy = find_best_seam(towers_energy, debug=False)\n",
    "drawn_towers_2 = draw_seam(towers, seam, color=[255,0,0])\n",
    "disp(drawn_towers_2, title=\"Seam\")"
   ]
  },
  {
   "cell_type": "code",
   "execution_count": null,
   "metadata": {},
   "outputs": [],
   "source": [
    "towers_inserted = insert_seam(towers, seam)\n",
    "disp(towers_inserted, title=\"Inserted Seam\")\n",
    "print(\"towers.shape\", towers.shape)\n",
    "print(\"towers_inserted.shape\", towers_inserted.shape)"
   ]
  },
  {
   "cell_type": "markdown",
   "metadata": {},
   "source": [
    "### Naiive image expansion"
   ]
  },
  {
   "cell_type": "code",
   "execution_count": null,
   "metadata": {},
   "outputs": [],
   "source": [
    "towers_expanded = expand_image_naive(towers, 400, save_animation=False)\n",
    "disp(towers_expanded, title=\"Expanded Towers Naiive\", s=11)\n",
    "print(\"towers.shape\", towers.shape)\n",
    "print(\"towers_expanded.shape\", towers_expanded.shape)"
   ]
  },
  {
   "cell_type": "markdown",
   "metadata": {},
   "source": [
    "### Good image expansion"
   ]
  },
  {
   "cell_type": "code",
   "execution_count": null,
   "metadata": {},
   "outputs": [],
   "source": [
    "towers_expanded2 = expand_image(towers, 400, save_animation=True)\n",
    "disp(towers_expanded2, title=\"Expanded Towers Good\", s=15)\n",
    "print(\"towers.shape\", towers.shape)\n",
    "print(\"towers_expanded.shape\", towers_expanded2.shape)"
   ]
  },
  {
   "cell_type": "markdown",
   "metadata": {},
   "source": [
    "### Visualize seams"
   ]
  },
  {
   "cell_type": "code",
   "execution_count": null,
   "metadata": {},
   "outputs": [],
   "source": [
    "tower_seams_drawn = visualize_best_seams(towers, num_seams=200, seam_dir=\"vertical\", cmap=\"Reds\", on_image=False)\n",
    "disp(tower_seams_drawn, title=\"Best Seams\", s=15)"
   ]
  },
  {
   "cell_type": "code",
   "execution_count": null,
   "metadata": {},
   "outputs": [],
   "source": [
    "energy_map = calculate_energy_map(towers).astype(np.uint8)\n",
    "        \n",
    "# Convert energy map from 1 channel to 3 channels\n",
    "energy_map_rgb = np.repeat(energy_map[:, :, np.newaxis], 3, axis=2)\n",
    "\n",
    "disp(energy_map_rgb.astype(np.uint8), title=\"Energy Map\")\n",
    "print(energy_map_rgb.min(), energy_map_rgb.max())"
   ]
  },
  {
   "cell_type": "markdown",
   "metadata": {},
   "source": [
    "### Remove object"
   ]
  },
  {
   "cell_type": "markdown",
   "metadata": {},
   "source": [
    "#### example towers"
   ]
  },
  {
   "cell_type": "code",
   "execution_count": null,
   "metadata": {},
   "outputs": [],
   "source": [
    "mask = np.zeros_like(towers, dtype=np.uint8)[:,:,0]\n",
    "mask[10:350,330:600] = 255\n",
    "# mask[300:400,300:400] = 255\n",
    "disp(mask)"
   ]
  },
  {
   "cell_type": "code",
   "execution_count": null,
   "metadata": {},
   "outputs": [],
   "source": [
    "tower_seams_drawn2 = visualize_best_seams(towers, num_seams=100, mask=mask, seam_dir=\"vertical\", cmap=\"Reds\", on_image=False)\n",
    "disp(tower_seams_drawn2, title=\"Best Seams\", s=15)"
   ]
  },
  {
   "cell_type": "code",
   "execution_count": null,
   "metadata": {},
   "outputs": [],
   "source": [
    "mask_cp = mask.copy()\n",
    "reduced = towers.copy()\n",
    "for i in range(350):\n",
    "    energy_test = calculate_energy_map(reduced, mask=mask_cp)\n",
    "    # disp(energy_test, title=\"Energy Map\")\n",
    "    seam, energy = find_best_seam(energy_test)\n",
    "    # disp(draw_seam(res, seam, color=[255,0,0]))\n",
    "    reduced, mask_cp = remove_seam(reduced, seam, mask=mask_cp)\n",
    "disp(reduced)"
   ]
  },
  {
   "cell_type": "code",
   "execution_count": null,
   "metadata": {},
   "outputs": [],
   "source": [
    "mask_cp = mask.copy()\n",
    "reduced = towers.copy()\n",
    "i = 0\n",
    "while (mask_cp>127).sum() > 0:\n",
    "    i += 1\n",
    "    energy_test = calculate_energy_map(reduced, mask=mask_cp)\n",
    "    # disp(energy_test, title=\"Energy Map\")\n",
    "    seam, energy = find_best_seam(energy_test)\n",
    "    # disp(draw_seam(res, seam, color=[255,0,0]))\n",
    "    reduced, mask_cp = remove_seam(reduced, seam, mask=mask_cp)\n",
    "disp(reduced)\n",
    "print(f\"Removed {i} seams to remove the mask entirely\")"
   ]
  },
  {
   "cell_type": "code",
   "execution_count": null,
   "metadata": {},
   "outputs": [],
   "source": [
    "towersless, mask_new = shrink_image(towers, 350, mask=mask, save_animation=True)\n",
    "disp(towersless, title=\"Removed Towers\", s=15)"
   ]
  },
  {
   "cell_type": "markdown",
   "metadata": {},
   "source": [
    "#### example queen"
   ]
  },
  {
   "cell_type": "code",
   "execution_count": null,
   "metadata": {},
   "outputs": [],
   "source": [
    "trumpqueen_seams_drawn = visualize_best_seams(trump_queen, num_seams=100, mask=trump_queen_mask, seam_dir=\"vertical\", cmap=\"Reds\", on_image=False)\n",
    "disp(trumpqueen_seams_drawn, title=\"Best Seams\", s=15)"
   ]
  },
  {
   "cell_type": "code",
   "execution_count": null,
   "metadata": {},
   "outputs": [],
   "source": [
    "mask_cp = trump_queen_mask.copy()\n",
    "reduced = trump_queen.copy()\n",
    "i = 0\n",
    "while (mask_cp>127).sum() > 0:\n",
    "    i += 1\n",
    "    energy_test = calculate_energy_map(reduced, mask=mask_cp)\n",
    "    # disp(energy_test, title=\"Energy Map\")\n",
    "    seam, energy = find_best_seam(energy_test)\n",
    "    # disp(draw_seam(res, seam, color=[255,0,0]))\n",
    "    reduced, mask_cp = remove_seam(reduced, seam, mask=mask_cp)\n",
    "disp(reduced)\n",
    "print(f\"Removed {i} seams to remove the queen entirely\")"
   ]
  },
  {
   "cell_type": "code",
   "execution_count": null,
   "metadata": {},
   "outputs": [],
   "source": [
    "queenless, mask_queen_new = shrink_image(trump_queen, 170, mask=trump_queen_mask, save_animation=True)\n",
    "disp(queenless, title=\"Removed Queen\", s=15)"
   ]
  },
  {
   "cell_type": "code",
   "execution_count": null,
   "metadata": {},
   "outputs": [],
   "source": [
    "queen_expanded = expand_image(trump_queen, 170, save_animation=False)\n",
    "disp(queen_expanded, title=\"Expanded Towers Good\", s=15)\n",
    "print(\"trump_queen.shape\", trump_queen.shape)\n",
    "print(\"queen_expanded.shape\", queen_expanded.shape)"
   ]
  },
  {
   "cell_type": "code",
   "execution_count": null,
   "metadata": {},
   "outputs": [],
   "source": [
    "queen_expanded = expand_image(queenless, 170, save_animation=False)\n",
    "disp(queen_expanded, title=\"Expanded Towers Good\", s=15)\n",
    "disp(trump_queen, title=\"Expanded Queen\", s=15)\n",
    "print(\"queenless.shape\", trump_queen.shape)\n",
    "print(\"queen_expanded.shape\", queen_expanded.shape)"
   ]
  }
 ],
 "metadata": {
  "interpreter": {
   "hash": "3858431499dcaaf4de29b8b352749eebe871787bd67cf3dfc1982c43a6256c9d"
  },
  "kernelspec": {
   "display_name": "Python 3.10.1 64-bit",
   "language": "python",
   "name": "python3"
  },
  "language_info": {
   "codemirror_mode": {
    "name": "ipython",
    "version": 3
   },
   "file_extension": ".py",
   "mimetype": "text/x-python",
   "name": "python",
   "nbconvert_exporter": "python",
   "pygments_lexer": "ipython3",
   "version": "3.10.1"
  },
  "orig_nbformat": 4
 },
 "nbformat": 4,
 "nbformat_minor": 2
}
