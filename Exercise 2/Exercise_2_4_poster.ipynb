{
 "cells": [
  {
   "cell_type": "markdown",
   "metadata": {},
   "source": [
    "# Exercise 2_4 Digital Image Processing\n",
    "\n",
    "Amirkabir University of Technology\n",
    "\n",
    "Dr. Rahmati\n",
    "\n",
    "by Gholamreza Dar\n",
    "\n",
    "Spring 2022"
   ]
  },
  {
   "cell_type": "code",
   "execution_count": null,
   "metadata": {},
   "outputs": [],
   "source": [
    "import numpy as np\n",
    "import matplotlib.pyplot as plt\n",
    "import seaborn as sns; sns.set()\n",
    "import cv2\n",
    "import os\n",
    "from tqdm import tqdm\n",
    "from numba import jit, njit\n",
    "sns.set_style(\"dark\")\n"
   ]
  },
  {
   "cell_type": "markdown",
   "metadata": {},
   "source": [
    "## Functions"
   ]
  },
  {
   "cell_type": "markdown",
   "metadata": {},
   "source": [
    "### Helpers"
   ]
  },
  {
   "cell_type": "code",
   "execution_count": null,
   "metadata": {},
   "outputs": [],
   "source": [
    "def rgb(img):\n",
    "    return cv2.cvtColor(img, cv2.COLOR_BGR2RGB)\n",
    "\n",
    "def bgr(img):\n",
    "    return cv2.cvtColor(img, cv2.COLOR_RGB2BGR)\n",
    "\n",
    "def gray(img):\n",
    "    return cv2.cvtColor(img, cv2.COLOR_RGB2GRAY)"
   ]
  },
  {
   "cell_type": "code",
   "execution_count": null,
   "metadata": {},
   "outputs": [],
   "source": [
    "def disp(img, title=None, s=15):\n",
    "    plt.figure(figsize=(s,s))\n",
    "    if title is not None:\n",
    "        plt.title(title)\n",
    "    plt.axis('off')\n",
    "    plt.imshow(img, cmap='gray')\n",
    "    plt.show()"
   ]
  },
  {
   "cell_type": "markdown",
   "metadata": {},
   "source": [
    "### Bilateral Filter"
   ]
  },
  {
   "cell_type": "code",
   "execution_count": null,
   "metadata": {},
   "outputs": [],
   "source": [
    "obama = rgb(cv2.imread(\"inputs/P4/putin.png\"))"
   ]
  },
  {
   "cell_type": "code",
   "execution_count": null,
   "metadata": {},
   "outputs": [],
   "source": [
    "def bilateral_filter(image, d, c, e):\n",
    "    return cv2.bilateralFilter(image, d, c, e)"
   ]
  },
  {
   "cell_type": "code",
   "execution_count": null,
   "metadata": {},
   "outputs": [],
   "source": [
    "@jit\n",
    "def bilateral_filter_ghd(image, d, sigma_d, sigma_r):\n",
    "    sigma_d = 2*sigma_d*sigma_d\n",
    "    sigma_r = 2*sigma_r*sigma_r\n",
    "\n",
    "    image = image.astype(np.float32)\n",
    "    result = np.zeros(image.shape, dtype=np.float32)\n",
    "    for i in range(image.shape[0]):\n",
    "        for j in range(image.shape[1]):\n",
    "            numerator = np.array([0, 0, 0], dtype=np.float32)\n",
    "            denominator = np.array([0, 0, 0], dtype=np.float32)\n",
    "            for k in range(i-d//2, i+d//2):\n",
    "                for l in range(j-d//2, j+d//2):\n",
    "                    if 0 <= k < image.shape[0] and 0 <= l < image.shape[1]:\n",
    "                        w_ijkl = w(image, i, j, k, l, sigma_d, sigma_r) \n",
    "                        numerator += image[k, l] * w_ijkl\n",
    "                        denominator += w_ijkl\n",
    "            result[i, j] = numerator / denominator\n",
    "                        \n",
    "    return result.astype(np.uint8)"
   ]
  },
  {
   "cell_type": "code",
   "execution_count": null,
   "metadata": {},
   "outputs": [],
   "source": [
    "@jit\n",
    "def w(image, i, j, k, l, sigma_d, sigma_r):\n",
    "    return np.exp(-((i-k)**2 + (j-l)**2)/(sigma_d)-((image[i][j] - image[k][l])**2)/(sigma_r))"
   ]
  },
  {
   "cell_type": "markdown",
   "metadata": {},
   "source": [
    "### Make Poster"
   ]
  },
  {
   "cell_type": "code",
   "execution_count": null,
   "metadata": {},
   "outputs": [],
   "source": [
    "def make_poster(image, mask, colors, gamma=1.0, d=75, c=50, e=10, debug=True):\n",
    "    # 1.Apply bilateral filter to images\n",
    "    image_bilateral = bilateral_filter(image, d, c, e)\n",
    "    \n",
    "    if debug:\n",
    "        disp(image_bilateral, \"Bilateral filtered image\")\n",
    "    \n",
    "    # 2.Convert to grayscale\n",
    "    image_bilateral = gray(image_bilateral)\n",
    "\n",
    "    # 3.Posterization and gamma correction\n",
    "    colors_count = len(colors)\n",
    "    image_bilateral =  np.power(image_bilateral, gamma)\n",
    "    image_bilateral /= image_bilateral.max()/255\n",
    "    image_bilateral = image_bilateral//(255/(colors_count-1))*(255//(colors_count-1))\n",
    "\n",
    "    if debug:\n",
    "        disp(image_bilateral, \"Posterized image\")\n",
    "    \n",
    "    # 4.Color in the foreground\n",
    "    poster = np.ones_like(image)\n",
    "    unique_values = np.unique(image_bilateral)\n",
    "    if debug:\n",
    "        print(unique_values)\n",
    "\n",
    "    for i in range(len(unique_values)):\n",
    "        poster[image_bilateral == unique_values[i]] = colors[i]\n",
    "\n",
    "    # 5.Color in the background\n",
    "    poster[:, :poster.shape[1]//2] = np.where(mask==0, colors[2], poster)[:, :poster.shape[1]//2]\n",
    "    poster[:, poster.shape[1]//2:] = np.where(mask==0, colors[1], poster)[:, poster.shape[1]//2:]\n",
    "\n",
    "    return poster\n",
    "    "
   ]
  },
  {
   "cell_type": "code",
   "execution_count": null,
   "metadata": {},
   "outputs": [],
   "source": [
    "def make_poster_tricolor(image, mask, colors, gamma=1.0, d=75, c=50, e=10, debug=True):\n",
    "    # 1.Apply bilateral filter to images\n",
    "    image_bilateral = bilateral_filter(image, d, c, e)\n",
    "    \n",
    "    if debug:\n",
    "        disp(image_bilateral, \"Bilateral filtered image\")\n",
    "    \n",
    "    # 2.Convert to grayscale\n",
    "    image_bilateral = gray(image_bilateral)\n",
    "\n",
    "    # 3.Posterization and gamma correction\n",
    "    colors_count = len(colors)\n",
    "    image_bilateral =  np.power(image_bilateral, gamma)\n",
    "    image_bilateral /= image_bilateral.max()/255\n",
    "    image_bilateral = image_bilateral//(255/(colors_count-1))*(255//(colors_count-1))\n",
    "\n",
    "    if debug:\n",
    "        disp(image_bilateral, \"Posterized image\")\n",
    "    \n",
    "    # 4.Color in the foreground\n",
    "    poster = np.ones_like(image)\n",
    "    unique_values = np.unique(image_bilateral)\n",
    "    if debug:\n",
    "        print(unique_values)\n",
    "\n",
    "    for i in range(len(unique_values)):\n",
    "        poster[image_bilateral == unique_values[i]] = colors[i]\n",
    "\n",
    "    # 5.Color in the background\n",
    "    poster[:, :poster.shape[1]//5] = np.where(mask==0, colors[3], poster)[:, :poster.shape[1]//5]\n",
    "    poster[:, poster.shape[1]//5:4*poster.shape[1]//5] = np.where(mask==0, colors[2], poster)[:, poster.shape[1]//5:4*poster.shape[1]//5]\n",
    "    poster[:, 4*poster.shape[1]//5:] = np.where(mask==0, colors[1], poster)[:, 4*poster.shape[1]//5:]\n",
    "\n",
    "    return poster\n",
    "    "
   ]
  },
  {
   "cell_type": "markdown",
   "metadata": {},
   "source": [
    "### Add Text"
   ]
  },
  {
   "cell_type": "code",
   "execution_count": null,
   "metadata": {},
   "outputs": [],
   "source": [
    "from PIL import Image, ImageFont, ImageDraw \n",
    "\n",
    "def add_text(poster, text, color, h=200, who=None):\n",
    "    # Add a bottom margin\n",
    "    extended_poster = np.zeros((poster.shape[0]+h, poster.shape[1], 3), dtype=np.uint8)\n",
    "    extended_poster[:poster.shape[0], :poster.shape[1]] = poster\n",
    "    extended_poster[poster.shape[0]:, :poster.shape[1]] = [0, 48, 80]\n",
    "\n",
    "    # middle line for alignment\n",
    "    # extended_poster[:, poster.shape[1]//2:poster.shape[1]//2+1] = [0, 0, 0]\n",
    "\n",
    "    img = Image.fromarray(extended_poster)\n",
    "    draw = ImageDraw.Draw(img)\n",
    "    if who == \"obama\":\n",
    "        font = ImageFont.truetype(\"georgia.ttf\", 100, encoding=\"unic\")\n",
    "        draw.text((poster.shape[1]//2-120,poster.shape[0]+40), text, tuple(color), font=font)\n",
    "        return img\n",
    "    elif who == \"zelensky\":\n",
    "        font = ImageFont.truetype(\"georgia.ttf\", 90, encoding=\"unic\")\n",
    "        draw.text((poster.shape[1]//2-170,poster.shape[0]-3), text, tuple(color), font=font)\n",
    "        return img\n",
    "    elif who == \"putin\":\n",
    "        font = ImageFont.truetype(\"georgia.ttf\", 100, encoding=\"unic\")\n",
    "        draw.text((poster.shape[1]//2-160,poster.shape[0]+40), text, tuple(color), font=font)\n",
    "        return img\n",
    "    else:\n",
    "        print(\"Parameter who is not provided\")"
   ]
  },
  {
   "cell_type": "markdown",
   "metadata": {},
   "source": [
    "## Load Images"
   ]
  },
  {
   "cell_type": "code",
   "execution_count": null,
   "metadata": {},
   "outputs": [],
   "source": [
    "obama = rgb(cv2.imread(\"inputs/P4/obama.png\"))\n",
    "obama_mask = rgb(cv2.imread(\"inputs/P4/obama_mask.png\"))\n",
    "\n",
    "zelensky = rgb(cv2.imread(\"inputs/P4/zelensky.png\"))\n",
    "zelensky2 = rgb(cv2.imread(\"inputs/P4/zelensky2.png\"))\n",
    "zelensky3 = rgb(cv2.imread(\"inputs/P4/zelensky3.png\"))\n",
    "zelensky_mask = rgb(cv2.imread(\"inputs/P4/zelensky_mask.png\"))\n",
    "\n",
    "putin = rgb(cv2.imread(\"inputs/P4/putin.png\"))\n",
    "putin2 = rgb(cv2.imread(\"inputs/P4/putin4.png\"))\n",
    "putin_mask = rgb(cv2.imread(\"inputs/P4/putin_mask.png\"))"
   ]
  },
  {
   "cell_type": "markdown",
   "metadata": {},
   "source": [
    "## process"
   ]
  },
  {
   "cell_type": "code",
   "execution_count": null,
   "metadata": {},
   "outputs": [],
   "source": [
    "# Apply bilateral filter to images\n",
    "obama_bilateral = bilateral_filter(obama, 10, 50, 30)\n",
    "obama_bilateral2 = bilateral_filter_ghd(obama, 10, 50, 30)\n",
    "disp(obama_bilateral, s=10)\n",
    "disp(obama_bilateral2, s=10)"
   ]
  },
  {
   "cell_type": "code",
   "execution_count": null,
   "metadata": {},
   "outputs": [],
   "source": [
    "## REMOVE THIS AFTER TESTS\n",
    "d = 20\n",
    "sigma_d = 30\n",
    "sigma_r = 40\n",
    "\n",
    "obama_bilateral_test = bilateral_filter_ghd(obama, d, sigma_d, sigma_r)\n",
    "disp(obama_bilateral_test,title=f\"d={d} | sigma_d={sigma_d}, sigma_r={sigma_r}\", s=10)"
   ]
  },
  {
   "cell_type": "code",
   "execution_count": null,
   "metadata": {},
   "outputs": [],
   "source": [
    "obama_bilateral = gray(obama_bilateral2) \n",
    "disp(obama_bilateral, s=10)"
   ]
  },
  {
   "cell_type": "code",
   "execution_count": null,
   "metadata": {},
   "outputs": [],
   "source": [
    "obama_org = obama_bilateral.copy()"
   ]
  },
  {
   "cell_type": "code",
   "execution_count": null,
   "metadata": {},
   "outputs": [],
   "source": [
    "obama_bilateral = obama_org.copy()\n",
    "\n",
    "obama_bilateral =  np.power(obama_bilateral, 0.9)\n",
    "obama_bilateral /= obama_bilateral.max()/255\n",
    "obama_bilateral = obama_bilateral//(255/4)*(255//4)\n",
    "disp(obama_bilateral, s=10)"
   ]
  },
  {
   "cell_type": "code",
   "execution_count": null,
   "metadata": {},
   "outputs": [],
   "source": [
    "np.unique(obama_bilateral)"
   ]
  },
  {
   "cell_type": "code",
   "execution_count": null,
   "metadata": {},
   "outputs": [],
   "source": [
    "colors = [\n",
    "    np.array([255, 0, 0]),\n",
    "    np.array([0, 255, 0]), \n",
    "    np.array([0, 0, 255]),\n",
    "    np.array([255, 255, 0]),\n",
    "    np.array([255, 255, 0])]\n",
    "\n",
    "obama_poster = np.ones_like(obama)\n",
    "unique_values = np.unique(obama_bilateral)\n",
    "# Color in the foreground\n",
    "for i in range(len(unique_values)):\n",
    "    obama_poster[obama_bilateral == unique_values[i]] = colors[i]\n",
    "\n",
    "# Color in the background\n",
    "obama_poster[:, :obama_poster.shape[1]//2] = np.where(obama_mask==0, colors[1], obama_poster)[:, :obama_poster.shape[1]//2]\n",
    "obama_poster[:, obama_poster.shape[1]//2:] = np.where(obama_mask==0, colors[3], obama_poster)[:, obama_poster.shape[1]//2:]\n",
    "\n",
    "disp(obama_poster, s=10)"
   ]
  },
  {
   "cell_type": "code",
   "execution_count": null,
   "metadata": {},
   "outputs": [],
   "source": [
    "colors = [\n",
    "    np.array([0, 48, 80]),\n",
    "    np.array([218, 20, 21]),\n",
    "    np.array([112, 150, 160]), \n",
    "    np.array([250, 227, 173]),\n",
    "    np.array([250, 227, 173])\n",
    "    ]\n",
    "\n",
    "obama_poster = np.ones_like(obama)\n",
    "unique_values = np.unique(obama_bilateral)\n",
    "# Color in the foreground\n",
    "for i in range(len(unique_values)):\n",
    "    obama_poster[obama_bilateral == unique_values[i]] = colors[i]\n",
    "\n",
    "# Color in the background\n",
    "obama_poster[:, :obama_poster.shape[1]//2] = np.where(obama_mask==0, colors[2], obama_poster)[:, :obama_poster.shape[1]//2]\n",
    "obama_poster[:, obama_poster.shape[1]//2:] = np.where(obama_mask==0, colors[1], obama_poster)[:, obama_poster.shape[1]//2:]\n",
    "\n",
    "disp(obama_poster, s=10)"
   ]
  },
  {
   "cell_type": "markdown",
   "metadata": {},
   "source": [
    "## End to End"
   ]
  },
  {
   "cell_type": "markdown",
   "metadata": {},
   "source": [
    "### Obama"
   ]
  },
  {
   "cell_type": "code",
   "execution_count": null,
   "metadata": {},
   "outputs": [],
   "source": [
    "# Obama\n",
    "colors = [\n",
    "    np.array([0, 48, 80]),\n",
    "    np.array([218, 20, 21]),\n",
    "    np.array([112, 150, 160]), \n",
    "    np.array([250, 227, 173]),\n",
    "    np.array([250, 227, 173]),\n",
    "    ]\n",
    "obama_poster = make_poster(obama, obama_mask, colors, gamma=1.2,d=20, c=40, e=20, debug=False)\n",
    "# cv2.imwrite(\"P4_result/obama_poster.png\", bgr(obama_poster))\n",
    "disp(obama_poster.copy(), \"Obama Poster gamma 1.2\", s=10)"
   ]
  },
  {
   "cell_type": "markdown",
   "metadata": {},
   "source": [
    "### Zelensky"
   ]
  },
  {
   "cell_type": "code",
   "execution_count": null,
   "metadata": {},
   "outputs": [],
   "source": [
    "# zelensky\n",
    "colors = [\n",
    "    np.array([0, 48, 80]),\n",
    "    np.array([0, 69, 177]),\n",
    "    np.array([217, 182, 63]), \n",
    "    np.array([255, 235, 175]),\n",
    "    np.array([255, 235, 175]),\n",
    "    ]\n",
    "zelensky_poster = make_poster(zelensky, zelensky_mask, colors, gamma=0.9,d=20, c=50, e=20, debug=False)\n",
    "# cv2.imwrite(\"P4_result/zelensky_poster_v1.png\", bgr(zelensky_poster))\n",
    "disp(zelensky_poster.copy(), \"Zelensky Poster\", s=6)"
   ]
  },
  {
   "cell_type": "code",
   "execution_count": null,
   "metadata": {},
   "outputs": [],
   "source": [
    "# zelensky\n",
    "colors = [\n",
    "    np.array([0, 48, 80]),\n",
    "    np.array([0, 69, 177]),\n",
    "    np.array([217, 182, 63]), \n",
    "    np.array([255, 235, 175]),\n",
    "    np.array([255, 235, 175]),\n",
    "    ]\n",
    "zelensky_poster = make_poster(zelensky2, zelensky_mask, colors, gamma=0.9,d=20, c=50, e=20, debug=False)\n",
    "# cv2.imwrite(\"P4_result/zelensky_poster_v2.png\", bgr(zelensky_poster))\n",
    "disp(zelensky_poster.copy(), \"Zelensky Poster\", s=6)"
   ]
  },
  {
   "cell_type": "code",
   "execution_count": null,
   "metadata": {},
   "outputs": [],
   "source": [
    "# zelensky\n",
    "colors = [\n",
    "    np.array([0, 48, 80]),\n",
    "    np.array([0, 69, 177]),\n",
    "    np.array([217, 182, 63]), \n",
    "    np.array([255, 235, 175]),\n",
    "    np.array([255, 235, 175]),\n",
    "    ]\n",
    "zelensky_poster = make_poster(zelensky3, zelensky_mask, colors, gamma=0.9,d=20, c=50, e=20, debug=False)\n",
    "# cv2.imwrite(\"P4_result/zelensky_poster_v3.png\", bgr(zelensky_poster))\n",
    "disp(zelensky_poster.copy(), \"Zelensky Poster\", s=6)"
   ]
  },
  {
   "cell_type": "markdown",
   "metadata": {},
   "source": [
    "### Putin"
   ]
  },
  {
   "cell_type": "code",
   "execution_count": null,
   "metadata": {},
   "outputs": [],
   "source": [
    "# Putin\n",
    "colors = [\n",
    "    np.array([0, 48, 80]),\n",
    "    np.array([206, 42, 29]),\n",
    "    np.array([0, 55, 161]), \n",
    "    np.array([222, 220, 235]),\n",
    "    np.array([222, 220, 235]),\n",
    "    ]\n",
    "putin_poster = make_poster_tricolor(putin, putin_mask, colors, gamma=0.85,d=20, c=40, e=20, debug=False)\n",
    "# cv2.imwrite(\"P4_result/putin_poster_v1.png\", bgr(putin_poster))\n",
    "disp(putin_poster.copy(), \"Putin Poster\", s=6)"
   ]
  },
  {
   "cell_type": "code",
   "execution_count": null,
   "metadata": {},
   "outputs": [],
   "source": [
    "# Putin\n",
    "colors = [\n",
    "    np.array([0, 48, 80]),\n",
    "    np.array([206, 42, 29]),\n",
    "    np.array([0, 55, 161]), \n",
    "    np.array([222, 220, 235]),\n",
    "    np.array([222, 220, 235]),\n",
    "    ]\n",
    "putin_poster = make_poster_tricolor(putin2, putin_mask, colors, gamma=0.85,d=20, c=40, e=40, debug=False)\n",
    "cv2.imwrite(\"P4_result/putin_poster_v2.png\", bgr(putin_poster))\n",
    "disp(putin_poster.copy(), \"Putin Poster\", s=6)"
   ]
  },
  {
   "cell_type": "markdown",
   "metadata": {},
   "source": [
    "## Add Text"
   ]
  },
  {
   "cell_type": "markdown",
   "metadata": {},
   "source": [
    "### Obama"
   ]
  },
  {
   "cell_type": "code",
   "execution_count": null,
   "metadata": {},
   "outputs": [],
   "source": [
    "obama_poster_with_text = add_text(obama_poster, \"Hope\", (112, 150, 160), who=\"obama\")\n",
    "obama_poster_with_text = np.array(obama_poster_with_text)\n",
    "# cv2.imwrite(\"P4_result/obama_poster_with_text3.png\", bgr(obama_poster_with_text))\n",
    "disp(obama_poster_with_text, \"Obama Poster with Text\", s=6)"
   ]
  },
  {
   "cell_type": "markdown",
   "metadata": {},
   "source": [
    "### Zelensky"
   ]
  },
  {
   "cell_type": "code",
   "execution_count": null,
   "metadata": {},
   "outputs": [],
   "source": [
    "zelensky_poster_with_text = add_text(zelensky_poster, \"  Слава\\nУкраїні!\", (250, 227, 173), who=\"zelensky\")\n",
    "zelensky_poster_with_text = np.array(zelensky_poster_with_text)\n",
    "# cv2.imwrite(\"P4_result/zelensky_poster_with_text.png\", bgr(zelensky_poster_with_text))\n",
    "disp(zelensky_poster_with_text, \"Zelensky Poster with Text\", s=6)\n"
   ]
  },
  {
   "cell_type": "markdown",
   "metadata": {},
   "source": [
    "### Putin"
   ]
  },
  {
   "cell_type": "code",
   "execution_count": null,
   "metadata": {},
   "outputs": [],
   "source": [
    "putin_poster_with_text = add_text(putin_poster, \"Россия\", (222, 220, 235), who=\"putin\")\n",
    "putin_poster_with_text = np.array(putin_poster_with_text)\n",
    "# cv2.imwrite(\"P4_result/putin_poster_with_text.png\", bgr(putin_poster_with_text))\n",
    "disp(putin_poster_with_text, \"Putin Poster with Text\", s=6)\n"
   ]
  }
 ],
 "metadata": {
  "interpreter": {
   "hash": "e1f78980d8402c2aa3bc5b076b37f3f79ff6b7409eee8995f6ccbb4aa05c332a"
  },
  "kernelspec": {
   "display_name": "Python 3.10.1 64-bit",
   "language": "python",
   "name": "python3"
  },
  "language_info": {
   "codemirror_mode": {
    "name": "ipython",
    "version": 3
   },
   "file_extension": ".py",
   "mimetype": "text/x-python",
   "name": "python",
   "nbconvert_exporter": "python",
   "pygments_lexer": "ipython3",
   "version": "3.10.1"
  },
  "orig_nbformat": 4
 },
 "nbformat": 4,
 "nbformat_minor": 2
}
