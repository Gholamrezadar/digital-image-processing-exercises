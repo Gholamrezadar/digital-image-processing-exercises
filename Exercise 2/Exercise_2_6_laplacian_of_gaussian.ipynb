{
 "cells": [
  {
   "cell_type": "code",
   "execution_count": null,
   "metadata": {},
   "outputs": [],
   "source": [
    "import cv2\n",
    "import numpy as np\n",
    "import matplotlib.pyplot as plt\n",
    "\n",
    "def rgb(img):\n",
    "    return cv2.cvtColor(img, cv2.COLOR_BGR2RGB)\n",
    "\n",
    "def bgr(img):\n",
    "    return cv2.cvtColor(img, cv2.COLOR_RGB2BGR)\n",
    "\n",
    "def gray(img):\n",
    "    return cv2.cvtColor(img, cv2.COLOR_RGB2GRAY)\n",
    "\n",
    "def disp(img, title=None, s=15):\n",
    "    plt.figure(figsize=(s,s))\n",
    "    if title is not None:\n",
    "        plt.title(title)\n",
    "    plt.axis('off')\n",
    "    plt.imshow(img, cmap='gray')\n",
    "    plt.show()\n"
   ]
  },
  {
   "cell_type": "code",
   "execution_count": null,
   "metadata": {},
   "outputs": [],
   "source": [
    "# Load the image in greyscale\n",
    "image = cv2.imread('4_12.png',0)\n",
    "image = np.ones((30,30))\n",
    "image[:, 15:] = 0\n",
    "\n",
    "disp(image, s=7)\n",
    "\n",
    "for i in range(100):\n",
    "    # Apply Gaussian Blur\n",
    "    image = cv2.GaussianBlur(image,(3,3),10)\n",
    "\n",
    "    # Apply Laplacian operator in some higher datatype\n",
    "    image = cv2.Laplacian(image,cv2.CV_64F)\n",
    "\n",
    "\n",
    "    image_for_display = image.copy()\n",
    "    image_for_display-=image_for_display.min()\n",
    "    image_for_display/=image_for_display.max()/255\n",
    "    # print(image_for_display.max(), image_for_display.min())\n",
    "    cv2.imwrite('log_animation/4_12_'+str(i).zfill(4)+'.png', image_for_display.astype(np.uint8))\n",
    "    # disp(image, s=7)"
   ]
  },
  {
   "cell_type": "code",
   "execution_count": null,
   "metadata": {},
   "outputs": [],
   "source": [
    "\n",
    "# Load the image in greyscale\n",
    "image = cv2.imread('4_12.png',0)\n",
    "\n",
    "for i in range(100):\n",
    "    # Apply Gaussian Blur\n",
    "    blur = cv2.GaussianBlur(image,(3,3),0)\n",
    "\n",
    "    # Apply Laplacian operator in some higher datatype\n",
    "    image = cv2.Laplacian(blur,cv2.CV_64F)\n",
    "\n",
    "    disp(image, s=7)"
   ]
  },
  {
   "cell_type": "code",
   "execution_count": null,
   "metadata": {},
   "outputs": [],
   "source": [
    "def addplus(img, i, j):\n",
    "    img[i,j]=1\n",
    "    img[i+1, j]=1\n",
    "    img[i-1, j]=1\n",
    "    img[i, j+1]=1\n",
    "    img[i, j-1]=1\n"
   ]
  },
  {
   "cell_type": "code",
   "execution_count": null,
   "metadata": {},
   "outputs": [],
   "source": [
    "pluses = np.zeros((30,30), dtype=np.uint8)\n",
    "addplus(pluses, 3,3)\n",
    "addplus(pluses, 5,11)\n",
    "addplus(pluses, 20,3)\n",
    "addplus(pluses, 22,22)\n",
    "pluses[10:18,13:15]=1\n",
    "pluses[13:15,10:18]=1\n",
    "pluses[24:26,11:17]=1\n",
    "disp(pluses, s=7)\n"
   ]
  },
  {
   "cell_type": "code",
   "execution_count": null,
   "metadata": {},
   "outputs": [],
   "source": [
    "from scipy import signal\n",
    "kernel = np.array([\n",
    "    [-1,1,-1],\n",
    "    [1,1,1],\n",
    "    [-1,1,-1]])\n",
    "result = signal.convolve2d(pluses, kernel)\n",
    "disp(result, s=7)"
   ]
  },
  {
   "cell_type": "code",
   "execution_count": null,
   "metadata": {},
   "outputs": [],
   "source": [
    "def non_max_suppression(img, threshold):\n",
    "    # Create a copy of the image\n",
    "    img_out = img.copy()\n",
    "    # Loop over the image\n",
    "    for i in range(1, img.shape[0]-1):\n",
    "        for j in range(1, img.shape[1]-1):\n",
    "            # Get the values of the 8 neighbouring pixels\n",
    "            neighbour_values = img[i-1:i+2, j-1:j+2]\n",
    "            # If the pixel value is greater than the threshold and it is a local maximum\n",
    "            if img_out[i,j]>threshold and img_out[i,j] == neighbour_values.max():\n",
    "                # Set the output pixel value to the threshold\n",
    "                img_out[i,j] = threshold\n",
    "            # Otherwise set the output pixel value to zero\n",
    "            else:\n",
    "                img_out[i,j] = 0\n",
    "    # Return the output image\n",
    "    return img_out\n"
   ]
  },
  {
   "cell_type": "code",
   "execution_count": null,
   "metadata": {},
   "outputs": [],
   "source": [
    "res_nms = non_max_suppression(result,1)\n",
    "disp(res_nms, s=7)"
   ]
  },
  {
   "cell_type": "code",
   "execution_count": null,
   "metadata": {},
   "outputs": [],
   "source": []
  },
  {
   "cell_type": "code",
   "execution_count": null,
   "metadata": {},
   "outputs": [],
   "source": []
  },
  {
   "cell_type": "code",
   "execution_count": null,
   "metadata": {},
   "outputs": [],
   "source": []
  }
 ],
 "metadata": {
  "interpreter": {
   "hash": "e1f78980d8402c2aa3bc5b076b37f3f79ff6b7409eee8995f6ccbb4aa05c332a"
  },
  "kernelspec": {
   "display_name": "Python 3.10.1 64-bit",
   "language": "python",
   "name": "python3"
  },
  "language_info": {
   "codemirror_mode": {
    "name": "ipython",
    "version": 3
   },
   "file_extension": ".py",
   "mimetype": "text/x-python",
   "name": "python",
   "nbconvert_exporter": "python",
   "pygments_lexer": "ipython3",
   "version": "3.10.1"
  },
  "orig_nbformat": 4
 },
 "nbformat": 4,
 "nbformat_minor": 2
}
