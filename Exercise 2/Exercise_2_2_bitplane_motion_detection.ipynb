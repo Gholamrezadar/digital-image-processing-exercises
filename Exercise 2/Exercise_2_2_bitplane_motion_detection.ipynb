{
 "cells": [
  {
   "cell_type": "markdown",
   "metadata": {},
   "source": [
    "# Exercise 2_2 Digital Image Processing\n",
    "\n",
    "Amirkabir University of Technology\n",
    "\n",
    "Dr. Rahmati\n",
    "\n",
    "by Gholamreza Dar\n",
    "\n",
    "Spring 2022"
   ]
  },
  {
   "cell_type": "markdown",
   "metadata": {},
   "source": [
    "## Imports"
   ]
  },
  {
   "cell_type": "code",
   "execution_count": null,
   "metadata": {},
   "outputs": [],
   "source": [
    "import numpy as np\n",
    "import matplotlib.pyplot as plt\n",
    "import seaborn as sns; sns.set()\n",
    "import cv2\n",
    "\n",
    "sns.set_style(\"dark\")\n"
   ]
  },
  {
   "cell_type": "markdown",
   "metadata": {},
   "source": [
    "## Functions"
   ]
  },
  {
   "cell_type": "code",
   "execution_count": null,
   "metadata": {},
   "outputs": [],
   "source": [
    "def disp(img, title=None, s=15, cmap=\"gray\"):\n",
    "    plt.figure(figsize=(s,s))\n",
    "    if title is not None:\n",
    "        plt.title(title)\n",
    "    plt.axis('off')\n",
    "    plt.imshow(img, cmap=cmap)\n",
    "    plt.show()"
   ]
  },
  {
   "cell_type": "markdown",
   "metadata": {},
   "source": [
    "### Slicing"
   ]
  },
  {
   "cell_type": "code",
   "execution_count": null,
   "metadata": {},
   "outputs": [],
   "source": [
    "def bitplane_slice(img):\n",
    "    # Convert to grayscale\n",
    "    img = cv2.cvtColor(img, cv2.COLOR_RGB2GRAY)\n",
    "\n",
    "    # Create an array for bit-planes\n",
    "    bit_planes = np.zeros((*img.shape, 8))\n",
    "\n",
    "    # Calculate bit-planes and store in the array\n",
    "    for i in range(8):\n",
    "        bit_planes[:,:,i] = img//(2**i)%2\n",
    "\n",
    "    return bit_planes"
   ]
  },
  {
   "cell_type": "code",
   "execution_count": null,
   "metadata": {},
   "outputs": [],
   "source": [
    "def visualize_bitplanes(img, name, dpi=100):\n",
    "    # Slice the bit-planes\n",
    "    bit_planes = bitplane_slice(img)\n",
    "\n",
    "    # Plot bit-planes\n",
    "    fig, axs = plt.subplots(2, 4, figsize=(12, 6), constrained_layout=True)\n",
    "    fig.dpi = dpi\n",
    "    fig.suptitle(f\"Bit-planes for {name}\")\n",
    "\n",
    "    # Loop over axes\n",
    "    for i, ax in enumerate(axs.ravel()):\n",
    "        ax.set_title(f\"Bit-plane {i+1}\")\n",
    "        ax.imshow(bit_planes[:,:,i], cmap=\"gray\")\n",
    "        ax.set_axis_off()\n",
    "    \n",
    "    return bit_planes"
   ]
  },
  {
   "cell_type": "markdown",
   "metadata": {},
   "source": [
    "### XOR"
   ]
  },
  {
   "cell_type": "code",
   "execution_count": null,
   "metadata": {},
   "outputs": [],
   "source": [
    "def perform_xor_on_bitplanes(bit_planes_1, bit_planes_2):\n",
    "    # Perform XOR on bit-planes\n",
    "    xor_bit_planes = np.zeros(bit_planes_1.shape)\n",
    "    for i in range(8):\n",
    "        xor_bit_planes[:,:,i] = np.bitwise_xor(bit_planes_1[:,:,i].astype('int32'), bit_planes_2[:,:,i].astype('int32'))\n",
    "\n",
    "    return xor_bit_planes"
   ]
  },
  {
   "cell_type": "code",
   "execution_count": null,
   "metadata": {},
   "outputs": [],
   "source": [
    "def visualize_xor_on_bitplanes(bit_planes, name, dpi=100):\n",
    "    # Plot bit-planes\n",
    "    fig, axs = plt.subplots(2, 4, figsize=(12, 6), constrained_layout=True)\n",
    "    fig.dpi = dpi\n",
    "    fig.suptitle(f\"XOR Bit-planes for {name}\")\n",
    "\n",
    "    # Loop over axes\n",
    "    for i, ax in enumerate(axs.ravel()):\n",
    "        ax.set_title(f\"XOR Bit-plane {i+1}\")\n",
    "        ax.imshow(bit_planes[:,:,i], cmap=\"gray\")\n",
    "        ax.set_axis_off()"
   ]
  },
  {
   "cell_type": "markdown",
   "metadata": {},
   "source": [
    "### Combine"
   ]
  },
  {
   "cell_type": "code",
   "execution_count": null,
   "metadata": {},
   "outputs": [],
   "source": [
    "def combine_bit_planes(bit_planes, least_bit=4):\n",
    "    # Combine bit-planes from least_bit to 8\n",
    "    combined_bit_planes = np.zeros(bit_planes[:,:,0].shape)\n",
    "    for i in range(least_bit-1, 8):\n",
    "        combined_bit_planes += bit_planes[:,:,i]*2**i\n",
    "\n",
    "    return combined_bit_planes\n"
   ]
  },
  {
   "cell_type": "code",
   "execution_count": null,
   "metadata": {},
   "outputs": [],
   "source": [
    "def visualize_combined_bitplanes(comb_bitplanes, name, dpi=100):\n",
    "    # Plot combined bit-planes\n",
    "    fig, ax = plt.subplots(1, 1, figsize=(12, 6), constrained_layout=True)\n",
    "    fig.suptitle(f\"Combined Bit-planes for {name}\")\n",
    "    fig.dpi=dpi\n",
    "\n",
    "    ax.imshow(comb_bitplanes, cmap=\"gray\")\n",
    "    ax.set_axis_off()"
   ]
  },
  {
   "cell_type": "markdown",
   "metadata": {},
   "source": [
    "## Loading the images and preprocessing"
   ]
  },
  {
   "cell_type": "code",
   "execution_count": null,
   "metadata": {},
   "outputs": [],
   "source": [
    "frame_1_1 = cv2.cvtColor(cv2.imread(\"inputs/P2/football_f1_01.png\"), cv2.COLOR_BGR2RGB)\n",
    "frame_1_2 =  cv2.cvtColor(cv2.imread(\"inputs/P2/football_f1_02.png\"), cv2.COLOR_BGR2RGB)\n",
    "frame_1_mask = cv2.imread(\"inputs/P2/football_f1_mask.png\", cv2.IMREAD_GRAYSCALE)\n",
    "frame_1_mask = cv2.threshold(frame_1_mask, 127, 255, cv2.THRESH_BINARY)[1]\n",
    "\n",
    "frame_2_1 =  cv2.cvtColor(cv2.imread(\"inputs/P2/football_f2_01.png\"), cv2.COLOR_BGR2RGB)\n",
    "frame_2_2 =  cv2.cvtColor(cv2.imread(\"inputs/P2/football_f2_02.png\"), cv2.COLOR_BGR2RGB)\n",
    "frame_2_mask = cv2.imread(\"inputs/P2/football_f2_mask.png\", cv2.IMREAD_GRAYSCALE)\n",
    "frame_2_mask = cv2.threshold(frame_2_mask, 127, 255, cv2.THRESH_BINARY)[1]\n",
    "\n",
    "frame_3_1 =  cv2.cvtColor(cv2.imread(\"inputs/P2/football_f3_01.png\"), cv2.COLOR_BGR2RGB)\n",
    "frame_3_2 =  cv2.cvtColor(cv2.imread(\"inputs/P2/football_f3_02.png\"), cv2.COLOR_BGR2RGB)\n",
    "frame_3_mask = cv2.imread(\"inputs/P2/football_f3_mask.png\", cv2.IMREAD_GRAYSCALE)\n",
    "frame_3_mask = cv2.threshold(frame_3_mask, 127, 255, cv2.THRESH_BINARY)[1]\n",
    "\n",
    "# Testing Blur\n",
    "ksize = 3\n",
    "frame_1_1 = cv2.GaussianBlur(frame_1_1, (ksize, ksize), 0)\n",
    "frame_1_2 = cv2.GaussianBlur(frame_1_2, (ksize, ksize), 0)\n",
    "\n",
    "frame_2_1 = cv2.GaussianBlur(frame_2_1, (ksize, ksize), 0)\n",
    "frame_2_2 = cv2.GaussianBlur(frame_2_2, (ksize, ksize), 0)\n",
    "\n",
    "frame_3_1 = cv2.GaussianBlur(frame_3_1, (ksize, ksize), 0)\n",
    "frame_3_2 = cv2.GaussianBlur(frame_3_2, (ksize, ksize), 0)\n",
    "\n",
    "fig, axs = plt.subplots(2, 3, figsize=(11, 6), constrained_layout=True)\n",
    "fig.dpi = 100\n",
    "fig.suptitle(\"Original Frames\")\n",
    "\n",
    "axs[0][0].set_title(\"Frame 1_1\")\n",
    "axs[0][0].imshow(frame_1_1)\n",
    "axs[0][0].set_axis_off()\n",
    "axs[1][0].set_title(\"Frame 1_2\")\n",
    "axs[1][0].imshow(frame_1_2)\n",
    "axs[1][0].set_axis_off()\n",
    "\n",
    "axs[0][1].set_title(\"Frame 2_1\")\n",
    "axs[0][1].imshow(frame_2_1)\n",
    "axs[0][1].set_axis_off()\n",
    "axs[1][1].set_title(\"Frame 2_2\")\n",
    "axs[1][1].imshow(frame_2_2)\n",
    "axs[1][1].set_axis_off()\n",
    "\n",
    "axs[0][2].set_title(\"Frame 3_1\")\n",
    "axs[0][2].imshow(frame_3_1)\n",
    "axs[0][2].set_axis_off()\n",
    "axs[1][2].set_title(\"Frame 3_2\")\n",
    "axs[1][2].imshow(frame_3_2)\n",
    "axs[1][2].set_axis_off()\n",
    "\n"
   ]
  },
  {
   "cell_type": "code",
   "execution_count": null,
   "metadata": {},
   "outputs": [],
   "source": [
    "# Masking\n",
    "\n",
    "frame_1_1 = cv2.bitwise_and(frame_1_1, frame_1_1, mask=frame_1_mask)\n",
    "frame_1_2 = cv2.bitwise_and(frame_1_2, frame_1_2, mask=frame_1_mask)\n",
    "\n",
    "frame_2_1 = cv2.bitwise_and(frame_2_1, frame_2_1, mask=frame_2_mask)\n",
    "frame_2_2 = cv2.bitwise_and(frame_2_2, frame_2_2, mask=frame_2_mask)\n",
    "\n",
    "frame_3_1 = cv2.bitwise_and(frame_3_1, frame_3_1, mask=frame_3_mask)\n",
    "frame_3_2 = cv2.bitwise_and(frame_3_2, frame_3_2, mask=frame_3_mask)\n",
    "\n",
    "\n",
    "fig, axs = plt.subplots(2, 3, figsize=(11, 6), constrained_layout=True)\n",
    "fig.dpi = 100\n",
    "fig.suptitle(\"Original Frames Masked\")\n",
    "\n",
    "axs[0][0].set_title(\"Frame 1_1\")\n",
    "axs[0][0].imshow(frame_1_1)\n",
    "axs[0][0].set_axis_off()\n",
    "axs[1][0].set_title(\"Frame 1_2\")\n",
    "axs[1][0].imshow(frame_1_2)\n",
    "axs[1][0].set_axis_off()\n",
    "\n",
    "axs[0][1].set_title(\"Frame 2_1\")\n",
    "axs[0][1].imshow(frame_2_1)\n",
    "axs[0][1].set_axis_off()\n",
    "axs[1][1].set_title(\"Frame 2_2\")\n",
    "axs[1][1].imshow(frame_2_2)\n",
    "axs[1][1].set_axis_off()\n",
    "\n",
    "axs[0][2].set_title(\"Frame 3_1\")\n",
    "axs[0][2].imshow(frame_3_1)\n",
    "axs[0][2].set_axis_off()\n",
    "axs[1][2].set_title(\"Frame 3_2\")\n",
    "axs[1][2].imshow(frame_3_2)\n",
    "axs[1][2].set_axis_off()"
   ]
  },
  {
   "cell_type": "markdown",
   "metadata": {},
   "source": [
    "## Bit-plane Slicing"
   ]
  },
  {
   "cell_type": "code",
   "execution_count": null,
   "metadata": {},
   "outputs": [],
   "source": [
    "# Slice and visualize bit-planes\n",
    "frame_1_1_bit_planes = visualize_bitplanes(frame_1_1, \"Frame 1_1\")\n",
    "frame_1_2_bit_planes = visualize_bitplanes(frame_1_2, \"Frame 1_2\")\n",
    "\n",
    "frame_2_1_bit_planes = visualize_bitplanes(frame_2_1, \"Frame 2_1\")\n",
    "frame_2_2_bit_planes = visualize_bitplanes(frame_2_2, \"Frame 2_2\")\n",
    "\n",
    "frame_3_1_bit_planes = visualize_bitplanes(frame_3_1, \"Frame 3_1\")\n",
    "frame_3_2_bit_planes = visualize_bitplanes(frame_3_2, \"Frame 3_2\")"
   ]
  },
  {
   "cell_type": "markdown",
   "metadata": {},
   "source": [
    "## XOR on bitplanes"
   ]
  },
  {
   "cell_type": "code",
   "execution_count": null,
   "metadata": {},
   "outputs": [],
   "source": [
    "#Frame 1\n",
    "frame_1_xor_bit_planes = perform_xor_on_bitplanes(\n",
    "    frame_1_1_bit_planes,\n",
    "    frame_1_2_bit_planes)\n",
    "\n",
    "visualize_xor_on_bitplanes(\n",
    "    frame_1_xor_bit_planes,\n",
    "    \"Frame 1\")\n",
    "\n",
    "#Frame 2\n",
    "frame_2_xor_bit_planes = perform_xor_on_bitplanes(\n",
    "    frame_2_1_bit_planes,\n",
    "    frame_2_2_bit_planes)\n",
    "\n",
    "visualize_xor_on_bitplanes(\n",
    "    frame_2_xor_bit_planes,\n",
    "    \"Frame 2\")\n",
    "\n",
    "#Frame 3\n",
    "frame_3_xor_bit_planes = perform_xor_on_bitplanes(\n",
    "    frame_3_1_bit_planes,\n",
    "    frame_3_2_bit_planes)\n",
    "\n",
    "visualize_xor_on_bitplanes(\n",
    "    frame_3_xor_bit_planes,\n",
    "    \"Frame 3\")\n",
    "\n"
   ]
  },
  {
   "cell_type": "code",
   "execution_count": null,
   "metadata": {},
   "outputs": [],
   "source": [
    "# # frame_1_xor_bit_planes[0]\n",
    "# plt.figure(figsize=(30, 20))\n",
    "# plt.imshow(frame_1_xor_bit_planes[:,:,6], cmap='gray')"
   ]
  },
  {
   "cell_type": "markdown",
   "metadata": {},
   "source": [
    "## Combining the XORs"
   ]
  },
  {
   "cell_type": "code",
   "execution_count": null,
   "metadata": {},
   "outputs": [],
   "source": [
    "least_included_bit = 5  # 5 means 5 6 7 8 bit planes are combined\n",
    "\n",
    "# Combine XOR results \n",
    "frame_1_combined_bitplanes = combine_bit_planes(\n",
    "    frame_1_xor_bit_planes,\n",
    "    least_bit=least_included_bit)\n",
    "\n",
    "visualize_combined_bitplanes(\n",
    "    frame_1_combined_bitplanes,\n",
    "    \"Frame 1\")\n",
    "\n",
    "frame_2_combined_bitplanes = combine_bit_planes(\n",
    "    frame_2_xor_bit_planes,\n",
    "    least_bit=least_included_bit)\n",
    "\n",
    "visualize_combined_bitplanes(\n",
    "    frame_2_combined_bitplanes,\n",
    "    \"Frame 2\")\n",
    "\n",
    "frame_3_combined_bitplanes = combine_bit_planes(\n",
    "    frame_3_xor_bit_planes,\n",
    "    least_bit=least_included_bit)\n",
    "\n",
    "visualize_combined_bitplanes(\n",
    "    frame_3_combined_bitplanes,\n",
    "    \"Frame 3\")"
   ]
  },
  {
   "cell_type": "markdown",
   "metadata": {},
   "source": [
    "## Process The results"
   ]
  },
  {
   "cell_type": "code",
   "execution_count": null,
   "metadata": {},
   "outputs": [],
   "source": [
    "# threshold the image\n",
    "frame_1_processed = cv2.threshold(frame_1_combined_bitplanes.astype(\"uint8\"), 10, 255, cv2.THRESH_BINARY_INV)[1]\n",
    "disp(frame_1_processed)\n",
    "\n",
    "frame_1_processed = cv2.GaussianBlur(frame_1_processed, None, 3)\n",
    "disp(frame_1_processed, cmap=\"plasma_r\")\n",
    "frame_1_processed = cv2.medianBlur(frame_1_processed, 21)\n",
    "disp(frame_1_processed, cmap=\"summer_r\")\n",
    "\n",
    "frame_1_processed = cv2.threshold(frame_1_processed.astype(\"uint8\"), 190, 255, cv2.THRESH_TRUNC)[1]\n",
    "frame_1_processed = cv2.dilate(frame_1_processed, None, iterations=2)\n",
    "frame_1_processed = cv2.erode(frame_1_processed, None, iterations=2)\n",
    "\n",
    "disp(frame_1_processed)\n",
    "disp(cv2.add(frame_1_1,200-frame_1_processed[:,:,None].repeat(3, axis=2)))"
   ]
  },
  {
   "cell_type": "code",
   "execution_count": null,
   "metadata": {},
   "outputs": [],
   "source": [
    "# threshold the image\n",
    "frame_1_processed = cv2.threshold(frame_2_combined_bitplanes.astype(\"uint8\"), 10, 255, cv2.THRESH_BINARY_INV)[1]\n",
    "disp(frame_1_processed)\n",
    "\n",
    "frame_1_processed = cv2.GaussianBlur(frame_1_processed, None, 3)\n",
    "disp(frame_1_processed, cmap=\"viridis_r\")\n",
    "frame_1_processed = cv2.medianBlur(frame_1_processed, 21)\n",
    "disp(frame_1_processed, cmap=\"summer_r\")\n",
    "\n",
    "frame_1_processed = cv2.threshold(frame_1_processed.astype(\"uint8\"), 190, 255, cv2.THRESH_TRUNC)[1]\n",
    "frame_1_processed = cv2.dilate(frame_1_processed, None, iterations=2)\n",
    "frame_1_processed = cv2.erode(frame_1_processed, None, iterations=2)\n",
    "\n",
    "disp(frame_1_processed)\n",
    "disp(cv2.add(frame_2_1,200-frame_1_processed[:,:,None].repeat(3, axis=2)))"
   ]
  },
  {
   "cell_type": "code",
   "execution_count": null,
   "metadata": {},
   "outputs": [],
   "source": [
    "# threshold the image\n",
    "frame_1_processed = cv2.threshold(frame_3_combined_bitplanes.astype(\"uint8\"), 10, 255, cv2.THRESH_BINARY_INV)[1]\n",
    "disp(frame_1_processed)\n",
    "\n",
    "frame_1_processed = cv2.GaussianBlur(frame_1_processed, None, 3)\n",
    "disp(frame_1_processed, cmap=\"viridis_r\")\n",
    "frame_1_processed = cv2.medianBlur(frame_1_processed, 21)\n",
    "disp(frame_1_processed, cmap=\"summer_r\")\n",
    "\n",
    "frame_1_processed = cv2.threshold(frame_1_processed.astype(\"uint8\"), 190, 255, cv2.THRESH_TRUNC)[1]\n",
    "frame_1_processed = cv2.dilate(frame_1_processed, None, iterations=2)\n",
    "frame_1_processed = cv2.erode(frame_1_processed, None, iterations=2)\n",
    "\n",
    "disp(frame_1_processed)\n",
    "disp(cv2.add(frame_3_1,200-frame_1_processed[:,:,None].repeat(3, axis=2)))"
   ]
  }
 ],
 "metadata": {
  "interpreter": {
   "hash": "e1f78980d8402c2aa3bc5b076b37f3f79ff6b7409eee8995f6ccbb4aa05c332a"
  },
  "kernelspec": {
   "display_name": "Python 3.10.1 64-bit",
   "language": "python",
   "name": "python3"
  },
  "language_info": {
   "codemirror_mode": {
    "name": "ipython",
    "version": 3
   },
   "file_extension": ".py",
   "mimetype": "text/x-python",
   "name": "python",
   "nbconvert_exporter": "python",
   "pygments_lexer": "ipython3",
   "version": "3.10.1"
  },
  "orig_nbformat": 4
 },
 "nbformat": 4,
 "nbformat_minor": 2
}
