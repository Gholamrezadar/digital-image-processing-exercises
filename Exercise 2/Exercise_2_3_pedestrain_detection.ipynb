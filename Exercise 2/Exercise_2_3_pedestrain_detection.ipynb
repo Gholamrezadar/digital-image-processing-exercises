{
 "cells": [
  {
   "cell_type": "markdown",
   "metadata": {},
   "source": [
    "# Exercise 2_3 Digital Image Processing\n",
    "\n",
    "Amirkabir University of Technology\n",
    "\n",
    "Dr. Rahmati\n",
    "\n",
    "by Gholamreza Dar\n",
    "\n",
    "Spring 2022"
   ]
  },
  {
   "cell_type": "markdown",
   "metadata": {},
   "source": [
    "## Imports"
   ]
  },
  {
   "cell_type": "code",
   "execution_count": null,
   "metadata": {},
   "outputs": [],
   "source": [
    "import numpy as np\n",
    "import matplotlib.pyplot as plt\n",
    "import seaborn as sns; sns.set()\n",
    "import cv2\n",
    "import os\n",
    "\n",
    "sns.set_style(\"dark\")\n"
   ]
  },
  {
   "cell_type": "markdown",
   "metadata": {},
   "source": [
    "## Functions"
   ]
  },
  {
   "cell_type": "code",
   "execution_count": null,
   "metadata": {},
   "outputs": [],
   "source": [
    "def load_images(path):\n",
    "    \"\"\"\n",
    "    Loads images from the given path\n",
    "    :param path: path to the images\n",
    "    :return: list of images\n",
    "    \"\"\"\n",
    "    images = []\n",
    "    for filename in os.listdir(path):\n",
    "        images.append(cv2.cvtColor(cv2.imread(os.path.join(path, filename)), cv2.COLOR_BGR2RGB).astype(\"float32\"))\n",
    "    return images"
   ]
  },
  {
   "cell_type": "code",
   "execution_count": null,
   "metadata": {},
   "outputs": [],
   "source": [
    "def motion_blur_vertical(img, kernel_size = 30):\n",
    "    # Create the vertical kernel.\n",
    "    kernel_v = np.zeros((kernel_size, kernel_size))\n",
    "    \n",
    "    # Create a copy of the same for creating the horizontal kernel.\n",
    "    kernel_h = np.copy(kernel_v)\n",
    "    \n",
    "    # Fill the middle row with ones.\n",
    "    kernel_v[:, int((kernel_size - 1)/2)] = np.ones(kernel_size)\n",
    "    kernel_h[int((kernel_size - 1)/2), :] = np.ones(kernel_size)\n",
    "    \n",
    "    # Normalize.\n",
    "    kernel_v /= kernel_size\n",
    "    kernel_h /= kernel_size\n",
    "    \n",
    "    # Apply the vertical kernel.\n",
    "    return cv2.filter2D(img, -1, kernel_v)"
   ]
  },
  {
   "cell_type": "code",
   "execution_count": null,
   "metadata": {},
   "outputs": [],
   "source": [
    "def disp(img, title=None):\n",
    "    plt.figure(figsize=(15,15))\n",
    "    if title is not None:\n",
    "        plt.title(title)\n",
    "    plt.axis('off')\n",
    "    plt.imshow(img, cmap='gray')\n",
    "    plt.show()"
   ]
  },
  {
   "cell_type": "markdown",
   "metadata": {},
   "source": [
    "## Loading the images"
   ]
  },
  {
   "cell_type": "code",
   "execution_count": null,
   "metadata": {},
   "outputs": [],
   "source": [
    "images = load_images(\"inputs/P3/frames\")\n",
    "test_1 = cv2.cvtColor(cv2.imread(\"inputs/P3/tests/pedestrians_test_01.png\"), cv2.COLOR_BGR2RGB).astype('uint8')\n",
    "test_2 = cv2.cvtColor(cv2.imread(\"inputs/P3/tests/pedestrians_test_02.png\"), cv2.COLOR_BGR2RGB).astype('uint8')"
   ]
  },
  {
   "cell_type": "markdown",
   "metadata": {},
   "source": [
    "## Extract the background"
   ]
  },
  {
   "cell_type": "markdown",
   "metadata": {},
   "source": [
    "### Mean"
   ]
  },
  {
   "cell_type": "code",
   "execution_count": null,
   "metadata": {},
   "outputs": [],
   "source": [
    "N_values = [2, 5, 10, 20]\n",
    "backgrounds = []\n",
    "\n",
    "# Calculate the background for each N\n",
    "for N in N_values:\n",
    "    backk = np.zeros((N, images[0].shape[0], images[0].shape[1], 3), dtype=\"float32\")\n",
    "    for i in range(N):\n",
    "        backk[i] = images[i].astype(\"float32\")\n",
    "    backkk = np.mean(np.array(backk), axis=0)\n",
    "    backgrounds.append(backkk.copy())"
   ]
  },
  {
   "cell_type": "code",
   "execution_count": null,
   "metadata": {},
   "outputs": [],
   "source": [
    "# Dispaly the estimated backgrounds\n",
    "fig, axs = plt.subplots(1, 4, figsize=(16, 3), constrained_layout=True)\n",
    "fig.dpi = 100\n",
    "fig.suptitle(\"Estimated Backgrounds (Mean)\")\n",
    "for i, ax in enumerate(axs.ravel()):\n",
    "    ax.set_title(f\"Average of {N_values[i]} images\")\n",
    "    ax.imshow(backgrounds[i].astype(\"uint8\"))\n",
    "    ax.set_axis_off()\n"
   ]
  },
  {
   "cell_type": "markdown",
   "metadata": {},
   "source": [
    "### Median"
   ]
  },
  {
   "cell_type": "code",
   "execution_count": null,
   "metadata": {},
   "outputs": [],
   "source": [
    "N_values = [2, 5, 10, 20]\n",
    "backgrounds_median = []\n",
    "\n",
    "# Calculate the background for each N\n",
    "for N in N_values:\n",
    "    backk = np.zeros((N, images[0].shape[0], images[0].shape[1], 3), dtype=\"float32\")\n",
    "    for i in range(N):\n",
    "        backk[i] = images[i].astype(\"float32\")\n",
    "    backkk = np.median(np.array(backk), axis=0)\n",
    "    backgrounds_median.append(backkk.copy())\n"
   ]
  },
  {
   "cell_type": "code",
   "execution_count": null,
   "metadata": {},
   "outputs": [],
   "source": [
    "# Dispaly the estimated backgrounds\n",
    "fig, axs = plt.subplots(1, 4, figsize=(16, 3), constrained_layout=True)\n",
    "fig.dpi = 100\n",
    "fig.suptitle(\"Estimated Backgrounds (Median)\")\n",
    "for i, ax in enumerate(axs.ravel()):\n",
    "    ax.set_title(f\"Mean of {N_values[i]} images\")\n",
    "    ax.imshow(backgrounds_median[i].astype(\"uint8\"))\n",
    "    ax.set_axis_off()\n"
   ]
  },
  {
   "cell_type": "markdown",
   "metadata": {},
   "source": [
    "### Photoshop"
   ]
  },
  {
   "cell_type": "code",
   "execution_count": null,
   "metadata": {},
   "outputs": [],
   "source": [
    "back = cv2.cvtColor(cv2.imread(\"back_ps.png\"), cv2.COLOR_BGR2RGB)\n",
    "disp(back, \"Extracted background using Photoshop\")"
   ]
  },
  {
   "cell_type": "markdown",
   "metadata": {},
   "source": [
    "## Subtraction"
   ]
  },
  {
   "cell_type": "code",
   "execution_count": null,
   "metadata": {},
   "outputs": [],
   "source": [
    "back = backgrounds_median[-1].astype('uint8')\n",
    "\n",
    "sub = cv2.cvtColor(back, cv2.COLOR_RGB2GRAY).astype('float32') - cv2.cvtColor(test_1, cv2.COLOR_RGB2GRAY).astype('float32')\n",
    "\n",
    "disp(back, \"background\")\n",
    "disp(test_1, \"test_1\")\n",
    "disp(sub, \"subtracted\")\n"
   ]
  },
  {
   "cell_type": "code",
   "execution_count": null,
   "metadata": {},
   "outputs": [],
   "source": [
    "plt.figure(figsize=(15,15))\n",
    "plt.axis('off')\n",
    "plt.title(\"Subtracted\")\n",
    "plt.imshow(sub, cmap='gray', vmin=0,)"
   ]
  },
  {
   "cell_type": "markdown",
   "metadata": {},
   "source": [
    "## Preprocessing"
   ]
  },
  {
   "cell_type": "code",
   "execution_count": null,
   "metadata": {},
   "outputs": [],
   "source": [
    "\n",
    "_,res = cv2.threshold(sub,35,255,cv2.THRESH_TOZERO)\n",
    "# res = cv2.cvtColor(res, cv2.COLOR_RGB2GRAY)\n",
    "_,res = cv2.threshold(res,36,255,cv2.THRESH_BINARY)\n",
    "\n",
    "# res = cv2.blur(res,(5, 5))\n",
    "\n",
    "# res = cv2.erode(res, None, iterations=1)\n",
    "# res = cv2.dilate(res, None, iterations=3)\n",
    "# res = cv2.medianBlur(res.astype(np.uint8),27)\n",
    "\n",
    "disp(res)"
   ]
  },
  {
   "cell_type": "code",
   "execution_count": null,
   "metadata": {},
   "outputs": [],
   "source": [
    "np.unique(res)"
   ]
  },
  {
   "cell_type": "code",
   "execution_count": null,
   "metadata": {},
   "outputs": [],
   "source": [
    "# D\n",
    "\n",
    "test_1_masked = cv2.bitwise_and(test_1, test_1, mask=res.astype('uint8'))\n",
    "disp(test_1_masked)"
   ]
  },
  {
   "cell_type": "markdown",
   "metadata": {},
   "source": [
    "## Match Humans"
   ]
  },
  {
   "cell_type": "markdown",
   "metadata": {},
   "source": [
    "### Method 1: Template matching"
   ]
  },
  {
   "cell_type": "code",
   "execution_count": null,
   "metadata": {},
   "outputs": [],
   "source": [
    "template = cv2.imread('human_template3.png',0)\n",
    "w, h = template.shape[::-1]\n",
    "\n",
    "methods = ['cv2.TM_CCOEFF', 'cv2.TM_CCOEFF_NORMED', 'cv2.TM_CCORR',\n",
    "            'cv2.TM_CCORR_NORMED', 'cv2.TM_SQDIFF', 'cv2.TM_SQDIFF_NORMED']\n",
    "methods = ['cv2.TM_CCOEFF']\n",
    "for meth in methods:\n",
    "    print(meth)\n",
    "    match = cv2.matchTemplate(res.astype('uint8'), template, eval(meth))\n",
    "    threshold = 6000000.0\n",
    "    loc = np.where( match >= threshold)\n",
    "    new_res = test_1.copy()\n",
    "    people_center_map = np.zeros_like(res)\n",
    "\n",
    "    random_index = np.random.randint(0, len(loc[0]), size=len(loc[0]))\n",
    "    rects = []\n",
    "    for i in range(len(loc[0])):\n",
    "        pt = (loc[1][random_index[i]], loc[0][random_index[i]])\n",
    "        # print(pt)\n",
    "        is_near = False\n",
    "        for rect in rects:\n",
    "            # print(np.linalg.norm(np.array(rect)-np.array(pt)))\n",
    "            if np.linalg.norm(np.array(rect)-np.array(pt)) < 145:\n",
    "                is_near = True\n",
    "        if not is_near:\n",
    "            rects.append((pt[0], pt[1]))\n",
    "            cv2.rectangle(new_res, pt, (pt[0] + w, pt[1] + h), (255, 0, 0), 2)\n",
    "            cv2.rectangle(new_res, (pt[0]+w//2, pt[1]+h//2), (pt[0]+w//2+1, pt[1]+h//2+1), (0, 255, 0), 2)\n",
    "            cv2.rectangle(people_center_map, (pt[0]+w//2, pt[1]+h//2), (pt[0]+w//2+1, pt[1]+h//2+1), (255, 255, 255), 2)\n",
    "\n",
    "    disp(new_res)\n",
    "    disp(people_center_map)\n",
    "    disp(match)"
   ]
  },
  {
   "cell_type": "markdown",
   "metadata": {},
   "source": [
    "### Method 2: Contours"
   ]
  },
  {
   "cell_type": "code",
   "execution_count": null,
   "metadata": {},
   "outputs": [],
   "source": [
    "%%time\n",
    "contours, hierarchy = cv2.findContours(res, cv2.RETR_EXTERNAL, cv2.CHAIN_APPROX_SIMPLE)\n",
    "cont_res = test_1.copy()\n",
    "\n",
    "i = 0\n",
    "for cont in contours:\n",
    "    if cv2.contourArea(cont) > 1200:\n",
    "        i += 1\n",
    "        cv2.drawContours(cont_res, [cont], -1, (0, 255, 0), 3)\n",
    "        x,y,w,h = cv2.boundingRect(cont)\n",
    "        text_width = 1 if i<10 else 2\n",
    "        cv2.putText(cont_res, f\"{i}\", (x+w//2-text_width*16, y+h//2), cv2.FONT_HERSHEY_SIMPLEX, 1.5, (255, 255, 255), 3)\n",
    "        cv2.rectangle(cont_res, (x,y), (x+w, y+h), (0, 0, 255, 25), 4)\n",
    "disp(cont_res)"
   ]
  },
  {
   "cell_type": "markdown",
   "metadata": {},
   "source": [
    "## End to End "
   ]
  },
  {
   "cell_type": "code",
   "execution_count": null,
   "metadata": {},
   "outputs": [],
   "source": [
    "def detect_pedestrain(img, back, debug=False):\n",
    "    min_contour_area = 2500\n",
    "\n",
    "    # Calculate difference between image and background\n",
    "    img_gray = cv2.cvtColor(img, cv2.COLOR_RGB2GRAY)\n",
    "    back = cv2.cvtColor(back, cv2.COLOR_RGB2GRAY)\n",
    "    sub = cv2.subtract(back, img_gray)\n",
    "    \n",
    "    sub = cv2.absdiff(back, img_gray)\n",
    "\n",
    "    if debug:\n",
    "        disp(sub, title=\"Subtraction\")\n",
    "\n",
    "    # Preprocessing [thresholding, blurring, eroding, dilating, blurring]\n",
    "    _,res = cv2.threshold(sub,35,255,cv2.THRESH_TOZERO)\n",
    "    _,res = cv2.threshold(res,36,255,cv2.THRESH_BINARY)\n",
    "    res = cv2.blur(res,(5, 5))\n",
    "    res = cv2.erode(res, None, iterations=1)\n",
    "    res = cv2.dilate(res, None, iterations=3)\n",
    "    res = cv2.medianBlur(res,27)\n",
    "\n",
    "    if debug:\n",
    "        disp(res, title=\"Preprocessed\")\n",
    "    \n",
    "    # Find contours\n",
    "    contours, hierarchy = cv2.findContours(res, cv2.RETR_EXTERNAL, cv2.CHAIN_APPROX_SIMPLE)\n",
    "    cont_res = img.copy()\n",
    "\n",
    "    i = 0\n",
    "    for cont in contours:\n",
    "        # Only big contours\n",
    "        if cv2.contourArea(cont) > min_contour_area:\n",
    "            if debug:\n",
    "                print(i, cv2.contourArea(cont))\n",
    "            i += 1\n",
    "            x,y,w,h = cv2.boundingRect(cont)\n",
    "            text_width = 1 if i<10 else 2\n",
    "\n",
    "            # visualize countours\n",
    "            cv2.drawContours(cont_res, [cont], -1, (0, 255, 0), 3)\n",
    "            cv2.rectangle(cont_res, (x,y), (x+w, y+h), (0, 0, 255, 25), 4)\n",
    "            cv2.putText(cont_res, f\"{i}\", (x+w//2-text_width*16, y+h//2), cv2.FONT_HERSHEY_SIMPLEX, 1.5, (255, 255, 255), 3)\n",
    "            \n",
    "    if debug:\n",
    "        disp(cont_res, title=\"Contours\")\n",
    "        print(f\"{i} pedestrians detected\")\n",
    "\n",
    "    cv2.putText(cont_res, f\"{i} pedestrians detected\", (50,50), cv2.FONT_HERSHEY_SIMPLEX, 1.5, (0, 0, 0), 3)\n",
    "    \n",
    "    return cont_res"
   ]
  },
  {
   "cell_type": "code",
   "execution_count": null,
   "metadata": {},
   "outputs": [],
   "source": [
    "back = cv2.imread(\"back_ps.png\")"
   ]
  },
  {
   "cell_type": "code",
   "execution_count": null,
   "metadata": {},
   "outputs": [],
   "source": [
    "result = detect_pedestrain(test_1, back.astype('uint8'), debug=True)\n",
    "# disp(result, title=\"Pedestrians in Test_1\")"
   ]
  },
  {
   "cell_type": "code",
   "execution_count": null,
   "metadata": {},
   "outputs": [],
   "source": [
    "result = detect_pedestrain(test_2, back.astype(\"uint8\"), debug=True)\n",
    "# disp(result, title=\"Pedestrians in Test_2\")"
   ]
  },
  {
   "cell_type": "code",
   "execution_count": null,
   "metadata": {},
   "outputs": [],
   "source": [
    "result = detect_pedestrain(images[8].astype('uint8'), back, debug=True)\n",
    "# disp(result, title=\"Pedestrians in Test_2\")"
   ]
  },
  {
   "cell_type": "code",
   "execution_count": null,
   "metadata": {},
   "outputs": [],
   "source": [
    "for i, image in enumerate(images):\n",
    "    result = detect_pedestrain(image.astype('uint8'), back, debug=False)\n",
    "    cv2.imwrite(f\"P3_result/frame_{i}_result3.jpg\", cv2.cvtColor(result, cv2.COLOR_RGB2BGR))\n",
    "    # disp(result, title=\"Pedestrians in Frame\")"
   ]
  }
 ],
 "metadata": {
  "interpreter": {
   "hash": "e1f78980d8402c2aa3bc5b076b37f3f79ff6b7409eee8995f6ccbb4aa05c332a"
  },
  "kernelspec": {
   "display_name": "Python 3.10.1 64-bit",
   "language": "python",
   "name": "python3"
  },
  "language_info": {
   "codemirror_mode": {
    "name": "ipython",
    "version": 3
   },
   "file_extension": ".py",
   "mimetype": "text/x-python",
   "name": "python",
   "nbconvert_exporter": "python",
   "pygments_lexer": "ipython3",
   "version": "3.10.1"
  },
  "orig_nbformat": 4
 },
 "nbformat": 4,
 "nbformat_minor": 2
}
