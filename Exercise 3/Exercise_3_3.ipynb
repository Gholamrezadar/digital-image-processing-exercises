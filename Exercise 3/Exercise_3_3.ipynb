{
 "cells": [
  {
   "cell_type": "markdown",
   "metadata": {},
   "source": [
    "# Digital Image processing Exercise 3-3\n",
    "\n",
    "Amirkabir University of Technology\n",
    "\n",
    "Dr. Rahmati\n",
    "\n",
    "by Gholamreza Dar 400131018\n",
    "\n",
    "Spring 2022"
   ]
  },
  {
   "cell_type": "code",
   "execution_count": null,
   "metadata": {},
   "outputs": [],
   "source": [
    "import numpy as np\n",
    "import cv2\n",
    "import matplotlib.pyplot as plt\n",
    "import seaborn as sns; sns.set()\n",
    "sns.set_style('dark')"
   ]
  },
  {
   "cell_type": "markdown",
   "metadata": {},
   "source": [
    "## Functions"
   ]
  },
  {
   "cell_type": "code",
   "execution_count": null,
   "metadata": {},
   "outputs": [],
   "source": [
    "def rgb(img):\n",
    "    return cv2.cvtColor(img, cv2.COLOR_BGR2RGB)\n",
    "\n",
    "def bgr(img):\n",
    "    return cv2.cvtColor(img, cv2.COLOR_RGB2BGR)\n",
    "\n",
    "def gray(img):\n",
    "    return cv2.cvtColor(img, cv2.COLOR_RGB2GRAY)\n",
    "\n",
    "def disp(img, title='', s=8, vmin=None, vmax=None):\n",
    "    plt.figure(figsize=(s,s))\n",
    "    plt.axis('off')\n",
    "    if vmin is not None and vmax is not None:\n",
    "        plt.imshow(img, cmap='gray', vmin=vmin, vmax=vmax)\n",
    "    else:\n",
    "        plt.imshow(img, cmap='gray')\n",
    "    plt.title(title)\n",
    "    plt.show()"
   ]
  },
  {
   "cell_type": "code",
   "execution_count": null,
   "metadata": {},
   "outputs": [],
   "source": [
    "def fourier_analysis(img):\n",
    "    fourier_img = cv2.dft(img.astype(np.float32), flags=cv2.DFT_COMPLEX_OUTPUT)\n",
    "    fourier_img_shift = np.fft.fftshift(fourier_img)\n",
    "    real = fourier_img_shift[:,:,0]\n",
    "    imag = fourier_img_shift[:,:,1]\n",
    "    magnitude = cv2.magnitude(real, imag)\n",
    "    phase = cv2.phase(real, imag)\n",
    "    return magnitude, phase\n"
   ]
  },
  {
   "cell_type": "code",
   "execution_count": null,
   "metadata": {},
   "outputs": [],
   "source": [
    "def plot_magnitude_and_phase(img, name, vmin=None, vmax=None):\n",
    "    # Calculate the Fourier transform of the image\n",
    "    magnitude, phase = fourier_analysis(img)\n",
    "    \n",
    "    # Display the magnitude and phase of the image\n",
    "    fig, axs = plt.subplots(1,3, figsize=(15,5), constrained_layout=True)\n",
    "    fig.suptitle(f\"'{name}' Fourier Analysis\")\n",
    "\n",
    "    axs[0].set_axis_off()\n",
    "    axs[1].set_axis_off()\n",
    "    axs[2].set_axis_off()\n",
    "\n",
    "    magnitude = np.log(magnitude)\n",
    "\n",
    "    if vmin is not None and vmax is not None:\n",
    "        axs[0].imshow(img, cmap='gray')\n",
    "        axs[1].imshow(magnitude, cmap='gray', vmin=vmin, vmax=vmax)\n",
    "        axs[2].imshow(phase, cmap='gray')\n",
    "    else:\n",
    "        axs[0].imshow(img, cmap='gray')\n",
    "        axs[1].imshow(magnitude, cmap='gray')\n",
    "        axs[2].imshow(phase, cmap='gray')\n",
    "    \n",
    "    fig.savefig(f'{name}_fourier_analysis.png')\n",
    "    plt.show()"
   ]
  },
  {
   "cell_type": "markdown",
   "metadata": {},
   "source": [
    "## Load Images"
   ]
  },
  {
   "cell_type": "code",
   "execution_count": null,
   "metadata": {},
   "outputs": [],
   "source": [
    "images = []\n",
    "for i in range(1, 8+1):\n",
    "    images.append(rgb(cv2.imread('inputs/P3/painting_' + str(i) + '.png')))\n",
    "    "
   ]
  },
  {
   "cell_type": "markdown",
   "metadata": {},
   "source": [
    "## Tests"
   ]
  },
  {
   "cell_type": "code",
   "execution_count": null,
   "metadata": {},
   "outputs": [],
   "source": [
    "img = gray(images[2])\n",
    "disp(img)"
   ]
  },
  {
   "cell_type": "markdown",
   "metadata": {},
   "source": [
    "### Numpy"
   ]
  },
  {
   "cell_type": "code",
   "execution_count": null,
   "metadata": {},
   "outputs": [],
   "source": [
    "%%timeit\n",
    "fimg = np.fft.fft2(img)\n",
    "fimg = np.fft.fftshift(fimg)\n",
    "real = fimg.real\n",
    "imag = fimg.imag\n",
    "res = np.log(np.abs(real))\n",
    "# disp(res, vmin=7, vmax=18)"
   ]
  },
  {
   "cell_type": "markdown",
   "metadata": {},
   "source": [
    "### Tile the image to see the effect of  fftshift"
   ]
  },
  {
   "cell_type": "code",
   "execution_count": null,
   "metadata": {},
   "outputs": [],
   "source": [
    "fimg = np.fft.fft2(img)\n",
    "# fimg = np.fft.fftshift(fimg)\n",
    "real = fimg.real\n",
    "imag = fimg.imag\n",
    "res = np.log(np.abs(real))\n",
    "disp(res, vmin=7, vmax=18)"
   ]
  },
  {
   "cell_type": "code",
   "execution_count": null,
   "metadata": {},
   "outputs": [],
   "source": [
    "fimg_rep = np.tile(real, (2,2))\n",
    "disp(np.log(np.abs(fimg_rep)), vmin=7, vmax=18)"
   ]
  },
  {
   "cell_type": "code",
   "execution_count": null,
   "metadata": {},
   "outputs": [],
   "source": [
    "fimg = np.fft.fft2(img)\n",
    "fimg = np.fft.fftshift(fimg)\n",
    "real = fimg.real\n",
    "imag = fimg.imag\n",
    "res = np.log(np.abs(real))\n",
    "disp(res, vmin=7, vmax=18)"
   ]
  },
  {
   "cell_type": "code",
   "execution_count": null,
   "metadata": {},
   "outputs": [],
   "source": [
    "fimg_rep = np.tile(real, (2,2))\n",
    "disp(np.log(np.abs(fimg_rep)), vmin=7, vmax=18)"
   ]
  },
  {
   "cell_type": "markdown",
   "metadata": {},
   "source": [
    "### OpenCV"
   ]
  },
  {
   "cell_type": "code",
   "execution_count": null,
   "metadata": {},
   "outputs": [],
   "source": [
    "%%timeit\n",
    "fimg = cv2.dft(img.astype(np.float32), flags=cv2.DFT_COMPLEX_OUTPUT)\n",
    "fimg_shift = np.fft.fftshift(fimg)\n",
    "real = fimg_shift[:,:,0]\n",
    "imag = fimg_shift[:,:,1]\n",
    "# disp(np.log(np.abs(real)), vmin=7, vmax=18)"
   ]
  },
  {
   "cell_type": "markdown",
   "metadata": {},
   "source": [
    "opencv is faster than numpy (about 3 times)"
   ]
  },
  {
   "cell_type": "code",
   "execution_count": null,
   "metadata": {},
   "outputs": [],
   "source": [
    "img = gray(images[2])\n",
    "disp(img)"
   ]
  },
  {
   "cell_type": "code",
   "execution_count": null,
   "metadata": {},
   "outputs": [],
   "source": [
    "magnitude, phase = fourier_analysis(img)\n",
    "disp(np.log(magnitude), vmin=7, vmax=18)"
   ]
  },
  {
   "cell_type": "markdown",
   "metadata": {},
   "source": [
    "# Main"
   ]
  },
  {
   "cell_type": "code",
   "execution_count": null,
   "metadata": {},
   "outputs": [],
   "source": [
    "for i, img in enumerate(images):\n",
    "    # img = gray(img)\n",
    "    labels = list(\"RGB\")\n",
    "    for channel in range(3):\n",
    "        plot_magnitude_and_phase(img[:, :, channel], f'painting_{i}_{labels[channel]}', vmin=8, vmax=18)"
   ]
  },
  {
   "cell_type": "markdown",
   "metadata": {},
   "source": [
    "Test inverse phase\n"
   ]
  },
  {
   "cell_type": "code",
   "execution_count": null,
   "metadata": {},
   "outputs": [],
   "source": [
    "img = images[0]\n",
    "img = gray(img)\n",
    "fourier_img = cv2.dft(img.astype(np.float32), flags=cv2.DFT_COMPLEX_OUTPUT)\n",
    "fourier_img_shift = np.fft.fftshift(fourier_img)\n",
    "\n",
    "real = fourier_img_shift[:,:,0]\n",
    "imag = fourier_img_shift[:,:,1]\n",
    "\n",
    "magnitude = cv2.magnitude(real, imag)\n",
    "phase = cv2.phase(real, imag)\n",
    "\n",
    "# MERGE magnitude and phase\n",
    "\n",
    "inv_shift = np.fft.ifftshift(fourier_img_shift)\n",
    "result = cv2.idft(inv_shift, flags=cv2.DFT_SCALE)\n",
    "\n",
    "filtered_img = np.zeros((img.shape[0], img.shape[1]), dtype=np.float32)\n",
    "filtered_img[:,:] = cv2.magnitude(result[:,:,0], result[:,:,1])\n",
    "\n",
    "disp(filtered_img)\n"
   ]
  }
 ],
 "metadata": {
  "interpreter": {
   "hash": "3858431499dcaaf4de29b8b352749eebe871787bd67cf3dfc1982c43a6256c9d"
  },
  "kernelspec": {
   "display_name": "Python 3.10.1 64-bit",
   "language": "python",
   "name": "python3"
  },
  "language_info": {
   "codemirror_mode": {
    "name": "ipython",
    "version": 3
   },
   "file_extension": ".py",
   "mimetype": "text/x-python",
   "name": "python",
   "nbconvert_exporter": "python",
   "pygments_lexer": "ipython3",
   "version": "3.10.1"
  },
  "orig_nbformat": 4
 },
 "nbformat": 4,
 "nbformat_minor": 2
}
