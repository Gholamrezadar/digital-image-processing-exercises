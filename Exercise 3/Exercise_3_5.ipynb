{
 "cells": [
  {
   "cell_type": "markdown",
   "metadata": {},
   "source": [
    "# Digital Image processing Exercise 3-5\n",
    "\n",
    "Amirkabir University of Technology\n",
    "\n",
    "Dr. Rahmati\n",
    "\n",
    "by Gholamreza Dar 400131018\n",
    "\n",
    "Spring 2022"
   ]
  },
  {
   "cell_type": "code",
   "execution_count": null,
   "metadata": {},
   "outputs": [],
   "source": [
    "import numpy as np\n",
    "import cv2\n",
    "import matplotlib.pyplot as plt\n",
    "import matplotlib.animation as animation\n",
    "from IPython.display import HTML\n",
    "import seaborn as sns; sns.set()\n",
    "sns.set_style('dark')\n",
    "\n",
    "import datetime"
   ]
  },
  {
   "cell_type": "markdown",
   "metadata": {},
   "source": [
    "## Functions"
   ]
  },
  {
   "cell_type": "code",
   "execution_count": null,
   "metadata": {},
   "outputs": [],
   "source": [
    "def rgb(img):\n",
    "    return cv2.cvtColor(img, cv2.COLOR_BGR2RGB)\n",
    "\n",
    "def bgr(img):\n",
    "    return cv2.cvtColor(img, cv2.COLOR_RGB2BGR)\n",
    "\n",
    "def gray(img):\n",
    "    return cv2.cvtColor(img, cv2.COLOR_RGB2GRAY)\n",
    "\n",
    "def disp(img, title='', s=8, vmin=None, vmax=None):\n",
    "    plt.figure(figsize=(s,s))\n",
    "    plt.axis('off')\n",
    "    if vmin is not None and vmax is not None:\n",
    "        plt.imshow(img, cmap='gray', vmin=vmin, vmax=vmax)\n",
    "    else:\n",
    "        plt.imshow(img, cmap='gray')\n",
    "    plt.title(title)\n",
    "    plt.show()"
   ]
  },
  {
   "cell_type": "markdown",
   "metadata": {},
   "source": [
    "### Fourier Aanalysis"
   ]
  },
  {
   "cell_type": "code",
   "execution_count": null,
   "metadata": {},
   "outputs": [],
   "source": [
    "def fourier_analysis(img):\n",
    "    fourier_img = cv2.dft(img.astype(np.float32), flags=cv2.DFT_COMPLEX_OUTPUT)\n",
    "    fourier_img_shift = np.fft.fftshift(fourier_img)\n",
    "    real = fourier_img_shift[:,:,0]\n",
    "    imag = fourier_img_shift[:,:,1]\n",
    "    magnitude = cv2.magnitude(real, imag)\n",
    "    phase = cv2.phase(real, imag)\n",
    "    return magnitude, phase\n"
   ]
  },
  {
   "cell_type": "markdown",
   "metadata": {},
   "source": [
    "### Find points"
   ]
  },
  {
   "cell_type": "code",
   "execution_count": null,
   "metadata": {},
   "outputs": [],
   "source": [
    "def find_points(name_a, name_b):\n",
    "    '''Find points for each images eyes'''\n",
    "    points = np.zeros((2, 3, 2), dtype=np.int32)\n",
    "\n",
    "    if name_a == 'monroe':\n",
    "        points[1,0,:] = [140,182] # l_eye a\n",
    "        points[1,1,:] = [234,178] # r_eye a\n",
    "        points[1,2,:] = [200,230] # nose_a\n",
    "    if name_a == 'einstein':\n",
    "        # points[1,0,:] = [147,176] # l_eye a\n",
    "        # points[1,1,:] = [235,175] # r_eye a\n",
    "        # points[1,2,:] = [193,250] # nose_a\n",
    "        points[1,0,:] = [148, 179] # l_eye a\n",
    "        points[1,1,:] = [234, 177] # r_eye a\n",
    "        points[1,2,:] = [194, 251] # nose_a\n",
    "    if name_a == 'raisi':\n",
    "        points[1,0,:] = [288,273] # l_eye a\n",
    "        points[1,1,:] = [395,272] # r_eye a\n",
    "        points[1,2,:] = [350,350] # nose_a\n",
    "    if name_a == 'rouhani':\n",
    "        points[1,0,:] = [265,274] # l_eye a\n",
    "        points[1,1,:] = [360,279] # r_eye a\n",
    "        points[1,2,:] = [321,347] # nose_a\n",
    "    if name_a == 'biden':\n",
    "        # points[1,0,:] = [380,247] # l_eye a\n",
    "        # points[1,1,:] = [481,252] # r_eye a\n",
    "        # points[1,2,:] = [430,327] # nose_a\n",
    "        points[1,0,:] = [383, 248] # l_eye a\n",
    "        points[1,1,:] = [483, 250] # r_eye a\n",
    "        points[1,2,:] = [427, 364] # nose_a\n",
    "    if name_a == 'trump':\n",
    "        # points[1,0,:] = [344,268] # l_eye a\n",
    "        # points[1,1,:] = [471,266] # r_eye a\n",
    "        # points[1,2,:] = [416,365] # nose_a\n",
    "        points[1,0,:] = [349, 268] # l_eye a\n",
    "        points[1,1,:] = [473, 266] # r_eye a\n",
    "        points[1,2,:] = [411, 398] # nose_a\n",
    "\n",
    "    if name_b == 'monroe':\n",
    "        points[0,0,:] = [140,182] # l_eye b\n",
    "        points[0,1,:] = [234,178] # r_eye b\n",
    "        points[0,2,:] = [200,230] # nose_b\n",
    "    if name_b == 'einstein':\n",
    "        # points[0,0,:] = [147,176] # l_eye b\n",
    "        # points[0,1,:] = [235,175] # r_eye b\n",
    "        # points[0,2,:] = [193,250] # nose_b\n",
    "        points[0,0,:] = [148, 179] # l_eye b\n",
    "        points[0,1,:] = [234, 177] # r_eye b\n",
    "        points[0,2,:] = [194, 251] # nose_b\n",
    "    if name_b == 'raisi':\n",
    "        points[0,0,:] = [288,273] # l_eye b\n",
    "        points[0,1,:] = [395,272] # r_eye b\n",
    "        points[0,2,:] = [350,350] # nose_b\n",
    "    if name_b == 'rouhani':\n",
    "        points[0,0,:] = [265,274] # l_eye b\n",
    "        points[0,1,:] = [360,279] # r_eye b\n",
    "        points[0,2,:] = [321,347] # nose_b\n",
    "    if name_b == 'biden':\n",
    "        # points[0,0,:] = [380,247] # l_eye b\n",
    "        # points[0,1,:] = [481,252] # r_eye b\n",
    "        # points[0,2,:] = [430,327] # nose_b\n",
    "        points[0,0,:] = [383, 248] # l_eye b\n",
    "        points[0,1,:] = [483, 250] # r_eye b\n",
    "        points[0,2,:] = [427, 364] # nose_b\n",
    "    if name_b == 'trump':\n",
    "        # points[0,0,:] = [344,268] # l_eye b\n",
    "        # points[0,1,:] = [471,266] # r_eye b\n",
    "        # points[0,2,:] = [416,365] # nose_b\n",
    "        points[0,0,:] = [349, 268] # l_eye b\n",
    "        points[0,1,:] = [473, 266] # r_eye b\n",
    "        points[0,2,:] = [411, 398] # nose_b\n",
    "\n",
    "\n",
    "    return points"
   ]
  },
  {
   "cell_type": "markdown",
   "metadata": {},
   "source": [
    "### Align images"
   ]
  },
  {
   "cell_type": "code",
   "execution_count": null,
   "metadata": {},
   "outputs": [],
   "source": [
    "def align_images(img_a, img_b, name_a, name_b):\n",
    "    '''Transforms images to align point pairs'''\n",
    "\n",
    "    # Find the transformation matrix\n",
    "    points = find_points(name_a, name_b)\n",
    "\n",
    "    img_a_drawn = img_a.copy()\n",
    "    cv2.polylines(img_a_drawn, [points[1,:,:]], True, (255,0,0), 2)\n",
    "    disp(img_a_drawn)\n",
    "\n",
    "    img_b_drawn = img_b.copy()\n",
    "    cv2.polylines(img_b_drawn, [points[0,:,:]], True, (0,0,255), 2)\n",
    "    disp(img_b_drawn)\n",
    "\n",
    "    M = cv2.getAffineTransform(points[0, :, :].astype(np.float32), points[1, :, :].astype(np.float32))\n",
    "\n",
    "    # Transform the images\n",
    "    img_b_transformed = cv2.warpAffine(img_b, M, (img_a.shape[1], img_a.shape[0]))\n",
    "\n",
    "    img_b_transformed_drawn = img_b_transformed.copy()\n",
    "    cv2.polylines(img_b_transformed_drawn, [points[1,:,:]], True, (255,0,0), 2)\n",
    "    disp(img_b_transformed_drawn)\n",
    "\n",
    "    return img_a, img_b_transformed\n",
    "    "
   ]
  },
  {
   "cell_type": "markdown",
   "metadata": {},
   "source": [
    "### Apply filters to images"
   ]
  },
  {
   "cell_type": "code",
   "execution_count": null,
   "metadata": {},
   "outputs": [],
   "source": [
    "def apply_filters_to_images(img_a, img_b, sigma_low_pass=40, sigma_high_pass=40, img_b_weight=0.5, vmin=6, vmax=18, result_name='result'):\n",
    "\n",
    "    if sigma_low_pass%2==0:\n",
    "        sigma_low_pass+=1\n",
    "    \n",
    "    if sigma_high_pass%2==0:\n",
    "        sigma_high_pass+=1\n",
    "        \n",
    "    # second image is between 0 and 1 now\n",
    "    img_b = img_b.astype(np.float32)/255\n",
    "    img_a = img_a.astype(np.float32)/255\n",
    "\n",
    "    # Apply gaussian blur to the first image\n",
    "    img_a_blur = cv2.GaussianBlur(img_a, ksize=(sigma_low_pass, sigma_low_pass), sigmaX=0)\n",
    "\n",
    "    # Apply gaussian blur to the second image\n",
    "    img_b_blur = cv2.GaussianBlur(img_b, ksize=(sigma_high_pass, sigma_high_pass), sigmaX=0)\n",
    "\n",
    "    # img_b_diff is between -1, 1\n",
    "    img_b_diff = (img_b - img_b_blur)\n",
    "\n",
    "\n",
    "    #http://www.simplefilter.de/en/basics/mixmods.html\n",
    "    img_result = ((2*img_a_blur + img_b_weight*img_b_diff-1)+1)/2\n",
    "\n",
    "    # Constrast enhancement\n",
    "    img_result -= img_result.min()\n",
    "    img_result /= img_result.max()\n",
    "    img_result = (255 * img_result).astype(np.uint8)\n",
    "\n",
    "    # Convert images back to 0-255 for display\n",
    "    img_a = (img_a*255).astype(np.uint8)\n",
    "    img_b = (img_b*255).astype(np.uint8)\n",
    "    img_a_blur = (img_a_blur*255).astype(np.uint8)\n",
    "    img_b_diff = ((img_b_diff+1)*127).astype(np.uint8)\n",
    "\n",
    "    mag_a, _ = fourier_analysis(img_a[:,:,0])\n",
    "    mag_b, _ = fourier_analysis(img_b[:,:,0])\n",
    "    mag_a_blur, _ = fourier_analysis(img_a_blur[:,:,0])\n",
    "    mag_b_diff, _ = fourier_analysis(img_b_diff[:,:,0])\n",
    "    mag_result, _ = fourier_analysis(img_result[:,:,0])\n",
    "\n",
    "    # Plot The process\n",
    "    fig, axs = plt.subplots(2,4, figsize=(16,8), constrained_layout=True)\n",
    "    for ax in axs.ravel():\n",
    "        ax.set_axis_off()\n",
    "\n",
    "    axs[0,0].set_title('A')\n",
    "    axs[0,1].set_title('A Fourier')\n",
    "    axs[0,2].set_title('A Lowpass')\n",
    "    axs[0,3].set_title('A Lowpass Fourier')\n",
    "\n",
    "    axs[1,0].set_title('B')\n",
    "    axs[1,1].set_title('B Fourier')\n",
    "    axs[1,2].set_title('B Highpass')\n",
    "    axs[1,3].set_title('B Highpass Fourier')\n",
    "\n",
    "    axs[0,0].imshow(img_a, cmap='gray')\n",
    "    axs[0,1].imshow(np.log(mag_a), cmap='gray', vmin=vmin, vmax=vmax)\n",
    "    axs[0,2].imshow(img_a_blur, cmap='gray')\n",
    "    axs[0,3].imshow(np.log(mag_a_blur), cmap='gray', vmin=vmin, vmax=vmax)\n",
    "\n",
    "    axs[1,0].imshow(img_b, cmap='gray')\n",
    "    axs[1,1].imshow(np.log(mag_b), cmap='gray', vmin=vmin, vmax=vmax)\n",
    "    axs[1,2].imshow(img_b_diff, cmap='gray')\n",
    "    axs[1,3].imshow(np.log(mag_b_diff), cmap='gray', vmin=vmin, vmax=vmax)\n",
    "    plt.show()\n",
    "\n",
    "\n",
    "    # Plot The result and its Fourier\n",
    "    fig, axs = plt.subplots(1,3, figsize=(15,5), constrained_layout=True)\n",
    "    fig.suptitle(result_name)\n",
    "    axs[0].set_axis_off()\n",
    "    axs[1].set_axis_off()\n",
    "    axs[2].set_axis_off()\n",
    "    axs[0].imshow(img_a, cmap='gray')\n",
    "    axs[1].imshow(img_b, cmap='gray')\n",
    "    axs[2].imshow(img_result, cmap='gray')\n",
    "    plt.show()\n",
    "\n",
    "    fig, axs = plt.subplots(1,2, figsize=(8,4), constrained_layout=True)\n",
    "    fig.suptitle(result_name)\n",
    "    axs[0].set_axis_off()\n",
    "    axs[1].set_axis_off()\n",
    "    axs[0].imshow(img_result, cmap='gray')\n",
    "    axs[1].imshow(np.log(mag_result), cmap='gray', vmin=vmin, vmax=vmax)\n",
    "    plt.show()\n",
    "\n",
    "    # current timestamp\n",
    "    timestamp = datetime.datetime.now().strftime(\"%Y%m%d_%H%M%S\")\n",
    "    if len(img_result.shape)==3:\n",
    "        cv2.imwrite(f\"{result_name}_{timestamp}.png\", bgr(img_result))\n",
    "    else:\n",
    "        cv2.imwrite(f\"{result_name}_{timestamp}.png\", img_result)\n",
    "    \n",
    "    return img_a_blur, img_b_diff, img_result\n",
    "    "
   ]
  },
  {
   "cell_type": "markdown",
   "metadata": {},
   "source": [
    "### Animate zoom"
   ]
  },
  {
   "cell_type": "code",
   "execution_count": null,
   "metadata": {},
   "outputs": [],
   "source": [
    "def animate_zoom(a,b,c, n_frames=20, s=12):\n",
    "    '''\n",
    "    a,b,c = blurred_image, detail_image, mix_image\n",
    "    '''\n",
    "    img = c\n",
    "    scaled_img = np.zeros_like(img)\n",
    "\n",
    "    fig, ax = plt.subplots(1,3, figsize=(s,s/3), constrained_layout=True)\n",
    "\n",
    "    ax[0].set_axis_off()\n",
    "    ax[1].set_axis_off()\n",
    "    ax[2].set_axis_off()\n",
    "\n",
    "    ax[0].imshow(a);\n",
    "    ax[1].imshow(b);\n",
    "    d = ax[2].imshow(scaled_img);\n",
    "\n",
    "\n",
    "    def animate(i):\n",
    "        scaled_img = np.zeros_like(img)\n",
    "        alpha = (n_frames-i)/float(n_frames)\n",
    "        resized_img = cv2.resize(img, (int(img.shape[1]*(alpha)), int(img.shape[0]*(alpha))))\n",
    "        h,w,_ = resized_img.shape\n",
    "        scaled_img[:h, :w] = resized_img\n",
    "        d.set_data(scaled_img);\n",
    "\n",
    "    anim = animation.FuncAnimation(fig, animate, frames=np.arange(0, n_frames, 1));\n",
    "\n",
    "    display(HTML(anim.to_jshtml(24)));"
   ]
  },
  {
   "cell_type": "markdown",
   "metadata": {},
   "source": [
    "## Load Images"
   ]
  },
  {
   "cell_type": "code",
   "execution_count": null,
   "metadata": {},
   "outputs": [],
   "source": [
    "einstein_img_old =      rgb(cv2.imread('inputs/P5/ein.png'))\n",
    "monroe_img_old   =   rgb(cv2.imread('inputs/P5/monroe.png'))\n",
    "\n",
    "raisi_img_old    =    rgb(cv2.imread('inputs/P5/raisi.png'))\n",
    "rouhani_img_old  =  rgb(cv2.imread('inputs/P5/rouhani.png'))\n",
    "\n",
    "trump_img_old    =    rgb(cv2.imread('inputs/P5/trump.png'))\n",
    "biden_img_old    =    rgb(cv2.imread('inputs/P5/biden.png'))\n",
    "\n",
    "\n",
    "einstein_img =      rgb(cv2.imread('inputs/P5/ein2.png'))\n",
    "monroe_img   =   rgb(cv2.imread('inputs/P5/monroe2.png'))\n",
    "\n",
    "raisi_img    =    rgb(cv2.imread('inputs/P5/raisi2.png'))\n",
    "rouhani_img  =  rgb(cv2.imread('inputs/P5/rouhani2.png'))\n",
    "\n",
    "trump_img    =    rgb(cv2.imread('inputs/P5/trump2.png'))\n",
    "biden_img    =    rgb(cv2.imread('inputs/P5/biden2.png'))\n",
    "\n",
    "elijah_img    =  rgb(cv2.imread('inputs/P5/elijah2.png'))\n",
    "daniel_img    =  rgb(cv2.imread('inputs/P5/daniel2.png'))"
   ]
  },
  {
   "cell_type": "markdown",
   "metadata": {},
   "source": [
    "## A) Align Images"
   ]
  },
  {
   "cell_type": "code",
   "execution_count": null,
   "metadata": {},
   "outputs": [],
   "source": [
    "_, einstein_img_aligned = align_images(monroe_img_old, einstein_img_old, name_a=\"monroe\", name_b=\"einstein\")\n",
    "print(\"Monroe shape:\", monroe_img_old.shape)\n",
    "print(\"Einstein shape:\", einstein_img_old.shape)\n",
    "print(\"Aligned Einstein shape:\", einstein_img_aligned.shape)\n"
   ]
  },
  {
   "cell_type": "code",
   "execution_count": null,
   "metadata": {},
   "outputs": [],
   "source": [
    "_, rouhani_img_aligned = align_images(raisi_img_old, rouhani_img_old, name_a=\"raisi\", name_b=\"rouhani\")\n",
    "print(\"Raisi shape:\", raisi_img_old.shape)\n",
    "print(\"Rouhani shape:\", rouhani_img_old.shape)\n",
    "print(\"Aligned Rouhani shape:\", rouhani_img_aligned.shape)\n"
   ]
  },
  {
   "cell_type": "code",
   "execution_count": null,
   "metadata": {},
   "outputs": [],
   "source": [
    "_, biden_img_aligned = align_images(trump_img_old, biden_img_old, name_a=\"trump\", name_b=\"biden\")\n",
    "print(\"Biden shape:\", biden_img_old.shape)\n",
    "print(\"Trump shape:\", trump_img_old.shape)\n",
    "print(\"Aligned Trump shape:\", biden_img_aligned.shape)"
   ]
  },
  {
   "cell_type": "markdown",
   "metadata": {},
   "source": [
    "## B, C, D) Apply Filters and Visualize"
   ]
  },
  {
   "cell_type": "markdown",
   "metadata": {},
   "source": [
    "### Monstein"
   ]
  },
  {
   "cell_type": "code",
   "execution_count": null,
   "metadata": {},
   "outputs": [],
   "source": [
    "a, b, c = apply_filters_to_images(monroe_img, einstein_img, sigma_low_pass=40, sigma_high_pass=20, img_b_weight=1.3, vmin=5, vmax=17, result_name=\"Marilyn Einstein\")"
   ]
  },
  {
   "cell_type": "code",
   "execution_count": null,
   "metadata": {},
   "outputs": [],
   "source": [
    "animate_zoom(a,b,c,n_frames=20);"
   ]
  },
  {
   "cell_type": "markdown",
   "metadata": {},
   "source": [
    "### Danijah"
   ]
  },
  {
   "cell_type": "code",
   "execution_count": null,
   "metadata": {},
   "outputs": [],
   "source": [
    "a,b,c = apply_filters_to_images(daniel_img, elijah_img, sigma_low_pass=30, sigma_high_pass=15, img_b_weight=1.2, vmin=5, vmax=17, result_name=\"Daniel Woods\")"
   ]
  },
  {
   "cell_type": "markdown",
   "metadata": {},
   "source": [
    "### Raihani"
   ]
  },
  {
   "cell_type": "code",
   "execution_count": null,
   "metadata": {},
   "outputs": [],
   "source": [
    "a,b,c = apply_filters_to_images(raisi_img, rouhani_img, sigma_low_pass=50, sigma_high_pass=15, img_b_weight=1, vmin=5, vmax=17, result_name=\"Ebrahim Rouhani\")"
   ]
  },
  {
   "cell_type": "code",
   "execution_count": null,
   "metadata": {},
   "outputs": [],
   "source": [
    "animate_zoom(a,b,c,n_frames=20);"
   ]
  },
  {
   "cell_type": "markdown",
   "metadata": {},
   "source": [
    "### Triden"
   ]
  },
  {
   "cell_type": "code",
   "execution_count": null,
   "metadata": {},
   "outputs": [],
   "source": [
    "a,b,c = apply_filters_to_images(trump_img_old, biden_img_aligned,  sigma_low_pass=30, sigma_high_pass=40, img_b_weight=1.7, vmin=5, vmax=17, result_name=\"Donald Biden\")"
   ]
  },
  {
   "cell_type": "code",
   "execution_count": null,
   "metadata": {},
   "outputs": [],
   "source": [
    "animate_zoom(a,b,c,n_frames=20);"
   ]
  },
  {
   "cell_type": "code",
   "execution_count": null,
   "metadata": {},
   "outputs": [],
   "source": []
  }
 ],
 "metadata": {
  "interpreter": {
   "hash": "3858431499dcaaf4de29b8b352749eebe871787bd67cf3dfc1982c43a6256c9d"
  },
  "kernelspec": {
   "display_name": "Python 3.10.1 64-bit",
   "language": "python",
   "name": "python3"
  },
  "language_info": {
   "codemirror_mode": {
    "name": "ipython",
    "version": 3
   },
   "file_extension": ".py",
   "mimetype": "text/x-python",
   "name": "python",
   "nbconvert_exporter": "python",
   "pygments_lexer": "ipython3",
   "version": "3.10.1"
  },
  "orig_nbformat": 4
 },
 "nbformat": 4,
 "nbformat_minor": 2
}
