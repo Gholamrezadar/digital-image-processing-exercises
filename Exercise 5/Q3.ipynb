{
 "cells": [
  {
   "cell_type": "code",
   "execution_count": null,
   "metadata": {},
   "outputs": [],
   "source": [
    "import numpy as np\n",
    "import cv2\n",
    "from tqdm import trange\n",
    "import matplotlib.pyplot as plt\n",
    "import seaborn as sns; sns.set(); sns.set_style('dark')"
   ]
  },
  {
   "cell_type": "code",
   "execution_count": null,
   "metadata": {},
   "outputs": [],
   "source": [
    "\n",
    "## Functions\n",
    "def rgb(img):\n",
    "    return cv2.cvtColor(img, cv2.COLOR_BGR2RGB)\n",
    "\n",
    "def bgr(img):\n",
    "    return cv2.cvtColor(img, cv2.COLOR_RGB2BGR)\n",
    "\n",
    "def gray(img):\n",
    "    return cv2.cvtColor(img, cv2.COLOR_RGB2GRAY)\n",
    "\n",
    "def uint8ify(img):\n",
    "    img -= img.min()\n",
    "    img /= img.max()\n",
    "    img *= 255\n",
    "    return np.uint8(img)\n",
    "\n",
    "def overlay(a,b):\n",
    "    # a and b should be float images and between 0-1\n",
    "\n",
    "    mask = a >= 0.5 # generate boolean mask of everywhere a > 0.5 \n",
    "    ab = np.zeros_like(a) # generate an output container for the blended image \n",
    "\n",
    "    # now do the blending \n",
    "    ab[~mask] = (2*a*b)[~mask] # 2ab everywhere a<0.5\n",
    "    ab[mask] = (1-2*(1-a)*(1-b))[mask] # else this\n",
    "    \n",
    "    return ab\n",
    "\n",
    "def disp(img, title='', s=8, vmin=None, vmax=None, write=False, file_name=None):\n",
    "    plt.figure(figsize=(s,s))\n",
    "    plt.axis('off')\n",
    "    if vmin is not None and vmax is not None:\n",
    "        plt.imshow(img, cmap='gray', vmin=vmin, vmax=vmax)\n",
    "    else:\n",
    "        plt.imshow(img, cmap='gray')\n",
    "    plt.title(title)\n",
    "    if write and file_name is not None:\n",
    "        plt.savefig(file_name)\n",
    "    plt.show()\n",
    "    \n",
    "def before_after(img_a, img_b, name=\"\", vmin=None, vmax=None, effect_name=\"Processed\"):\n",
    "    fig, axs = plt.subplots(1,2, constrained_layout=True, figsize=(10,4))\n",
    "    axs[0].axis('off')\n",
    "    axs[1].axis('off')\n",
    "    axs[0].set_title(f\"{name} Original\")\n",
    "    axs[1].set_title(f\"{name} {effect_name}\")\n",
    "    if vmin is not None and vmax is not None:\n",
    "        axs[0].imshow(img_a, cmap='gray', vmin=vmin, vmax=vmax)\n",
    "        axs[1].imshow(img_b, cmap='gray', vmin=vmin, vmax=vmax)\n",
    "    else:\n",
    "        axs[0].imshow(img_a, cmap='gray')\n",
    "        axs[1].imshow(img_b, cmap='gray')\n",
    "    plt.show()\n"
   ]
  },
  {
   "cell_type": "markdown",
   "metadata": {},
   "source": [
    "## Load Images"
   ]
  },
  {
   "cell_type": "code",
   "execution_count": null,
   "metadata": {},
   "outputs": [],
   "source": [
    "img_1 = (cv2.imread(\"cart_1.png\", 0))\n",
    "img_1_rgb = rgb(cv2.imread(\"cart_1.png\"))\n",
    "img_2 = (cv2.imread(\"cart_2.png\", 0))\n",
    "img_2_rgb = rgb(cv2.imread(\"cart_2.png\"))\n",
    "items = []\n",
    "for i in range(12):\n",
    "    items.append(cv2.imread(f\"items/{i+1}.png\", 0))\n",
    "    disp(items[i], s=2)"
   ]
  },
  {
   "cell_type": "code",
   "execution_count": null,
   "metadata": {},
   "outputs": [],
   "source": [
    "names = [\n",
    "    \"Tuna\",\n",
    "    \"Peril\",\n",
    "    \"Pepsi\",\n",
    "    \"Milk\",\n",
    "    \"Tiny\",\n",
    "    \"Crest\",\n",
    "    \"Cake\",\n",
    "    \"Oil\",\n",
    "    \"Maxi\",\n",
    "    \"Shampoo\",\n",
    "    \"Tea\",\n",
    "    \"Chips\"\n",
    "]"
   ]
  },
  {
   "cell_type": "markdown",
   "metadata": {},
   "source": [
    "## Detect Features"
   ]
  },
  {
   "cell_type": "code",
   "execution_count": null,
   "metadata": {},
   "outputs": [],
   "source": [
    "\n",
    "def detect_features(img, nfeatures=500, blur_size=0, edgeThreshold = 31):\n",
    "    if blur_size>0:\n",
    "        img = cv2.GaussianBlur(img, (blur_size,blur_size), None)\n",
    "    # Initiate ORB detector\n",
    "    orb = cv2.ORB_create(nfeatures=nfeatures, edgeThreshold=edgeThreshold)\n",
    "    # find the keypoints with ORB\n",
    "    kp = orb.detect(img,None, )\n",
    "    # compute the descriptors with ORB\n",
    "    kp, des = orb.compute(img, kp)\n",
    "    # draw only keypoints location,not size and orientation\n",
    "    drawn = cv2.drawKeypoints(img, kp, None, color=(255,0,0), flags=0)\n",
    "\n",
    "    return kp, des, drawn"
   ]
  },
  {
   "cell_type": "markdown",
   "metadata": {},
   "source": [
    "### BG No Blur"
   ]
  },
  {
   "cell_type": "code",
   "execution_count": null,
   "metadata": {},
   "outputs": [],
   "source": [
    "kp_img_1, des_img_1, drawn_img_1 = detect_features(img_1, nfeatures=100000)\n",
    "disp(drawn_img_1,\"cart_1 Features\",s=13)\n",
    "\n",
    "kp_img_2, des_img_2, drawn_img_2 = detect_features(img_2, nfeatures=100000)\n",
    "disp(drawn_img_2,\"cart_2 Features\",s=13)"
   ]
  },
  {
   "cell_type": "markdown",
   "metadata": {},
   "source": [
    "### BG Blur"
   ]
  },
  {
   "cell_type": "code",
   "execution_count": null,
   "metadata": {},
   "outputs": [],
   "source": [
    "kp_img_1, des_img_1, drawn_img_1 = detect_features(img_1, nfeatures=13000, blur_size=3, edgeThreshold=31)\n",
    "disp(drawn_img_1,\"cart_1 Features\",s=13)\n",
    "\n",
    "kp_img_2, des_img_2, drawn_img_2 = detect_features(img_2, nfeatures=13000, blur_size=3)\n",
    "disp(drawn_img_2,\"cart_2 Features\",s=13)"
   ]
  },
  {
   "cell_type": "markdown",
   "metadata": {},
   "source": [
    "### Items"
   ]
  },
  {
   "cell_type": "code",
   "execution_count": null,
   "metadata": {},
   "outputs": [],
   "source": [
    "items_kp = []\n",
    "items_des = []\n",
    "for i in range(len(items)):\n",
    "    kp, des, drawn = detect_features(items[i], nfeatures=300)\n",
    "    items_kp.append(kp)\n",
    "    items_des.append(des)\n",
    "    disp(drawn,f\"item_{i} Features\",s=5)"
   ]
  },
  {
   "cell_type": "markdown",
   "metadata": {},
   "source": [
    "## Matching"
   ]
  },
  {
   "cell_type": "code",
   "execution_count": null,
   "metadata": {},
   "outputs": [],
   "source": [
    "def match_features(img_a, img_b, des_a, des_b, kp_a, kp_b, n_matches_to_show=10, ):\n",
    "    # create BFMatcher object\n",
    "    bf = cv2.BFMatcher(cv2.NORM_HAMMING2, crossCheck=True)\n",
    "    # Match descriptors.\n",
    "    matches = bf.match(des_a,des_b)\n",
    "    # Sort them in the order of their distance.\n",
    "    matches = sorted(matches, key = lambda x:x.distance)\n",
    "    drawn = cv2.drawMatches(img_a, kp_a, img_b, kp_b, matches[:n_matches_to_show],None, flags=cv2.DrawMatchesFlags_NOT_DRAW_SINGLE_POINTS)\n",
    "    \n",
    "    return matches, drawn"
   ]
  },
  {
   "cell_type": "code",
   "execution_count": null,
   "metadata": {},
   "outputs": [],
   "source": [
    "for i in trange(len(items)):\n",
    "    matches, drawn = match_features(\n",
    "        img_1, items[i],\n",
    "        des_img_1, items_des[i],\n",
    "        kp_img_1, items_kp[i],\n",
    "        n_matches_to_show=50)\n",
    "\n",
    "    disp(drawn, s=15)\n"
   ]
  },
  {
   "cell_type": "code",
   "execution_count": null,
   "metadata": {},
   "outputs": [],
   "source": [
    "for i in trange(len(items)):\n",
    "    matches, drawn = match_features(\n",
    "        img_2, items[i],\n",
    "        des_img_2, items_des[i],\n",
    "        kp_img_2, items_kp[i],\n",
    "        n_matches_to_show=50)\n",
    "\n",
    "    disp(drawn, s=15)\n"
   ]
  },
  {
   "cell_type": "markdown",
   "metadata": {},
   "source": [
    "## ORB 2 + homography"
   ]
  },
  {
   "cell_type": "code",
   "execution_count": null,
   "metadata": {},
   "outputs": [],
   "source": [
    "def do_hom(img_a, img_b, des1, des2, kp1, kp2, debug=True, min_match_count=100):\n",
    "    img_a = img_a.copy()\n",
    "    img_a_rgb = np.repeat(img_a[:,:,np.newaxis], 3, axis=2)\n",
    "    img_b_rgb = np.repeat(img_b[:,:,np.newaxis], 3, axis=2)\n",
    "    MIN_MATCH_COUNT = min_match_count\n",
    "    FLANN_INDEX_KDTREE = 1\n",
    "    index_params = dict(algorithm = FLANN_INDEX_KDTREE, trees = 5)\n",
    "    search_params = dict(checks = 50)\n",
    "    des1 = np.float32(des1)\n",
    "    des2 = np.float32(des2)\n",
    "    flann = cv2.FlannBasedMatcher(index_params, search_params)\n",
    "    matches = flann.knnMatch(des1,des2,k=2)\n",
    "\n",
    "    # store all the good matches as per Lowe's ratio test.\n",
    "    good = []\n",
    "    for m,n in matches:\n",
    "        if m.distance < 0.7*n.distance:\n",
    "            good.append(m)\n",
    "\n",
    "    if len(good)>MIN_MATCH_COUNT:\n",
    "        src_pts = np.float32([ kp2[m.trainIdx].pt for m in good ]).reshape(-1,1,2)\n",
    "        dst_pts = np.float32([ kp1[m.queryIdx].pt for m in good ]).reshape(-1,1,2)\n",
    "        M, mask = cv2.findHomography(src_pts, dst_pts, cv2.RANSAC,5.0)\n",
    "        matchesMask = mask.ravel().tolist()\n",
    "        h,w = img_b.shape\n",
    "        pts = np.float32([ [0,0],[0,h-1],[w-1,h-1],[w-1,0] ]).reshape(-1,1,2)\n",
    "        dst = cv2.perspectiveTransform(pts,M)\n",
    "        # img_a_rgb = cv2.polylines(img_a_rgb,[np.int32(dst)],True,255,3, cv2.LINE_AA)\n",
    "        img_a = cv2.fillPoly(img_a,[np.int32(dst)],0)\n",
    "        print( \"n_features - {}/{}\".format(len(good), MIN_MATCH_COUNT) )\n",
    "\n",
    "        if debug:\n",
    "            # disp(img_a, s=12)\n",
    "            pass\n",
    "    else:\n",
    "        print( \"Not enough matches are found - {}/{}\".format(len(good), MIN_MATCH_COUNT) )\n",
    "        matchesMask = None\n",
    "        return False, img_a\n",
    "\n",
    "    if debug:\n",
    "        draw_params = dict(\n",
    "        matchColor = (0,255,0), # draw matches in green color\n",
    "        singlePointColor = None,\n",
    "        matchesMask = matchesMask, # draw only inliers\n",
    "        flags = 2)\n",
    "        drawn = cv2.drawMatches(img_a_rgb,kp1,img_b_rgb,kp2,good,None,**draw_params)\n",
    "        disp(drawn, s=12)\n",
    "    return True, img_a"
   ]
  },
  {
   "cell_type": "code",
   "execution_count": null,
   "metadata": {},
   "outputs": [],
   "source": [
    "def find_multiple(img_a, img_b, des1, des2, kp1, kp2, debug=True, min_match_count=100):\n",
    "    img_a = img_a.copy()\n",
    "    ret = True\n",
    "    counter = 0\n",
    "    while ret:\n",
    "        ret, img_a = do_hom(img_a, img_b, des1, des2, kp1, kp2, debug=debug, min_match_count=min_match_count)\n",
    "        kp1, des1, drawn = detect_features(img_a, nfeatures=13000, blur_size=3)\n",
    "        if ret:\n",
    "            counter+=1\n",
    "            print(f\"Counter: {counter}\")\n",
    "    return counter"
   ]
  },
  {
   "cell_type": "markdown",
   "metadata": {},
   "source": [
    "#### Debug Basket 1"
   ]
  },
  {
   "cell_type": "code",
   "execution_count": null,
   "metadata": {},
   "outputs": [],
   "source": [
    "thresholds = [\n",
    "    100,\n",
    "    100,\n",
    "    44,\n",
    "    100,\n",
    "    100,\n",
    "    100,\n",
    "    100,\n",
    "    80,\n",
    "    100,\n",
    "    100,\n",
    "    100,\n",
    "    100\n",
    "]\n",
    "basket_1 = []\n",
    "for i in range(len(items)):\n",
    "    print(\"Counting\", names[i], \"...\")\n",
    "    count = find_multiple(\n",
    "        img_1,\n",
    "        items[i],\n",
    "        des_img_1,\n",
    "        items_des[i],\n",
    "        kp_img_1,\n",
    "        items_kp[i], debug=True, min_match_count=thresholds[i])\n",
    "    print(\"-\"*40)\n",
    "    print()\n",
    "    basket_1.append(count)\n",
    "\n",
    "disp(img_1_rgb, title=\"Basket_1\", s=13)\n",
    "print(\"Basket 1 Summary\")\n",
    "print(\"-\"*15)\n",
    "for i in range(len(basket_1)):\n",
    "    if basket_1[i]>0:\n",
    "        print(f\"{names[i]}\\t: x {basket_1[i]}\")"
   ]
  },
  {
   "cell_type": "markdown",
   "metadata": {},
   "source": [
    "#### No Debug Basket 1"
   ]
  },
  {
   "cell_type": "code",
   "execution_count": null,
   "metadata": {},
   "outputs": [],
   "source": [
    "basket_1 = []\n",
    "for i in range(len(items)):\n",
    "    print(\"Counting\", names[i])\n",
    "    count = find_multiple(\n",
    "        img_1,\n",
    "        items[i],\n",
    "        des_img_1,\n",
    "        items_des[i],\n",
    "        kp_img_1,\n",
    "        items_kp[i], debug=True, min_match_count=thresholds[i])\n",
    "    print(\"-\"*40)\n",
    "    print()\n",
    "    basket_1.append(count)\n",
    "\n",
    "disp(img_1_rgb, title=\"Basket_1\", s=13)\n",
    "print(\"Basket 1 Summary\")\n",
    "print(\"-\"*15)\n",
    "for i in range(len(basket_1)):\n",
    "    if basket_1[i]>0:\n",
    "        print(f\"{names[i]}\\t: x {basket_1[i]}\")"
   ]
  },
  {
   "cell_type": "markdown",
   "metadata": {},
   "source": [
    "#### Basket 2"
   ]
  },
  {
   "cell_type": "code",
   "execution_count": null,
   "metadata": {},
   "outputs": [],
   "source": [
    "thresholds2 = [\n",
    "    45,\n",
    "    100,\n",
    "    30,\n",
    "    100,\n",
    "    70,\n",
    "    50,\n",
    "    45,\n",
    "    50,\n",
    "    50,\n",
    "    85,\n",
    "    85,\n",
    "    50\n",
    "]\n",
    "\n",
    "names = [\n",
    "    \"Tuna\",\n",
    "    \"Peril\",\n",
    "    \"Pepsi\",\n",
    "    \"Milk\",\n",
    "    \"Tiny\",\n",
    "    \"Crest\",\n",
    "    \"Cake\",\n",
    "    \"Oil\",\n",
    "    \"Maxi\",\n",
    "    \"Shampoo\",\n",
    "    \"Tea\",\n",
    "    \"Chips\"\n",
    "]\n",
    "basket_2 = []\n",
    "for i in range(len(items)):\n",
    "    print(\"Counting\", names[i], \"...\")\n",
    "    count = find_multiple(\n",
    "        img_2,\n",
    "        items[i],\n",
    "        des_img_2,\n",
    "        items_des[i],\n",
    "        kp_img_2,\n",
    "        items_kp[i], debug=True, min_match_count=thresholds2[i])\n",
    "    print(\"-\"*40)\n",
    "    print()\n",
    "    basket_2.append(count)\n",
    "\n",
    "disp(img_2_rgb, title=\"Basket_2\", s=13)\n",
    "print(\"Basket 2 Summary\")\n",
    "print(\"-\"*15)\n",
    "for i in range(len(basket_2)):\n",
    "    if basket_2[i]>0:\n",
    "        print(f\"{names[i]}\\t: x {basket_2[i]}\")"
   ]
  },
  {
   "cell_type": "code",
   "execution_count": null,
   "metadata": {},
   "outputs": [],
   "source": [
    "thresholds2 = [\n",
    "    45,\n",
    "    100,\n",
    "    30,\n",
    "    100,\n",
    "    70,\n",
    "    50,\n",
    "    45,\n",
    "    50,\n",
    "    50,\n",
    "    85,\n",
    "    85,\n",
    "    50\n",
    "]\n",
    "\n",
    "names = [\n",
    "    \"Tuna\",\n",
    "    \"Peril\",\n",
    "    \"Pepsi\",\n",
    "    \"Milk\",\n",
    "    \"Tiny\",\n",
    "    \"Crest\",\n",
    "    \"Cake\",\n",
    "    \"Oil\",\n",
    "    \"Maxi\",\n",
    "    \"Shampoo\",\n",
    "    \"Tea\",\n",
    "    \"Chips\"\n",
    "]\n",
    "basket_2 = []\n",
    "for i in range(len(items)):\n",
    "    print(\"Counting\", names[i], \"...\")\n",
    "    count = find_multiple(\n",
    "        img_2,\n",
    "        items[i],\n",
    "        des_img_2,\n",
    "        items_des[i],\n",
    "        kp_img_2,\n",
    "        items_kp[i], debug=False, min_match_count=thresholds2[i])\n",
    "    print(\"-\"*40)\n",
    "    print()\n",
    "    basket_2.append(count)\n",
    "\n",
    "disp(img_2_rgb, title=\"Basket_2\", s=13)\n",
    "print(\"Basket 2 Summary\")\n",
    "print(\"-\"*15)\n",
    "for i in range(len(basket_2)):\n",
    "    if basket_2[i]>0:\n",
    "        print(f\"{names[i]}\\t: x {basket_2[i]}\")"
   ]
  },
  {
   "cell_type": "markdown",
   "metadata": {},
   "source": [
    "## Template Matching"
   ]
  },
  {
   "cell_type": "code",
   "execution_count": null,
   "metadata": {},
   "outputs": [],
   "source": [
    "def template_match(img_a, img_b, img_a_rgb, threshold=0.9, debug=True, name=None):\n",
    "    # make a copy because we are going to change the content of this image\n",
    "    if debug:\n",
    "        img_display = img_a_rgb.copy()\n",
    "\n",
    "    # size of the template\n",
    "    h, w = img_b.shape[:2]\n",
    "\n",
    "    # Template matching\n",
    "    result = cv2.matchTemplate(img_a, img_b, cv2.TM_CCOEFF_NORMED)\n",
    "    cv2.normalize( result, result, 0, 1, cv2.NORM_MINMAX, -1 )\n",
    "\n",
    "    # Pad the result to match the size of img_a and make it rgb in order to draw colored rectangles on it\n",
    "    if debug:\n",
    "        result_padded = np.zeros_like(img_a)\n",
    "        result_padded[img_b.shape[0]//2:img_b.shape[0]//2+result.shape[0],img_b.shape[1]//2:img_b.shape[1]//2+result.shape[1]] = result*255\n",
    "        result_padded = np.repeat(result_padded[:, :, np.newaxis], 3, axis=2)\n",
    "    \n",
    "    # Only count those points with high enough matching score\n",
    "    max_val = 1\n",
    "    matched_points = []\n",
    "    while max_val > threshold:\n",
    "        min_val, max_val, min_loc, max_loc = cv2.minMaxLoc(result)\n",
    "        matchLoc = max_loc\n",
    "        \n",
    "        if max_val > threshold:\n",
    "            matched_points.append(matchLoc)\n",
    "\n",
    "            # Delete the already matched pixels(to be able to match the other ones next time)\n",
    "            result[max(matchLoc[1]-h//2, 0):min(matchLoc[1]+h//2, result.shape[0]), max(matchLoc[0]-w//2, 0):min(matchLoc[0]+w//2, result.shape[1])] = 0\n",
    "\n",
    "            if debug:\n",
    "                # Draw rectangle on the source rgb image\n",
    "                cv2.rectangle(\n",
    "                    img_display,\n",
    "                    (matchLoc[0], matchLoc[1]),\n",
    "                    (matchLoc[0] + w, matchLoc[1] + h),\n",
    "                    (255,0,0), 8, 6, 0 )\n",
    "\n",
    "                # Draw rectangle on the padded result image\n",
    "                cv2.rectangle(\n",
    "                    result_padded, \n",
    "                    (matchLoc[0], matchLoc[1]),\n",
    "                    (matchLoc[0] + w, matchLoc[1] + h),\n",
    "                    (0,0,255), 8, 6, 0 )\n",
    "\n",
    "    if debug:\n",
    "        if name is None:\n",
    "            disp(img_display, s=13)\n",
    "            disp(result_padded, s=13)\n",
    "        else:\n",
    "            disp(img_display, s=13, title=f\"{name} Matched\", write=False, file_name=f\"item_{name}_Matched_plt.png\")\n",
    "            disp(result_padded, s=13, title=f\"{name} Match Score\", write=False, file_name=f\"item_{name}_Match_score_plt.png\")\n",
    "            cv2.imwrite(f\"item_{name}_Matched.png\", bgr(img_display))\n",
    "            cv2.imwrite(f\"item_{name}_Match_score.png\", bgr(result_padded))\n",
    "\n",
    "    return matched_points"
   ]
  },
  {
   "cell_type": "code",
   "execution_count": null,
   "metadata": {},
   "outputs": [],
   "source": [
    "matched_points = template_match(img_1, items[0], img_1_rgb, threshold=0.9, name=names[0])\n",
    "print(\"matched_points:\", len(matched_points))"
   ]
  },
  {
   "cell_type": "markdown",
   "metadata": {},
   "source": [
    "### Image_1"
   ]
  },
  {
   "cell_type": "code",
   "execution_count": null,
   "metadata": {},
   "outputs": [],
   "source": [
    "basket_1 = []\n",
    "for i in trange(len(items)):\n",
    "    matched_points = template_match(img_1, items[i], img_1_rgb, threshold=0.9, debug=False, name=names[i])\n",
    "    basket_1.append(len(matched_points))\n",
    "\n",
    "print(\"Basket 1 Summary\")\n",
    "print(\"-\"*15)\n",
    "for i in range(len(basket_1)):\n",
    "    if basket_1[i]>0:\n",
    "        print(f\"{names[i]}\\t: x {basket_1[i]}\")\n"
   ]
  },
  {
   "cell_type": "code",
   "execution_count": null,
   "metadata": {},
   "outputs": [],
   "source": [
    "basket_2 = []\n",
    "for i in trange(len(items)):\n",
    "    matched_points = template_match(img_2, items[i], img_2_rgb, threshold=0.9, debug=True, name=names[i])\n",
    "    basket_2.append(len(matched_points))\n",
    "\n",
    "print(\"Basket 2 Summary\")\n",
    "print(\"-\"*15)\n",
    "for i in range(len(basket_2)):\n",
    "    if basket_2[i]>0:\n",
    "        print(f\"{names[i]}\\t: x {basket_2[i]}\")\n"
   ]
  }
 ],
 "metadata": {
  "kernelspec": {
   "display_name": "Python 3.9.1 64-bit",
   "language": "python",
   "name": "python3"
  },
  "language_info": {
   "codemirror_mode": {
    "name": "ipython",
    "version": 3
   },
   "file_extension": ".py",
   "mimetype": "text/x-python",
   "name": "python",
   "nbconvert_exporter": "python",
   "pygments_lexer": "ipython3",
   "version": "3.9.1"
  },
  "orig_nbformat": 4,
  "vscode": {
   "interpreter": {
    "hash": "81794d4967e6c3204c66dcd87b604927b115b27c00565d3d43f05ba2f3a2cb0d"
   }
  }
 },
 "nbformat": 4,
 "nbformat_minor": 2
}
