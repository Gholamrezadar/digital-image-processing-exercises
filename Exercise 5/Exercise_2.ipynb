{
 "cells": [
  {
   "cell_type": "markdown",
   "metadata": {},
   "source": [
    "# Digital Image Processing Exercise 5_2\n",
    "\n",
    "Dr. Rahmati\n",
    "\n",
    "By: Gholamreza Dar\n",
    "\n",
    "Summer 2022"
   ]
  },
  {
   "cell_type": "markdown",
   "metadata": {},
   "source": [
    "## Imports"
   ]
  },
  {
   "cell_type": "code",
   "execution_count": null,
   "metadata": {},
   "outputs": [],
   "source": [
    "import numpy as np\n",
    "\n",
    "import matplotlib.pyplot as plt\n",
    "import seaborn as sns; sns.set(); sns.set_style('dark')\n",
    "\n",
    "import cv2\n"
   ]
  },
  {
   "cell_type": "markdown",
   "metadata": {},
   "source": [
    "## Functions"
   ]
  },
  {
   "cell_type": "code",
   "execution_count": null,
   "metadata": {},
   "outputs": [],
   "source": [
    "def rgb(img):\n",
    "    return cv2.cvtColor(img, cv2.COLOR_BGR2RGB)\n",
    "\n",
    "def bgr(img):\n",
    "    return cv2.cvtColor(img, cv2.COLOR_RGB2BGR)\n",
    "\n",
    "def gray(img):\n",
    "    return cv2.cvtColor(img, cv2.COLOR_RGB2GRAY)\n",
    "\n",
    "def disp(img, title='', s=8, vmin=None, vmax=None):\n",
    "    plt.figure(figsize=(s,s))\n",
    "    plt.axis('off')\n",
    "    if vmin is not None and vmax is not None:\n",
    "        plt.imshow(img, cmap='gray', vmin=vmin, vmax=vmax)\n",
    "    else:\n",
    "        plt.imshow(img, cmap='gray')\n",
    "    plt.title(title)\n",
    "    plt.show()"
   ]
  },
  {
   "cell_type": "markdown",
   "metadata": {},
   "source": [
    "## Loading Images"
   ]
  },
  {
   "cell_type": "code",
   "execution_count": null,
   "metadata": {},
   "outputs": [],
   "source": [
    "img_a = gray(rgb(cv2.imread('inputs/P2/biden_fall_1.png'))).astype(np.float32)\n",
    "img_b = gray(rgb(cv2.imread('inputs/P2/biden_fall_2.png'))).astype(np.float32)\n",
    "img_c = gray(rgb(cv2.imread('inputs/P2/biden_fall_3.png'))).astype(np.float32)\n",
    "\n",
    "img_c_rgb = rgb(cv2.imread('inputs/P2/biden_fall_3.png')).astype(np.float32)\n",
    "\n",
    "disp(img_a, 'img_a')"
   ]
  },
  {
   "cell_type": "markdown",
   "metadata": {},
   "source": [
    "## A) 2nd Derivative - Dilation/Erosion"
   ]
  },
  {
   "cell_type": "code",
   "execution_count": null,
   "metadata": {},
   "outputs": [],
   "source": [
    "def second_derivative_1(img,KERNEL_SIZE=5, ITERS=1, METHOD_NAME=\"\"):\n",
    "    img_dilate = cv2.morphologyEx(img, cv2.MORPH_DILATE, np.ones((KERNEL_SIZE, KERNEL_SIZE), np.float32), iterations=ITERS)\n",
    "    img_erode = cv2.morphologyEx(img, cv2.MORPH_ERODE, np.ones((KERNEL_SIZE, KERNEL_SIZE), np.float32), iterations=ITERS)\n",
    "    \n",
    "    img_second_derivative = img - ((img_dilate + img_erode) * 0.5)\n",
    "\n",
    "    disp(img_second_derivative, f\"{METHOD_NAME}_{ITERS}_iters\")\n",
    "    cv2.imwrite(f'outputs/P2/image_b_{METHOD_NAME}_{ITERS}_iters.png', img_second_derivative)\n",
    "\n",
    "second_derivative_1(img_a, KERNEL_SIZE=5, ITERS=1, METHOD_NAME='Second_Derivative_Dilate-Erode')\n",
    "second_derivative_1(img_a, KERNEL_SIZE=5, ITERS=2, METHOD_NAME='Second_Derivative_Dilate-Erode')\n",
    "second_derivative_1(img_a, KERNEL_SIZE=5, ITERS=3, METHOD_NAME='Second_Derivative_Dilate-Erode')"
   ]
  },
  {
   "cell_type": "markdown",
   "metadata": {},
   "source": [
    "## B) 2nd Derivative - Opening/Closing"
   ]
  },
  {
   "cell_type": "code",
   "execution_count": null,
   "metadata": {},
   "outputs": [],
   "source": [
    "def second_derivative_2(img,KERNEL_SIZE=5, ITERS=1, METHOD_NAME=\"\"):\n",
    "    img_open = cv2.morphologyEx(img, cv2.MORPH_OPEN, np.ones((KERNEL_SIZE, KERNEL_SIZE), np.float32), iterations=ITERS)\n",
    "    img_close = cv2.morphologyEx(img, cv2.MORPH_CLOSE, np.ones((KERNEL_SIZE, KERNEL_SIZE), np.float32), iterations=ITERS)\n",
    "    \n",
    "    img_second_derivative = img - ((img_close + img_open) * 0.5)\n",
    "\n",
    "    disp(img_second_derivative, f\"{METHOD_NAME}_{ITERS}_iters\")\n",
    "    cv2.imwrite(f'outputs/P2/image_b_{METHOD_NAME}_{ITERS}_iters.png', img_second_derivative)\n",
    "\n",
    "second_derivative_2(img_a, KERNEL_SIZE=5, ITERS=1, METHOD_NAME='Second_Derivative_Open-Close')\n",
    "second_derivative_2(img_a, KERNEL_SIZE=5, ITERS=2, METHOD_NAME='Second_Derivative_Open-Close')\n",
    "second_derivative_2(img_a, KERNEL_SIZE=5, ITERS=3, METHOD_NAME='Second_Derivative_Open-Close')"
   ]
  },
  {
   "cell_type": "markdown",
   "metadata": {},
   "source": [
    "## C) 2nd Derivative - ALL"
   ]
  },
  {
   "cell_type": "code",
   "execution_count": null,
   "metadata": {},
   "outputs": [],
   "source": [
    "def second_derivative_3(img,KERNEL_SIZE=5, ITERS=1, METHOD_NAME=\"\"):\n",
    "    img_dilate = cv2.morphologyEx(img, cv2.MORPH_DILATE, np.ones((KERNEL_SIZE, KERNEL_SIZE), np.float32), iterations=ITERS)\n",
    "    img_erode = cv2.morphologyEx(img, cv2.MORPH_ERODE, np.ones((KERNEL_SIZE, KERNEL_SIZE), np.float32), iterations=ITERS)\n",
    "    img_open = cv2.morphologyEx(img, cv2.MORPH_OPEN, np.ones((KERNEL_SIZE, KERNEL_SIZE), np.float32), iterations=ITERS)\n",
    "    img_close = cv2.morphologyEx(img, cv2.MORPH_CLOSE, np.ones((KERNEL_SIZE, KERNEL_SIZE), np.float32), iterations=ITERS)\n",
    "    \n",
    "    img_second_derivative = (img_close + img_open - img_dilate - img_erode) * 0.5\n",
    "\n",
    "    disp(img_second_derivative, f\"{METHOD_NAME}_{ITERS}_iters\")\n",
    "    cv2.imwrite(f'outputs/P2/image_b_{METHOD_NAME}_{ITERS}_iters.png', img_second_derivative)\n",
    "\n",
    "second_derivative_3(img_a, KERNEL_SIZE=5, ITERS=1, METHOD_NAME='Second_Derivative_ALL')\n",
    "second_derivative_3(img_a, KERNEL_SIZE=5, ITERS=2, METHOD_NAME='Second_Derivative_ALL')\n",
    "second_derivative_3(img_a, KERNEL_SIZE=5, ITERS=3, METHOD_NAME='Second_Derivative_ALL')"
   ]
  },
  {
   "cell_type": "markdown",
   "metadata": {},
   "source": [
    "## D) Gradient - Dilation/Erosion"
   ]
  },
  {
   "cell_type": "code",
   "execution_count": null,
   "metadata": {},
   "outputs": [],
   "source": [
    "def gradient_1(img,KERNEL_SIZE=5, ITERS=1, METHOD_NAME=\"\"):\n",
    "    img_dilate = cv2.morphologyEx(img, cv2.MORPH_DILATE, np.ones((KERNEL_SIZE, KERNEL_SIZE), np.float32), iterations=ITERS)\n",
    "    img_erode = cv2.morphologyEx(img, cv2.MORPH_ERODE, np.ones((KERNEL_SIZE, KERNEL_SIZE), np.float32), iterations=ITERS)\n",
    "    \n",
    "    img_gradient = img_dilate - img_erode\n",
    "\n",
    "    disp(img_gradient, f\"{METHOD_NAME}_{ITERS}_iters\")\n",
    "    cv2.imwrite(f'outputs/P2/image_b_{METHOD_NAME}_{ITERS}_iters.png', img_gradient)\n",
    "\n",
    "gradient_1(img_b, KERNEL_SIZE=5, ITERS=1, METHOD_NAME='Gradient_Dilate-Erode')\n",
    "gradient_1(img_b, KERNEL_SIZE=5, ITERS=2, METHOD_NAME='Gradient_Dilate-Erode')\n",
    "gradient_1(img_b, KERNEL_SIZE=5, ITERS=3, METHOD_NAME='Gradient_Dilate-Erode')"
   ]
  },
  {
   "cell_type": "markdown",
   "metadata": {},
   "source": [
    "## E) Gradient - Opening/Closing"
   ]
  },
  {
   "cell_type": "code",
   "execution_count": null,
   "metadata": {},
   "outputs": [],
   "source": [
    "def gradient_2(img,KERNEL_SIZE=5, ITERS=1, METHOD_NAME=\"\"):\n",
    "    img_open = cv2.morphologyEx(img, cv2.MORPH_OPEN, np.ones((KERNEL_SIZE, KERNEL_SIZE), np.float32), iterations=ITERS)\n",
    "    img_close = cv2.morphologyEx(img, cv2.MORPH_CLOSE, np.ones((KERNEL_SIZE, KERNEL_SIZE), np.float32), iterations=ITERS)\n",
    "    \n",
    "    img_gradient = img_close - img_open\n",
    "\n",
    "    disp(img_gradient, f\"{METHOD_NAME}_{ITERS}_iters\")\n",
    "    cv2.imwrite(f'outputs/P2/image_b_{METHOD_NAME}_{ITERS}_iters.png', img_gradient)\n",
    "\n",
    "gradient_2(img_b, KERNEL_SIZE=5, ITERS=1, METHOD_NAME='Gradient_Open-Close')\n",
    "gradient_2(img_b, KERNEL_SIZE=5, ITERS=2, METHOD_NAME='Gradient_Open-Close')\n",
    "gradient_2(img_b, KERNEL_SIZE=5, ITERS=3, METHOD_NAME='Gradient_Open-Close')"
   ]
  },
  {
   "cell_type": "markdown",
   "metadata": {},
   "source": [
    "## E) Gradient - ALL"
   ]
  },
  {
   "cell_type": "code",
   "execution_count": null,
   "metadata": {},
   "outputs": [],
   "source": [
    "def gradient_3(img,KERNEL_SIZE=5, ITERS=1, METHOD_NAME=\"\"):\n",
    "    img_dilate = cv2.morphologyEx(img, cv2.MORPH_DILATE, np.ones((KERNEL_SIZE, KERNEL_SIZE), np.float32), iterations=ITERS)\n",
    "    img_erode = cv2.morphologyEx(img, cv2.MORPH_ERODE, np.ones((KERNEL_SIZE, KERNEL_SIZE), np.float32), iterations=ITERS)\n",
    "    img_open = cv2.morphologyEx(img, cv2.MORPH_OPEN, np.ones((KERNEL_SIZE, KERNEL_SIZE), np.float32), iterations=ITERS)\n",
    "    img_close = cv2.morphologyEx(img, cv2.MORPH_CLOSE, np.ones((KERNEL_SIZE, KERNEL_SIZE), np.float32), iterations=ITERS)\n",
    "    \n",
    "    img_gradient = (img_dilate-img_erode)+(img_close - img_open)\n",
    "\n",
    "    disp(img_gradient, f\"{METHOD_NAME}_{ITERS}_iters\")\n",
    "    cv2.imwrite(f'outputs/P2/image_b_{METHOD_NAME}_{ITERS}_iters.png', img_gradient)\n",
    "\n",
    "gradient_3(img_b, KERNEL_SIZE=5, ITERS=1, METHOD_NAME='Gradient_ALL')\n",
    "gradient_3(img_b, KERNEL_SIZE=5, ITERS=2, METHOD_NAME='Gradient_ALL')\n",
    "gradient_3(img_b, KERNEL_SIZE=5, ITERS=3, METHOD_NAME='Gradient_ALL')"
   ]
  },
  {
   "cell_type": "markdown",
   "metadata": {},
   "source": [
    "## F) Smoothing - Dilation/Erosion"
   ]
  },
  {
   "cell_type": "code",
   "execution_count": null,
   "metadata": {},
   "outputs": [],
   "source": [
    "def smoothing_1(img,KERNEL_SIZE=5, ITERS=1, METHOD_NAME=\"\"):\n",
    "    img_dilate = cv2.morphologyEx(img, cv2.MORPH_DILATE, np.ones((KERNEL_SIZE, KERNEL_SIZE), np.float32), iterations=ITERS)\n",
    "    img_erode = cv2.morphologyEx(img, cv2.MORPH_ERODE, np.ones((KERNEL_SIZE, KERNEL_SIZE), np.float32), iterations=ITERS)\n",
    "    \n",
    "    img_smooth = (img_dilate + img_erode) * 0.5\n",
    "\n",
    "    disp(img_smooth, f\"{METHOD_NAME}_{ITERS}_iters\")\n",
    "    cv2.imwrite(f'outputs/P2/image_b_{METHOD_NAME}_{ITERS}_iters.png', img_smooth)\n",
    "\n",
    "smoothing_1(img_c, KERNEL_SIZE=5, ITERS=1, METHOD_NAME='Smoothing_Dilate-Erode')\n",
    "smoothing_1(img_c, KERNEL_SIZE=5, ITERS=2, METHOD_NAME='Smoothing_Dilate-Erode')\n",
    "smoothing_1(img_c, KERNEL_SIZE=5, ITERS=3, METHOD_NAME='Smoothing_Dilate-Erode')"
   ]
  },
  {
   "cell_type": "markdown",
   "metadata": {},
   "source": [
    "## G) Smoothing - Opening/Closing"
   ]
  },
  {
   "cell_type": "code",
   "execution_count": null,
   "metadata": {},
   "outputs": [],
   "source": [
    "def smoothing_2(img,KERNEL_SIZE=5, ITERS=1, METHOD_NAME=\"\"):\n",
    "    img_open = cv2.morphologyEx(img, cv2.MORPH_OPEN, np.ones((KERNEL_SIZE, KERNEL_SIZE), np.float32), iterations=ITERS)\n",
    "    img_close = cv2.morphologyEx(img, cv2.MORPH_CLOSE, np.ones((KERNEL_SIZE, KERNEL_SIZE), np.float32), iterations=ITERS)\n",
    "    \n",
    "    img_smooth = (img_close + img_open) * 0.5\n",
    "\n",
    "    disp(img_smooth, f\"{METHOD_NAME}_{ITERS}_iters\")\n",
    "    cv2.imwrite(f'outputs/P2/image_b_{METHOD_NAME}_{ITERS}_iters.png', img_smooth)\n",
    "\n",
    "smoothing_2(img_c, KERNEL_SIZE=3, ITERS=1, METHOD_NAME='Smoothing_Open-Close')\n",
    "smoothing_2(img_c, KERNEL_SIZE=3, ITERS=2, METHOD_NAME='Smoothing_Open-Close')\n",
    "smoothing_2(img_c, KERNEL_SIZE=3, ITERS=3, METHOD_NAME='Smoothing_Open-Close')"
   ]
  },
  {
   "cell_type": "code",
   "execution_count": null,
   "metadata": {},
   "outputs": [],
   "source": []
  },
  {
   "cell_type": "code",
   "execution_count": null,
   "metadata": {},
   "outputs": [],
   "source": [
    "def u8intify(img):\n",
    "    img-=img.min()\n",
    "    img/=img.max()/255.0\n",
    "    return img.astype(np.uint8)"
   ]
  },
  {
   "cell_type": "code",
   "execution_count": null,
   "metadata": {},
   "outputs": [],
   "source": [
    "def smoothing_1_rgb(img,KERNEL_SIZE=5, ITERS=1, METHOD_NAME=\"\"):\n",
    "    img_result = np.zeros_like(img)\n",
    "    for i in range(3):\n",
    "        img_open = cv2.morphologyEx(img[:,:,i], cv2.MORPH_DILATE, np.ones((KERNEL_SIZE, KERNEL_SIZE), np.float32), iterations=ITERS)\n",
    "        img_close = cv2.morphologyEx(img[:,:,i], cv2.MORPH_ERODE, np.ones((KERNEL_SIZE, KERNEL_SIZE), np.float32), iterations=ITERS)\n",
    "        img_smooth = (img_close + img_open) * 0.5\n",
    "        img_result[:,:,i] = img_smooth.copy()\n",
    "    \n",
    "    disp(u8intify(img_result), f\"{METHOD_NAME}_{ITERS}_iters\")\n",
    "    cv2.imwrite(f'outputs/P2/image_c_rgb_{METHOD_NAME}_{ITERS}_iters.png', bgr(img_result))\n",
    "\n",
    "smoothing_1_rgb(img_c_rgb, KERNEL_SIZE=3, ITERS=1, METHOD_NAME='Smoothing_Dilate-Erode')\n",
    "smoothing_1_rgb(img_c_rgb, KERNEL_SIZE=3, ITERS=2, METHOD_NAME='Smoothing_Dilate-Erode')\n",
    "smoothing_1_rgb(img_c_rgb, KERNEL_SIZE=3, ITERS=3, METHOD_NAME='Smoothing_Dilate-Erode')"
   ]
  },
  {
   "cell_type": "code",
   "execution_count": null,
   "metadata": {},
   "outputs": [],
   "source": [
    "def smoothing_2_rgb(img,KERNEL_SIZE=5, ITERS=1, METHOD_NAME=\"\"):\n",
    "    img_result = np.zeros_like(img)\n",
    "    for i in range(3):\n",
    "        img_open = cv2.morphologyEx(img[:,:,i], cv2.MORPH_OPEN, np.ones((KERNEL_SIZE, KERNEL_SIZE), np.float32), iterations=ITERS)\n",
    "        img_close = cv2.morphologyEx(img[:,:,i], cv2.MORPH_CLOSE, np.ones((KERNEL_SIZE, KERNEL_SIZE), np.float32), iterations=ITERS)\n",
    "        img_smooth = (img_close + img_open) * 0.5\n",
    "        img_result[:,:,i] = img_smooth.copy()\n",
    "    \n",
    "    disp(u8intify(img_result), f\"{METHOD_NAME}_{ITERS}_iters\")\n",
    "    cv2.imwrite(f'outputs/P2/image_c_rgb_{METHOD_NAME}_{ITERS}_iters.png', bgr(img_result))\n",
    "\n",
    "smoothing_2_rgb(img_c_rgb, KERNEL_SIZE=3, ITERS=1, METHOD_NAME='Smoothing_Open-Close')\n",
    "smoothing_2_rgb(img_c_rgb, KERNEL_SIZE=3, ITERS=2, METHOD_NAME='Smoothing_Open-Close')\n",
    "smoothing_2_rgb(img_c_rgb, KERNEL_SIZE=3, ITERS=3, METHOD_NAME='Smoothing_Open-Close')"
   ]
  }
 ],
 "metadata": {
  "kernelspec": {
   "display_name": "Python 3.9.1 64-bit",
   "language": "python",
   "name": "python3"
  },
  "language_info": {
   "codemirror_mode": {
    "name": "ipython",
    "version": 3
   },
   "file_extension": ".py",
   "mimetype": "text/x-python",
   "name": "python",
   "nbconvert_exporter": "python",
   "pygments_lexer": "ipython3",
   "version": "3.9.1"
  },
  "orig_nbformat": 4,
  "vscode": {
   "interpreter": {
    "hash": "81794d4967e6c3204c66dcd87b604927b115b27c00565d3d43f05ba2f3a2cb0d"
   }
  }
 },
 "nbformat": 4,
 "nbformat_minor": 2
}
